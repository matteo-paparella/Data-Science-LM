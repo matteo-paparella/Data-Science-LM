{
  "nbformat": 4,
  "nbformat_minor": 0,
  "metadata": {
    "colab": {
      "name": "Kakfa producer.ipynb",
      "provenance": [],
      "collapsed_sections": []
    },
    "kernelspec": {
      "name": "python3",
      "display_name": "Python 3"
    }
  },
  "cells": [
    {
      "cell_type": "code",
      "metadata": {
        "id": "Xk55O5cIyvSw"
      },
      "source": [
        "from tweepy.streaming import StreamListener\r\n",
        "from tweepy import OAuthHandler\r\n",
        "from tweepy import Stream\r\n",
        "from kafka import KafkaProducer\r\n",
        "import tweepy\r\n",
        "import time\r\n",
        "import json\r\n",
        "\r\n",
        "access_token = \"1204690263744163840-ig6cuyLfDQAiBhLai6w7lTQ8lzpVtB\"\r\n",
        "access_token_secret =  \"T1EWuoEN5HsJWeJx3K3wpQpisSF5iPRIA8GlTGHS6mAUN\"\r\n",
        "consumer_key =  \"MKo1OZHnE5PNsBCiuHf2tnZe3\"\r\n",
        "consumer_secret =  \"BRT0P244aXYyJARYusJ1vBNNLMDjD0YwSSv1K0iti6Y0PHYzbz\"\r\n",
        "\r\n",
        "producer = KafkaProducer(bootstrap_servers='Kafka:9092')\r\n",
        "myTopic = 'Tysonjones'\r\n",
        "\r\n",
        "class StdOutListener(StreamListener):\r\n",
        "    def on_status(self, status):\r\n",
        "        msg = [status.user.screen_name, status.user.name, status.text, status.user.followers_count, status.retweet_count, status.user.location, status.created_at, status.entities.get('hashtags')]\r\n",
        "        msgJ = json.dumps(msg, indent=4, sort_keys=True, default=str).encode('utf-8') \r\n",
        "        producer.send(myTopic, msgJ)\r\n",
        "    def on_error(self, status):\r\n",
        "        print (status)\r\n",
        "\r\n",
        "\r\n",
        "if _name_ == '_main_':\r\n",
        "    auth = OAuthHandler(consumer_key, consumer_secret)\r\n",
        "    auth.set_access_token(access_token, access_token_secret)\r\n",
        "    api = tweepy.API(auth)\r\n",
        "    stream = StdOutListener\r\n",
        "    stream = Stream(auth = api.auth, listener=stream())\r\n",
        "    stream.filter(track=['#MikeTyson', '#Tyson', '#IronMike', '#TysonvsJones', '#tysonvsjones', '#TysonJones2020', '#RoyJones', '#Jones', '#RoyJonesJr'], languages=[\"en\"])"
      ],
      "execution_count": null,
      "outputs": []
    }
  ]
}
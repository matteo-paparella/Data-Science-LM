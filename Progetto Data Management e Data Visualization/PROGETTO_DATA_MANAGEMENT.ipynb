{
  "nbformat": 4,
  "nbformat_minor": 0,
  "metadata": {
    "kernelspec": {
      "display_name": "Python 3",
      "language": "python",
      "name": "python3"
    },
    "language_info": {
      "codemirror_mode": {
        "name": "ipython",
        "version": 3
      },
      "file_extension": ".py",
      "mimetype": "text/x-python",
      "name": "python",
      "nbconvert_exporter": "python",
      "pygments_lexer": "ipython3",
      "version": "3.7.4"
    },
    "colab": {
      "name": "PROGETTO DATA MANAGEMENT.ipynb",
      "provenance": [],
      "collapsed_sections": [
        "7tDPpQRWJnl5",
        "m6qHWB_H53D1",
        "CcBktShc53D3",
        "VopRd99B53D9",
        "3HjyLimh53D9",
        "OOFugxBb53D-",
        "JPUOXH-P53EA",
        "Fi-qS-YG53EB",
        "u9YBpVEX53EC",
        "HorspSpi53ED",
        "rsPEKJro53Ea",
        "-v_MZvI653Ef",
        "-S4yPQtI53Ei",
        "FWOEohvV53El",
        "r4XALrfk53Er",
        "A2sSU9H653Ev",
        "YE8gTqBa53Ew",
        "FWI_I3D_53E1"
      ]
    }
  },
  "cells": [
    {
      "cell_type": "code",
      "metadata": {
        "id": "2qfYAbkH53Ck"
      },
      "source": [
        "#CARICAMENTO LIBRERIE\n",
        "import pandas as pd\n",
        "import pymongo\n",
        "import os\n",
        "import datetime as dt\n",
        "from kafka import KafkaProducer\n",
        "from kafka import KafkaConsumer\n",
        "import json\n",
        "import time\n",
        "import random\n",
        "from pymongo import MongoClient\n",
        "import simplejson\n",
        "from twython import Twython\n",
        "from bson.json_util import dumps\n",
        "from bson import json_util\n",
        "from random import randint\n",
        "import re\n",
        "import ekphrasis\n",
        "from ekphrasis.classes.segmenter import Segmenter\n",
        "import preprocessor as p\n",
        "from nltk.corpus import stopwords\n",
        "from nltk.tokenize import word_tokenize\n",
        "from sklearn.feature_extraction.text import TfidfVectorizer\n",
        "from sklearn.model_selection import train_test_split\n",
        "from nltk.stem import PorterStemmer\n",
        "from nltk.stem import WordNetLemmatizer\n",
        "import string\n",
        "from sklearn.metrics import accuracy_score\n",
        "from sklearn.naive_bayes import MultinomialNB\n",
        "from sklearn.linear_model import LogisticRegression\n",
        "from sklearn.svm import SVC\n",
        "from datetime import timedelta\n",
        "import matplotlib.pyplot as plt"
      ],
      "execution_count": null,
      "outputs": []
    },
    {
      "cell_type": "code",
      "metadata": {
        "id": "VBYPI8eh53C6"
      },
      "source": [
        "import numpy as np"
      ],
      "execution_count": null,
      "outputs": []
    },
    {
      "cell_type": "code",
      "metadata": {
        "id": "8u0o4thL53C7"
      },
      "source": [
        "from collections import Counter\n",
        "import pandas as pd\n",
        "import nltk\n",
        "\n",
        "import collections"
      ],
      "execution_count": null,
      "outputs": []
    },
    {
      "cell_type": "markdown",
      "metadata": {
        "id": "OICdw2UG53C7"
      },
      "source": [
        "# SET UP INIZIALE #"
      ]
    },
    {
      "cell_type": "code",
      "metadata": {
        "id": "t8LIMdHs53C-"
      },
      "source": [
        "#MI collego al client mongo e mi associo al Database Progetto:\n",
        "client = MongoClient(\"mongo\")\n",
        "db = client.Progetto"
      ],
      "execution_count": null,
      "outputs": []
    },
    {
      "cell_type": "code",
      "metadata": {
        "id": "sYQj51qh53C-",
        "outputId": "d818827b-7265-4b31-abe3-8ebdf863f8ed"
      },
      "source": [
        "#Recupero la collection di tweets 1 di Gabri:\n",
        "tysonjonesgabri = db.tysonjones_\n",
        "tysonjonesgabri"
      ],
      "execution_count": null,
      "outputs": [
        {
          "output_type": "execute_result",
          "data": {
            "text/plain": [
              "Collection(Database(MongoClient(host=['mongo:27017'], document_class=dict, tz_aware=False, connect=True), 'Progetto'), 'tysonjones_')"
            ]
          },
          "metadata": {
            "tags": []
          },
          "execution_count": 5
        }
      ]
    },
    {
      "cell_type": "code",
      "metadata": {
        "id": "RiAy_xeP53DA",
        "outputId": "06950227-3e13-4895-9d39-8cbc50ba36cf"
      },
      "source": [
        "#Recupero la collection di tweets:\n",
        "tysonjonesteo = db.tysonjones\n",
        "tysonjonesteo"
      ],
      "execution_count": null,
      "outputs": [
        {
          "output_type": "execute_result",
          "data": {
            "text/plain": [
              "Collection(Database(MongoClient(host=['mongo:27017'], document_class=dict, tz_aware=False, connect=True), 'Progetto'), 'tysonjones')"
            ]
          },
          "metadata": {
            "tags": []
          },
          "execution_count": 6
        }
      ]
    },
    {
      "cell_type": "code",
      "metadata": {
        "id": "JNl0kaJv53DA",
        "outputId": "e742e889-e766-4bef-89b3-b96a978840ea"
      },
      "source": [
        "#Vado a caricare i risultati dell'incontro con i punteggi dei cartellini per l'incontro Tyson vs Jones\n",
        "tabellino_incontro = pd.read_csv(\"/Users/matteo/Desktop/DATA SCIENCE/Data Management/Progettto/tabellino_incontro.csv\", sep = ';')\n",
        "tabellino_incontro = tabellino_incontro.drop(['Column 10','Column 11', 'Column 12', 'Column 13', 'Column 14'], axis=1)\n",
        "tabellino_incontro_t = tabellino_incontro.transpose()\n",
        "tabellino_incontro_t"
      ],
      "execution_count": null,
      "outputs": [
        {
          "output_type": "execute_result",
          "data": {
            "text/html": [
              "<div>\n",
              "<style scoped>\n",
              "    .dataframe tbody tr th:only-of-type {\n",
              "        vertical-align: middle;\n",
              "    }\n",
              "\n",
              "    .dataframe tbody tr th {\n",
              "        vertical-align: top;\n",
              "    }\n",
              "\n",
              "    .dataframe thead th {\n",
              "        text-align: right;\n",
              "    }\n",
              "</style>\n",
              "<table border=\"1\" class=\"dataframe\">\n",
              "  <thead>\n",
              "    <tr style=\"text-align: right;\">\n",
              "      <th></th>\n",
              "      <th>0</th>\n",
              "      <th>1</th>\n",
              "    </tr>\n",
              "  </thead>\n",
              "  <tbody>\n",
              "    <tr>\n",
              "      <th>Column 1</th>\n",
              "      <td>Tyson</td>\n",
              "      <td>Jones</td>\n",
              "    </tr>\n",
              "    <tr>\n",
              "      <th>Column 2</th>\n",
              "      <td>10</td>\n",
              "      <td>9</td>\n",
              "    </tr>\n",
              "    <tr>\n",
              "      <th>Column 3</th>\n",
              "      <td>10</td>\n",
              "      <td>9</td>\n",
              "    </tr>\n",
              "    <tr>\n",
              "      <th>Column 4</th>\n",
              "      <td>9</td>\n",
              "      <td>10</td>\n",
              "    </tr>\n",
              "    <tr>\n",
              "      <th>Column 5</th>\n",
              "      <td>10</td>\n",
              "      <td>9</td>\n",
              "    </tr>\n",
              "    <tr>\n",
              "      <th>Column 6</th>\n",
              "      <td>10</td>\n",
              "      <td>9</td>\n",
              "    </tr>\n",
              "    <tr>\n",
              "      <th>Column 7</th>\n",
              "      <td>9</td>\n",
              "      <td>10</td>\n",
              "    </tr>\n",
              "    <tr>\n",
              "      <th>Column 8</th>\n",
              "      <td>9</td>\n",
              "      <td>10</td>\n",
              "    </tr>\n",
              "    <tr>\n",
              "      <th>Column 9</th>\n",
              "      <td>9</td>\n",
              "      <td>10</td>\n",
              "    </tr>\n",
              "  </tbody>\n",
              "</table>\n",
              "</div>"
            ],
            "text/plain": [
              "              0      1\n",
              "Column 1  Tyson  Jones\n",
              "Column 2     10      9\n",
              "Column 3     10      9\n",
              "Column 4      9     10\n",
              "Column 5     10      9\n",
              "Column 6     10      9\n",
              "Column 7      9     10\n",
              "Column 8      9     10\n",
              "Column 9      9     10"
            ]
          },
          "metadata": {
            "tags": []
          },
          "execution_count": 7
        }
      ]
    },
    {
      "cell_type": "code",
      "metadata": {
        "id": "tMlHMxQb53DB"
      },
      "source": [
        "new_header = tabellino_incontro_t.iloc[0] #grab the first row for the header\n",
        "tabellino_incontro_t = tabellino_incontro_t[1:] #take the data less the header row\n",
        "tabellino_incontro_t.columns = new_header #set the header row as the df header"
      ],
      "execution_count": null,
      "outputs": []
    },
    {
      "cell_type": "code",
      "metadata": {
        "id": "rucBgzXJ53DC",
        "outputId": "e7113c7b-479c-465c-bafb-39cd08c5c2c4"
      },
      "source": [
        "tabellino_incontro_t = tabellino_incontro_t.reset_index(drop = True)\n",
        "tabellino_incontro_t = tabellino_incontro_t[[\"Tyson\", \"Jones\"]]\n",
        "tabellino_incontro_t['ROUND'] = range(1, 1 +len(tabellino_incontro_t))\n",
        "tabellino_incontro_t = tabellino_incontro_t.rename(columns={\"Tyson\": \"TYSON_punteggio_sing\", \"Jones\": \"JONES_punteggio_sing\"})\n",
        "tabellino_incontro_t"
      ],
      "execution_count": null,
      "outputs": [
        {
          "output_type": "execute_result",
          "data": {
            "text/html": [
              "<div>\n",
              "<style scoped>\n",
              "    .dataframe tbody tr th:only-of-type {\n",
              "        vertical-align: middle;\n",
              "    }\n",
              "\n",
              "    .dataframe tbody tr th {\n",
              "        vertical-align: top;\n",
              "    }\n",
              "\n",
              "    .dataframe thead th {\n",
              "        text-align: right;\n",
              "    }\n",
              "</style>\n",
              "<table border=\"1\" class=\"dataframe\">\n",
              "  <thead>\n",
              "    <tr style=\"text-align: right;\">\n",
              "      <th>Column 1</th>\n",
              "      <th>TYSON_punteggio_sing</th>\n",
              "      <th>JONES_punteggio_sing</th>\n",
              "      <th>ROUND</th>\n",
              "    </tr>\n",
              "  </thead>\n",
              "  <tbody>\n",
              "    <tr>\n",
              "      <th>0</th>\n",
              "      <td>10</td>\n",
              "      <td>9</td>\n",
              "      <td>1</td>\n",
              "    </tr>\n",
              "    <tr>\n",
              "      <th>1</th>\n",
              "      <td>10</td>\n",
              "      <td>9</td>\n",
              "      <td>2</td>\n",
              "    </tr>\n",
              "    <tr>\n",
              "      <th>2</th>\n",
              "      <td>9</td>\n",
              "      <td>10</td>\n",
              "      <td>3</td>\n",
              "    </tr>\n",
              "    <tr>\n",
              "      <th>3</th>\n",
              "      <td>10</td>\n",
              "      <td>9</td>\n",
              "      <td>4</td>\n",
              "    </tr>\n",
              "    <tr>\n",
              "      <th>4</th>\n",
              "      <td>10</td>\n",
              "      <td>9</td>\n",
              "      <td>5</td>\n",
              "    </tr>\n",
              "    <tr>\n",
              "      <th>5</th>\n",
              "      <td>9</td>\n",
              "      <td>10</td>\n",
              "      <td>6</td>\n",
              "    </tr>\n",
              "    <tr>\n",
              "      <th>6</th>\n",
              "      <td>9</td>\n",
              "      <td>10</td>\n",
              "      <td>7</td>\n",
              "    </tr>\n",
              "    <tr>\n",
              "      <th>7</th>\n",
              "      <td>9</td>\n",
              "      <td>10</td>\n",
              "      <td>8</td>\n",
              "    </tr>\n",
              "  </tbody>\n",
              "</table>\n",
              "</div>"
            ],
            "text/plain": [
              "Column 1 TYSON_punteggio_sing JONES_punteggio_sing  ROUND\n",
              "0                          10                    9      1\n",
              "1                          10                    9      2\n",
              "2                           9                   10      3\n",
              "3                          10                    9      4\n",
              "4                          10                    9      5\n",
              "5                           9                   10      6\n",
              "6                           9                   10      7\n",
              "7                           9                   10      8"
            ]
          },
          "metadata": {
            "tags": []
          },
          "execution_count": 9
        }
      ]
    },
    {
      "cell_type": "code",
      "metadata": {
        "id": "wiSCRV1Y53DH"
      },
      "source": [
        "tabellino_incontro_t[\"TYSON_punteggio_sing\"] = tabellino_incontro_t[\"TYSON_punteggio_sing\"].astype(float)\n",
        "tabellino_incontro_t[\"JONES_punteggio_sing\"] = tabellino_incontro_t[\"JONES_punteggio_sing\"].astype(float)"
      ],
      "execution_count": null,
      "outputs": []
    },
    {
      "cell_type": "code",
      "metadata": {
        "id": "CWlr29qf53DI"
      },
      "source": [
        "tabellino_incontro_t['CUMSUM_punteggio_tyson'] = tabellino_incontro_t[\"TYSON_punteggio_sing\"].cumsum()\n",
        "tabellino_incontro_t['CUMSUM_punteggio_jones'] = tabellino_incontro_t[\"JONES_punteggio_sing\"].cumsum()"
      ],
      "execution_count": null,
      "outputs": []
    },
    {
      "cell_type": "code",
      "metadata": {
        "id": "o4sgY5p253DI",
        "outputId": "c371454e-ae80-44a4-b205-bc9f822ac2b1"
      },
      "source": [
        "#Ottengo quindi il dataset con i risultati per quanto riguarda i tabellini, che sono il punteggio che i giudici assegnano. Il punteggio può andare da un minimo di 8 ad un massimo di 10.\n",
        "tabellino_incontro_t"
      ],
      "execution_count": null,
      "outputs": [
        {
          "output_type": "execute_result",
          "data": {
            "text/html": [
              "<div>\n",
              "<style scoped>\n",
              "    .dataframe tbody tr th:only-of-type {\n",
              "        vertical-align: middle;\n",
              "    }\n",
              "\n",
              "    .dataframe tbody tr th {\n",
              "        vertical-align: top;\n",
              "    }\n",
              "\n",
              "    .dataframe thead th {\n",
              "        text-align: right;\n",
              "    }\n",
              "</style>\n",
              "<table border=\"1\" class=\"dataframe\">\n",
              "  <thead>\n",
              "    <tr style=\"text-align: right;\">\n",
              "      <th>Column 1</th>\n",
              "      <th>TYSON_punteggio_sing</th>\n",
              "      <th>JONES_punteggio_sing</th>\n",
              "      <th>ROUND</th>\n",
              "      <th>CUMSUM_punteggio_tyson</th>\n",
              "      <th>CUMSUM_punteggio_jones</th>\n",
              "    </tr>\n",
              "  </thead>\n",
              "  <tbody>\n",
              "    <tr>\n",
              "      <th>0</th>\n",
              "      <td>10.0</td>\n",
              "      <td>9.0</td>\n",
              "      <td>1</td>\n",
              "      <td>10.0</td>\n",
              "      <td>9.0</td>\n",
              "    </tr>\n",
              "    <tr>\n",
              "      <th>1</th>\n",
              "      <td>10.0</td>\n",
              "      <td>9.0</td>\n",
              "      <td>2</td>\n",
              "      <td>20.0</td>\n",
              "      <td>18.0</td>\n",
              "    </tr>\n",
              "    <tr>\n",
              "      <th>2</th>\n",
              "      <td>9.0</td>\n",
              "      <td>10.0</td>\n",
              "      <td>3</td>\n",
              "      <td>29.0</td>\n",
              "      <td>28.0</td>\n",
              "    </tr>\n",
              "    <tr>\n",
              "      <th>3</th>\n",
              "      <td>10.0</td>\n",
              "      <td>9.0</td>\n",
              "      <td>4</td>\n",
              "      <td>39.0</td>\n",
              "      <td>37.0</td>\n",
              "    </tr>\n",
              "    <tr>\n",
              "      <th>4</th>\n",
              "      <td>10.0</td>\n",
              "      <td>9.0</td>\n",
              "      <td>5</td>\n",
              "      <td>49.0</td>\n",
              "      <td>46.0</td>\n",
              "    </tr>\n",
              "    <tr>\n",
              "      <th>5</th>\n",
              "      <td>9.0</td>\n",
              "      <td>10.0</td>\n",
              "      <td>6</td>\n",
              "      <td>58.0</td>\n",
              "      <td>56.0</td>\n",
              "    </tr>\n",
              "    <tr>\n",
              "      <th>6</th>\n",
              "      <td>9.0</td>\n",
              "      <td>10.0</td>\n",
              "      <td>7</td>\n",
              "      <td>67.0</td>\n",
              "      <td>66.0</td>\n",
              "    </tr>\n",
              "    <tr>\n",
              "      <th>7</th>\n",
              "      <td>9.0</td>\n",
              "      <td>10.0</td>\n",
              "      <td>8</td>\n",
              "      <td>76.0</td>\n",
              "      <td>76.0</td>\n",
              "    </tr>\n",
              "  </tbody>\n",
              "</table>\n",
              "</div>"
            ],
            "text/plain": [
              "Column 1  TYSON_punteggio_sing  JONES_punteggio_sing  ROUND  \\\n",
              "0                         10.0                   9.0      1   \n",
              "1                         10.0                   9.0      2   \n",
              "2                          9.0                  10.0      3   \n",
              "3                         10.0                   9.0      4   \n",
              "4                         10.0                   9.0      5   \n",
              "5                          9.0                  10.0      6   \n",
              "6                          9.0                  10.0      7   \n",
              "7                          9.0                  10.0      8   \n",
              "\n",
              "Column 1  CUMSUM_punteggio_tyson  CUMSUM_punteggio_jones  \n",
              "0                           10.0                     9.0  \n",
              "1                           20.0                    18.0  \n",
              "2                           29.0                    28.0  \n",
              "3                           39.0                    37.0  \n",
              "4                           49.0                    46.0  \n",
              "5                           58.0                    56.0  \n",
              "6                           67.0                    66.0  \n",
              "7                           76.0                    76.0  "
            ]
          },
          "metadata": {
            "tags": []
          },
          "execution_count": 12
        }
      ]
    },
    {
      "cell_type": "code",
      "metadata": {
        "id": "PfNl4M1C53DJ",
        "outputId": "5ede497d-6eaa-4a64-bf9b-dbb051318419"
      },
      "source": [
        "tabellino_risultato_giudici = tabellino_incontro_t[tabellino_incontro_t[\"CUMSUM_punteggio_jones\"] == 76.0]\n",
        "tabellino_risultato_giudici = tabellino_risultato_giudici.reset_index()\n",
        "tabellino_risultato_giudici"
      ],
      "execution_count": null,
      "outputs": [
        {
          "output_type": "execute_result",
          "data": {
            "text/html": [
              "<div>\n",
              "<style scoped>\n",
              "    .dataframe tbody tr th:only-of-type {\n",
              "        vertical-align: middle;\n",
              "    }\n",
              "\n",
              "    .dataframe tbody tr th {\n",
              "        vertical-align: top;\n",
              "    }\n",
              "\n",
              "    .dataframe thead th {\n",
              "        text-align: right;\n",
              "    }\n",
              "</style>\n",
              "<table border=\"1\" class=\"dataframe\">\n",
              "  <thead>\n",
              "    <tr style=\"text-align: right;\">\n",
              "      <th>Column 1</th>\n",
              "      <th>index</th>\n",
              "      <th>TYSON_punteggio_sing</th>\n",
              "      <th>JONES_punteggio_sing</th>\n",
              "      <th>ROUND</th>\n",
              "      <th>CUMSUM_punteggio_tyson</th>\n",
              "      <th>CUMSUM_punteggio_jones</th>\n",
              "    </tr>\n",
              "  </thead>\n",
              "  <tbody>\n",
              "    <tr>\n",
              "      <th>0</th>\n",
              "      <td>7</td>\n",
              "      <td>9.0</td>\n",
              "      <td>10.0</td>\n",
              "      <td>8</td>\n",
              "      <td>76.0</td>\n",
              "      <td>76.0</td>\n",
              "    </tr>\n",
              "  </tbody>\n",
              "</table>\n",
              "</div>"
            ],
            "text/plain": [
              "Column 1  index  TYSON_punteggio_sing  JONES_punteggio_sing  ROUND  \\\n",
              "0             7                   9.0                  10.0      8   \n",
              "\n",
              "Column 1  CUMSUM_punteggio_tyson  CUMSUM_punteggio_jones  \n",
              "0                           76.0                    76.0  "
            ]
          },
          "metadata": {
            "tags": []
          },
          "execution_count": 13
        }
      ]
    },
    {
      "cell_type": "code",
      "metadata": {
        "id": "vUh5KVRH53DJ"
      },
      "source": [
        "#Vado a creare una lista da entrambe le collection, per poi trasformarle in DataFrame per una più semplificata maneggevolezza:\n",
        "data_gabri = list(db.tysonjones_.find())\n",
        "data_teo = list(db.tysonjones.find())"
      ],
      "execution_count": null,
      "outputs": []
    },
    {
      "cell_type": "code",
      "metadata": {
        "id": "R3QV4b6z53DK",
        "outputId": "0361b0ea-fb09-40c8-f45c-0e44fe6747ff"
      },
      "source": [
        "#Traformo in Dataframe la collection dei Tweets di Gabri:\n",
        "data_gabri = pd.DataFrame(data_gabri)\n",
        "print(\"Nel dataset uno abbiamo: \" + str(len(data_gabri)) + \" tweets\")\n",
        "\n",
        "#Traformo in Dataframe la collection dei Tweets di Teo:\n",
        "data_teo = pd.DataFrame(data_teo)\n",
        "print(\"Nel dataset due abbiamo: \" + str(len(data_teo)) + \" tweets\")"
      ],
      "execution_count": null,
      "outputs": [
        {
          "output_type": "stream",
          "text": [
            "Nel dataset uno abbiamo: 508225 tweets\n",
            "Nel dataset due abbiamo: 259248 tweets\n"
          ],
          "name": "stdout"
        }
      ]
    },
    {
      "cell_type": "code",
      "metadata": {
        "id": "zvccXfYK53DO"
      },
      "source": [
        "#Aggiungo un'ora al dataset raccolto da Gabri\n",
        "data_gabri['Date_time'] = pd.to_datetime(data_gabri['Date_time'])\n",
        "data_gabri['Date_time'] = pd.DatetimeIndex(data_gabri['Date_time']) + timedelta(hours=1)"
      ],
      "execution_count": null,
      "outputs": []
    },
    {
      "cell_type": "code",
      "metadata": {
        "id": "EGCHgtgi53DO",
        "outputId": "41c12001-2f5f-4b41-d13b-147a1469457f"
      },
      "source": [
        "#Effetto l'unione delle due collections di tweest in un unico dataframe:\n",
        "frames_dataframe = [data_teo, data_gabri]\n",
        "dataset_tweets_complessivo = pd.concat(frames_dataframe)\n",
        "print(\"Nel dataset complessivo abbiamo a disposizione: \" + str(len(dataset_tweets_complessivo)) + \" tweets\")"
      ],
      "execution_count": null,
      "outputs": [
        {
          "output_type": "stream",
          "text": [
            "Nel dataset complessivo abbiamo a disposizione: 767473 tweets\n"
          ],
          "name": "stdout"
        }
      ]
    },
    {
      "cell_type": "code",
      "metadata": {
        "id": "Ipfn0fG653DP"
      },
      "source": [
        "#ESTRAPOLO GLI HASHTAG DAL TESTO E CREO UNA COLONNA APPOSITA \n",
        "dataset_tweets_complessivo[\"hashtags\"] = dataset_tweets_complessivo[\"Text\"].apply(lambda x: re.findall(r\"#(\\w+)\", x))"
      ],
      "execution_count": null,
      "outputs": []
    },
    {
      "cell_type": "code",
      "metadata": {
        "id": "KkXL7VWU53DP"
      },
      "source": [
        "dataset_tweets_complessivo = dataset_tweets_complessivo.rename(columns={'Date_time':'Date_time_italy'})"
      ],
      "execution_count": null,
      "outputs": []
    },
    {
      "cell_type": "markdown",
      "metadata": {
        "id": "7tDPpQRWJnl5"
      },
      "source": [
        "#ELIMINAZIONE BOT \r\n",
        "Si contano il numero di volte che un utente twetta, utenti con un numero elevato di tweets, pochi followers e testi relativi a pubblicità e ripetitivi vengono eliminati. "
      ]
    },
    {
      "cell_type": "code",
      "metadata": {
        "id": "NG-zBI2-DQRb"
      },
      "source": [
        "from collections import Counter"
      ],
      "execution_count": null,
      "outputs": []
    },
    {
      "cell_type": "code",
      "metadata": {
        "colab": {
          "base_uri": "https://localhost:8080/",
          "height": 669
        },
        "id": "BiBATRLhIh7K",
        "outputId": "29e639a9-fbe7-46b2-c279-cb6dc188d6cf"
      },
      "source": [
        " see = dataset_tweets_complessivo.Screen_name.value_counts().reset_index(name='Count').rename(columns = {'index':'A'})\r\n",
        " see.head(20)"
      ],
      "execution_count": null,
      "outputs": [
        {
          "output_type": "execute_result",
          "data": {
            "text/html": [
              "<div>\n",
              "<style scoped>\n",
              "    .dataframe tbody tr th:only-of-type {\n",
              "        vertical-align: middle;\n",
              "    }\n",
              "\n",
              "    .dataframe tbody tr th {\n",
              "        vertical-align: top;\n",
              "    }\n",
              "\n",
              "    .dataframe thead th {\n",
              "        text-align: right;\n",
              "    }\n",
              "</style>\n",
              "<table border=\"1\" class=\"dataframe\">\n",
              "  <thead>\n",
              "    <tr style=\"text-align: right;\">\n",
              "      <th></th>\n",
              "      <th>A</th>\n",
              "      <th>Count</th>\n",
              "    </tr>\n",
              "  </thead>\n",
              "  <tbody>\n",
              "    <tr>\n",
              "      <th>0</th>\n",
              "      <td>PugilistSteve</td>\n",
              "      <td>525</td>\n",
              "    </tr>\n",
              "    <tr>\n",
              "      <th>1</th>\n",
              "      <td>labony20942855</td>\n",
              "      <td>112</td>\n",
              "    </tr>\n",
              "    <tr>\n",
              "      <th>2</th>\n",
              "      <td>UFCFightsStream</td>\n",
              "      <td>111</td>\n",
              "    </tr>\n",
              "    <tr>\n",
              "      <th>3</th>\n",
              "      <td>triller</td>\n",
              "      <td>110</td>\n",
              "    </tr>\n",
              "    <tr>\n",
              "      <th>4</th>\n",
              "      <td>idnpublic</td>\n",
              "      <td>110</td>\n",
              "    </tr>\n",
              "    <tr>\n",
              "      <th>5</th>\n",
              "      <td>idnvideo</td>\n",
              "      <td>108</td>\n",
              "    </tr>\n",
              "    <tr>\n",
              "      <th>6</th>\n",
              "      <td>gabriel_gabdiel</td>\n",
              "      <td>105</td>\n",
              "    </tr>\n",
              "    <tr>\n",
              "      <th>7</th>\n",
              "      <td>THETOPICisCOOL</td>\n",
              "      <td>105</td>\n",
              "    </tr>\n",
              "    <tr>\n",
              "      <th>8</th>\n",
              "      <td>moe_shaq_24</td>\n",
              "      <td>105</td>\n",
              "    </tr>\n",
              "    <tr>\n",
              "      <th>9</th>\n",
              "      <td>lopezsij207</td>\n",
              "      <td>104</td>\n",
              "    </tr>\n",
              "    <tr>\n",
              "      <th>10</th>\n",
              "      <td>JenkinsonLeslie</td>\n",
              "      <td>103</td>\n",
              "    </tr>\n",
              "    <tr>\n",
              "      <th>11</th>\n",
              "      <td>youngtnz780</td>\n",
              "      <td>103</td>\n",
              "    </tr>\n",
              "    <tr>\n",
              "      <th>12</th>\n",
              "      <td>YungBone7</td>\n",
              "      <td>103</td>\n",
              "    </tr>\n",
              "    <tr>\n",
              "      <th>13</th>\n",
              "      <td>martinezcku592</td>\n",
              "      <td>102</td>\n",
              "    </tr>\n",
              "    <tr>\n",
              "      <th>14</th>\n",
              "      <td>lewiswwd784</td>\n",
              "      <td>101</td>\n",
              "    </tr>\n",
              "    <tr>\n",
              "      <th>15</th>\n",
              "      <td>evansitf122</td>\n",
              "      <td>100</td>\n",
              "    </tr>\n",
              "    <tr>\n",
              "      <th>16</th>\n",
              "      <td>TourdeFrance4k</td>\n",
              "      <td>100</td>\n",
              "    </tr>\n",
              "    <tr>\n",
              "      <th>17</th>\n",
              "      <td>browncwu606</td>\n",
              "      <td>100</td>\n",
              "    </tr>\n",
              "    <tr>\n",
              "      <th>18</th>\n",
              "      <td>FayeDun03999508</td>\n",
              "      <td>99</td>\n",
              "    </tr>\n",
              "    <tr>\n",
              "      <th>19</th>\n",
              "      <td>adamstuh946</td>\n",
              "      <td>99</td>\n",
              "    </tr>\n",
              "  </tbody>\n",
              "</table>\n",
              "</div>"
            ],
            "text/plain": [
              "                  A  Count\n",
              "0     PugilistSteve    525\n",
              "1    labony20942855    112\n",
              "2   UFCFightsStream    111\n",
              "3           triller    110\n",
              "4         idnpublic    110\n",
              "5          idnvideo    108\n",
              "6   gabriel_gabdiel    105\n",
              "7    THETOPICisCOOL    105\n",
              "8       moe_shaq_24    105\n",
              "9       lopezsij207    104\n",
              "10  JenkinsonLeslie    103\n",
              "11      youngtnz780    103\n",
              "12        YungBone7    103\n",
              "13   martinezcku592    102\n",
              "14      lewiswwd784    101\n",
              "15      evansitf122    100\n",
              "16   TourdeFrance4k    100\n",
              "17      browncwu606    100\n",
              "18  FayeDun03999508     99\n",
              "19      adamstuh946     99"
            ]
          },
          "metadata": {
            "tags": []
          },
          "execution_count": 120
        }
      ]
    },
    {
      "cell_type": "code",
      "metadata": {
        "id": "XlEGzoY8KKTq"
      },
      "source": [
        "rslt_df = dataset_tweets_complessivo[dataset_tweets_complessivo['Screen_name']=='SKYTVLiveStrea1']"
      ],
      "execution_count": null,
      "outputs": []
    },
    {
      "cell_type": "code",
      "metadata": {
        "colab": {
          "base_uri": "https://localhost:8080/",
          "height": 949
        },
        "id": "JIXWLBIzKyxZ",
        "outputId": "2a29d902-d835-41b0-d6d5-d844843d0f15"
      },
      "source": [
        "rslt_df"
      ],
      "execution_count": null,
      "outputs": [
        {
          "output_type": "execute_result",
          "data": {
            "text/html": [
              "<div>\n",
              "<style scoped>\n",
              "    .dataframe tbody tr th:only-of-type {\n",
              "        vertical-align: middle;\n",
              "    }\n",
              "\n",
              "    .dataframe tbody tr th {\n",
              "        vertical-align: top;\n",
              "    }\n",
              "\n",
              "    .dataframe thead th {\n",
              "        text-align: right;\n",
              "    }\n",
              "</style>\n",
              "<table border=\"1\" class=\"dataframe\">\n",
              "  <thead>\n",
              "    <tr style=\"text-align: right;\">\n",
              "      <th></th>\n",
              "      <th>_id</th>\n",
              "      <th>Screen_name</th>\n",
              "      <th>Name</th>\n",
              "      <th>Text</th>\n",
              "      <th>Followers</th>\n",
              "      <th>Number_Retweet</th>\n",
              "      <th>Position</th>\n",
              "      <th>Date_time</th>\n",
              "      <th>Hashtags</th>\n",
              "      <th>Date_time_italy</th>\n",
              "      <th>count</th>\n",
              "    </tr>\n",
              "  </thead>\n",
              "  <tbody>\n",
              "    <tr>\n",
              "      <th>35546</th>\n",
              "      <td>{'$oid': '5fc207436b90cd1acfacf5ac'}</td>\n",
              "      <td>SKYTVLiveStrea1</td>\n",
              "      <td>SKY TV Live Stream</td>\n",
              "      <td>Watch New Zealand vs Argentina Live Streaming ...</td>\n",
              "      <td>3</td>\n",
              "      <td>0</td>\n",
              "      <td>None</td>\n",
              "      <td>2020-11-28 08:15:58</td>\n",
              "      <td>[]</td>\n",
              "      <td>NaT</td>\n",
              "      <td>bull97rock</td>\n",
              "    </tr>\n",
              "    <tr>\n",
              "      <th>35883</th>\n",
              "      <td>{'$oid': '5fc209206b90cd1acfacf6fd'}</td>\n",
              "      <td>SKYTVLiveStrea1</td>\n",
              "      <td>SKY TV Live Stream</td>\n",
              "      <td>Watch New Zealand vs Argentina Live Streaming ...</td>\n",
              "      <td>3</td>\n",
              "      <td>0</td>\n",
              "      <td>None</td>\n",
              "      <td>2020-11-28 08:23:55</td>\n",
              "      <td>[]</td>\n",
              "      <td>NaT</td>\n",
              "      <td>__KagedAnimal</td>\n",
              "    </tr>\n",
              "    <tr>\n",
              "      <th>36471</th>\n",
              "      <td>{'$oid': '5fc20cea6b90cd1acfacf949'}</td>\n",
              "      <td>SKYTVLiveStrea1</td>\n",
              "      <td>SKY TV Live Stream</td>\n",
              "      <td>Watch New Zealand vs Argentina Live Streaming ...</td>\n",
              "      <td>3</td>\n",
              "      <td>0</td>\n",
              "      <td>None</td>\n",
              "      <td>2020-11-28 08:40:05</td>\n",
              "      <td>[]</td>\n",
              "      <td>NaT</td>\n",
              "      <td>Champagne_Jefe</td>\n",
              "    </tr>\n",
              "    <tr>\n",
              "      <th>36652</th>\n",
              "      <td>{'$oid': '5fc20df06b90cd1acfacf9fe'}</td>\n",
              "      <td>SKYTVLiveStrea1</td>\n",
              "      <td>SKY TV Live Stream</td>\n",
              "      <td>Watch New Zealand vs Argentina Live Streaming ...</td>\n",
              "      <td>3</td>\n",
              "      <td>0</td>\n",
              "      <td>None</td>\n",
              "      <td>2020-11-28 08:44:26</td>\n",
              "      <td>[]</td>\n",
              "      <td>NaT</td>\n",
              "      <td>CaerwynnKani</td>\n",
              "    </tr>\n",
              "    <tr>\n",
              "      <th>53954</th>\n",
              "      <td>{'$oid': '5fc26b976b90cd1acfad3d94'}</td>\n",
              "      <td>SKYTVLiveStrea1</td>\n",
              "      <td>SKY TV Live Stream</td>\n",
              "      <td>Watch Mike Tyson vs Roy Jones Jr Live Streamin...</td>\n",
              "      <td>3</td>\n",
              "      <td>0</td>\n",
              "      <td>None</td>\n",
              "      <td>2020-11-28 15:24:02</td>\n",
              "      <td>[]</td>\n",
              "      <td>NaT</td>\n",
              "      <td>_StendoBans__</td>\n",
              "    </tr>\n",
              "    <tr>\n",
              "      <th>...</th>\n",
              "      <td>...</td>\n",
              "      <td>...</td>\n",
              "      <td>...</td>\n",
              "      <td>...</td>\n",
              "      <td>...</td>\n",
              "      <td>...</td>\n",
              "      <td>...</td>\n",
              "      <td>...</td>\n",
              "      <td>...</td>\n",
              "      <td>...</td>\n",
              "      <td>...</td>\n",
              "    </tr>\n",
              "    <tr>\n",
              "      <th>286138</th>\n",
              "      <td>{'$oid': '5fc32bd3fec2296bd50b618e'}</td>\n",
              "      <td>SKYTVLiveStrea1</td>\n",
              "      <td>SKY TV Live Stream</td>\n",
              "      <td>Watch Mike Tyson vs Roy Jones Jr Live Streamin...</td>\n",
              "      <td>3</td>\n",
              "      <td>0</td>\n",
              "      <td>None</td>\n",
              "      <td>2020-11-29 05:04:13</td>\n",
              "      <td>[]</td>\n",
              "      <td>2020-11-29 06:04:13</td>\n",
              "      <td>ttazz77</td>\n",
              "    </tr>\n",
              "    <tr>\n",
              "      <th>294937</th>\n",
              "      <td>{'$oid': '5fc32c84fec2296bd50b83ed'}</td>\n",
              "      <td>SKYTVLiveStrea1</td>\n",
              "      <td>SKY TV Live Stream</td>\n",
              "      <td>Now Happened!!\\nYou can see Live 4K now!!\\n\\nW...</td>\n",
              "      <td>3</td>\n",
              "      <td>0</td>\n",
              "      <td>None</td>\n",
              "      <td>2020-11-29 05:07:11</td>\n",
              "      <td>[]</td>\n",
              "      <td>2020-11-29 06:07:11</td>\n",
              "      <td>yofavlightskn</td>\n",
              "    </tr>\n",
              "    <tr>\n",
              "      <th>296449</th>\n",
              "      <td>{'$oid': '5fc32ca4fec2296bd50b89d5'}</td>\n",
              "      <td>SKYTVLiveStrea1</td>\n",
              "      <td>SKY TV Live Stream</td>\n",
              "      <td>Watch Mike Tyson vs Roy Jones Jr Live Streamin...</td>\n",
              "      <td>3</td>\n",
              "      <td>0</td>\n",
              "      <td>None</td>\n",
              "      <td>2020-11-29 05:07:43</td>\n",
              "      <td>[]</td>\n",
              "      <td>2020-11-29 06:07:43</td>\n",
              "      <td>crocodilius</td>\n",
              "    </tr>\n",
              "    <tr>\n",
              "      <th>330345</th>\n",
              "      <td>{'$oid': '5fc32f55fec2296bd50c0e3d'}</td>\n",
              "      <td>SKYTVLiveStrea1</td>\n",
              "      <td>SKY TV Live Stream</td>\n",
              "      <td>Watch Mike Tyson vs Roy Jones Jr Live Streamin...</td>\n",
              "      <td>3</td>\n",
              "      <td>0</td>\n",
              "      <td>None</td>\n",
              "      <td>2020-11-29 05:19:12</td>\n",
              "      <td>[]</td>\n",
              "      <td>2020-11-29 06:19:12</td>\n",
              "      <td>NBAquickreport</td>\n",
              "    </tr>\n",
              "    <tr>\n",
              "      <th>353052</th>\n",
              "      <td>{'$oid': '5fc33127fec2296bd50c66f0'}</td>\n",
              "      <td>SKYTVLiveStrea1</td>\n",
              "      <td>SKY TV Live Stream</td>\n",
              "      <td>Watch Mike Tyson vs Roy Jones Jr Live Streamin...</td>\n",
              "      <td>3</td>\n",
              "      <td>0</td>\n",
              "      <td>None</td>\n",
              "      <td>2020-11-29 05:26:58</td>\n",
              "      <td>[]</td>\n",
              "      <td>2020-11-29 06:26:58</td>\n",
              "      <td>lobda1</td>\n",
              "    </tr>\n",
              "  </tbody>\n",
              "</table>\n",
              "<p>257 rows × 11 columns</p>\n",
              "</div>"
            ],
            "text/plain": [
              "                                         _id  ...           count\n",
              "35546   {'$oid': '5fc207436b90cd1acfacf5ac'}  ...      bull97rock\n",
              "35883   {'$oid': '5fc209206b90cd1acfacf6fd'}  ...   __KagedAnimal\n",
              "36471   {'$oid': '5fc20cea6b90cd1acfacf949'}  ...  Champagne_Jefe\n",
              "36652   {'$oid': '5fc20df06b90cd1acfacf9fe'}  ...    CaerwynnKani\n",
              "53954   {'$oid': '5fc26b976b90cd1acfad3d94'}  ...   _StendoBans__\n",
              "...                                      ...  ...             ...\n",
              "286138  {'$oid': '5fc32bd3fec2296bd50b618e'}  ...         ttazz77\n",
              "294937  {'$oid': '5fc32c84fec2296bd50b83ed'}  ...   yofavlightskn\n",
              "296449  {'$oid': '5fc32ca4fec2296bd50b89d5'}  ...     crocodilius\n",
              "330345  {'$oid': '5fc32f55fec2296bd50c0e3d'}  ...  NBAquickreport\n",
              "353052  {'$oid': '5fc33127fec2296bd50c66f0'}  ...          lobda1\n",
              "\n",
              "[257 rows x 11 columns]"
            ]
          },
          "metadata": {
            "tags": []
          },
          "execution_count": 111
        }
      ]
    },
    {
      "cell_type": "code",
      "metadata": {
        "id": "YtuMtdRgNGNy"
      },
      "source": [
        "dataset_tweets_complessivo = dataset_tweets_complessivo.drop(dataset_tweets_complessivo[dataset_tweets_complessivo.Screen_name == 'LauraChimanski'].index)\r\n",
        "dataset_tweets_complessivo = dataset_tweets_complessivo.drop(dataset_tweets_complessivo[dataset_tweets_complessivo.Screen_name == 'KasimAkaNinja'].index)\r\n",
        "dataset_tweets_complessivo = dataset_tweets_complessivo.drop(dataset_tweets_complessivo[dataset_tweets_complessivo.Screen_name == 'allsportlive365'].index)\r\n",
        "dataset_tweets_complessivo = dataset_tweets_complessivo.drop(dataset_tweets_complessivo[dataset_tweets_complessivo.Screen_name == '\tLeannThoman1455'].index)\r\n",
        "dataset_tweets_complessivo = dataset_tweets_complessivo.drop(dataset_tweets_complessivo[dataset_tweets_complessivo.Screen_name == '_PequenaDoLubs'].index)\r\n",
        "dataset_tweets_complessivo = dataset_tweets_complessivo.drop(dataset_tweets_complessivo[dataset_tweets_complessivo.Screen_name == 'DarckoGV'].index)\r\n",
        "dataset_tweets_complessivo = dataset_tweets_complessivo.drop(dataset_tweets_complessivo[dataset_tweets_complessivo.Screen_name == 'CasaBourbon'].index)\r\n",
        "dataset_tweets_complessivo = dataset_tweets_complessivo.drop(dataset_tweets_complessivo[dataset_tweets_complessivo.Screen_name == 'caseys508'].index)\r\n",
        "dataset_tweets_complessivo = dataset_tweets_complessivo.drop(dataset_tweets_complessivo[dataset_tweets_complessivo.Screen_name == 'EllysonLyma'].index)\r\n",
        "dataset_tweets_complessivo = dataset_tweets_complessivo.drop(dataset_tweets_complessivo[dataset_tweets_complessivo.Screen_name == 'gulruhati'].index)\r\n",
        "dataset_tweets_complessivo = dataset_tweets_complessivo.drop(dataset_tweets_complessivo[dataset_tweets_complessivo.Screen_name == 'Wahyu_Handika'].index)\r\n",
        "dataset_tweets_complessivo = dataset_tweets_complessivo.drop(dataset_tweets_complessivo[dataset_tweets_complessivo.Screen_name == 'KasimAkaNinja'].index)\r\n",
        "dataset_tweets_complessivo = dataset_tweets_complessivo.drop(dataset_tweets_complessivo[dataset_tweets_complessivo.Screen_name == 'obby_2013'].index)\r\n",
        "dataset_tweets_complessivo = dataset_tweets_complessivo.drop(dataset_tweets_complessivo[dataset_tweets_complessivo.Screen_name == 'MatchRd'].index)\r\n",
        "dataset_tweets_complessivo = dataset_tweets_complessivo.drop(dataset_tweets_complessivo[dataset_tweets_complessivo.Screen_name == '\tMahadiHasanAsh2'].index)\r\n",
        "dataset_tweets_complessivo = dataset_tweets_complessivo.drop(dataset_tweets_complessivo[dataset_tweets_complessivo.Screen_name == 'billah_vai\t'].index)\r\n",
        "dataset_tweets_complessivo = dataset_tweets_complessivo.drop(dataset_tweets_complessivo[dataset_tweets_complessivo.Screen_name == 'AusOpenAustral1'].index)\r\n",
        "dataset_tweets_complessivo = dataset_tweets_complessivo.drop(dataset_tweets_complessivo[dataset_tweets_complessivo.Screen_name == 'MikeTys98721109'].index)\r\n",
        "dataset_tweets_complessivo = dataset_tweets_complessivo.drop(dataset_tweets_complessivo[dataset_tweets_complessivo.Screen_name == 'billah_vai'].index)\r\n",
        "dataset_tweets_complessivo = dataset_tweets_complessivo.drop(dataset_tweets_complessivo[dataset_tweets_complessivo.Screen_name == 'MahadiHasanAsh2'].index)\r\n",
        "dataset_tweets_complessivo = dataset_tweets_complessivo.drop(dataset_tweets_complessivo[dataset_tweets_complessivo.Screen_name == 'Kfernandiz'].index)\r\n",
        "dataset_tweets_complessivo = dataset_tweets_complessivo.drop(dataset_tweets_complessivo[dataset_tweets_complessivo.Screen_name == 'LeannThoman1455'].index)\r\n",
        "dataset_tweets_complessivo = dataset_tweets_complessivo.drop(dataset_tweets_complessivo[dataset_tweets_complessivo.Screen_name == 'uefapreview'].index)\r\n",
        "dataset_tweets_complessivo = dataset_tweets_complessivo.drop(dataset_tweets_complessivo[dataset_tweets_complessivo.Screen_name == 'MikeTys10'].index)\r\n",
        "dataset_tweets_complessivo = dataset_tweets_complessivo.drop(dataset_tweets_complessivo[dataset_tweets_complessivo.Screen_name == 'ZENAPRCHAMP'].index)\r\n",
        "dataset_tweets_complessivo = dataset_tweets_complessivo.drop(dataset_tweets_complessivo[dataset_tweets_complessivo.Screen_name == 'FiteTV'].index)\r\n",
        "dataset_tweets_complessivo = dataset_tweets_complessivo.drop(dataset_tweets_complessivo[dataset_tweets_complessivo.Screen_name == 'DimeDroppingNFL'].index)\r\n",
        "dataset_tweets_complessivo = dataset_tweets_complessivo.drop(dataset_tweets_complessivo[dataset_tweets_complessivo.Screen_name == 'natalia_12love'].index)\r\n",
        "dataset_tweets_complessivo = dataset_tweets_complessivo.drop(dataset_tweets_complessivo[dataset_tweets_complessivo.Screen_name == 'Jay_Dekassia'].index)\r\n",
        "dataset_tweets_complessivo = dataset_tweets_complessivo.drop(dataset_tweets_complessivo[dataset_tweets_complessivo.Screen_name == 'Robel73401463'].index)\r\n",
        "dataset_tweets_complessivo = dataset_tweets_complessivo.drop(dataset_tweets_complessivo[dataset_tweets_complessivo.Screen_name == 'SeLca_official'].index)\r\n",
        "dataset_tweets_complessivo = dataset_tweets_complessivo.drop(dataset_tweets_complessivo[dataset_tweets_complessivo.Screen_name == 'LeannThoman1455'].index)\r\n",
        "dataset_tweets_complessivo = dataset_tweets_complessivo.drop(dataset_tweets_complessivo[dataset_tweets_complessivo.Screen_name == 'MahadiHasanAsh2'].index)\r\n",
        "dataset_tweets_complessivo = dataset_tweets_complessivo.drop(dataset_tweets_complessivo[dataset_tweets_complessivo.Screen_name == 'UFC254Khabibvs1'].index)\r\n",
        "dataset_tweets_complessivo = dataset_tweets_complessivo.drop(dataset_tweets_complessivo[dataset_tweets_complessivo.Screen_name == 'MonicaBegay13'].index)\r\n",
        "dataset_tweets_complessivo = dataset_tweets_complessivo.drop(dataset_tweets_complessivo[dataset_tweets_complessivo.Screen_name == 'Miranda17752622'].index)\r\n",
        "dataset_tweets_complessivo = dataset_tweets_complessivo.drop(dataset_tweets_complessivo[dataset_tweets_complessivo.Screen_name == 'AngieWo44433920'].index)\r\n",
        "dataset_tweets_complessivo = dataset_tweets_complessivo.drop(dataset_tweets_complessivo[dataset_tweets_complessivo.Screen_name == 'AllEveantLive'].index)\r\n",
        "dataset_tweets_complessivo = dataset_tweets_complessivo.drop(dataset_tweets_complessivo[dataset_tweets_complessivo.Screen_name == 'JamesStrafela'].index)\r\n",
        "dataset_tweets_complessivo = dataset_tweets_complessivo.drop(dataset_tweets_complessivo[dataset_tweets_complessivo.Screen_name == 'tsunamishon'].index)\r\n",
        "dataset_tweets_complessivo = dataset_tweets_complessivo.drop(dataset_tweets_complessivo[dataset_tweets_complessivo.Screen_name == 'FestivalLive4'].index)\r\n",
        "dataset_tweets_complessivo = dataset_tweets_complessivo.drop(dataset_tweets_complessivo[dataset_tweets_complessivo.Screen_name == 'boxinghd4'].index)\r\n",
        "dataset_tweets_complessivo = dataset_tweets_complessivo.drop(dataset_tweets_complessivo[dataset_tweets_complessivo.Screen_name == 'boxingst2'].index)\r\n",
        "dataset_tweets_complessivo = dataset_tweets_complessivo.drop(dataset_tweets_complessivo[dataset_tweets_complessivo.Screen_name == 'SKYTVLiveStrea1'].index)\r\n",
        "dataset_tweets_complessivo = dataset_tweets_complessivo.drop(dataset_tweets_complessivo[dataset_tweets_complessivo.Screen_name == 'MDShari48779970\t'].index)\r\n",
        "dataset_tweets_complessivo = dataset_tweets_complessivo.drop(dataset_tweets_complessivo[dataset_tweets_complessivo.Screen_name == 'sharif29801314'].index)\r\n",
        "dataset_tweets_complessivo = dataset_tweets_complessivo.drop(dataset_tweets_complessivo[dataset_tweets_complessivo.Screen_name == 'suktara05745494\t'].index)\r\n",
        "dataset_tweets_complessivo = dataset_tweets_complessivo.drop(dataset_tweets_complessivo[dataset_tweets_complessivo.Screen_name == 'streams2019'].index)\r\n",
        "dataset_tweets_complessivo = dataset_tweets_complessivo.drop(dataset_tweets_complessivo[dataset_tweets_complessivo.Screen_name == 'GegumMst'].index)\r\n",
        "dataset_tweets_complessivo = dataset_tweets_complessivo.drop(dataset_tweets_complessivo[dataset_tweets_complessivo.Screen_name == 'SunSport'].index)\r\n",
        "dataset_tweets_complessivo = dataset_tweets_complessivo.drop(dataset_tweets_complessivo[dataset_tweets_complessivo.Screen_name == 'mstsuraiya2\t'].index)\r\n",
        "dataset_tweets_complessivo = dataset_tweets_complessivo.drop(dataset_tweets_complessivo[dataset_tweets_complessivo.Screen_name == 'mstparvin6'].index)\r\n",
        "dataset_tweets_complessivo = dataset_tweets_complessivo.drop(dataset_tweets_complessivo[dataset_tweets_complessivo.Screen_name == 'SportsEvent9'].index)\r\n",
        "dataset_tweets_complessivo = dataset_tweets_complessivo.drop(dataset_tweets_complessivo[dataset_tweets_complessivo.Screen_name == 'GarzonMel'].index)\r\n",
        "dataset_tweets_complessivo = dataset_tweets_complessivo.drop(dataset_tweets_complessivo[dataset_tweets_complessivo.Screen_name == 'SPORTNE97628454'].index)\r\n",
        "dataset_tweets_complessivo = dataset_tweets_complessivo.drop(dataset_tweets_complessivo[dataset_tweets_complessivo.Screen_name == 'MikeTys9'].index)\r\n",
        "dataset_tweets_complessivo = dataset_tweets_complessivo.drop(dataset_tweets_complessivo[dataset_tweets_complessivo.Screen_name == 'AmyBake04962735'].index)\r\n",
        "dataset_tweets_complessivo = dataset_tweets_complessivo.drop(dataset_tweets_complessivo[dataset_tweets_complessivo.Screen_name == 'TrinaSa91580331'].index)\r\n",
        "dataset_tweets_complessivo = dataset_tweets_complessivo.drop(dataset_tweets_complessivo[dataset_tweets_complessivo.Screen_name == 'CESBoxing'].index)\r\n",
        "dataset_tweets_complessivo = dataset_tweets_complessivo.drop(dataset_tweets_complessivo[dataset_tweets_complessivo.Screen_name == 'ismail66480207\t'].index)\r\n",
        "dataset_tweets_complessivo = dataset_tweets_complessivo.drop(dataset_tweets_complessivo[dataset_tweets_complessivo.Screen_name == 'mmastreamslive'].index)\r\n",
        "dataset_tweets_complessivo = dataset_tweets_complessivo.drop(dataset_tweets_complessivo[dataset_tweets_complessivo.Screen_name == 'CouchcastSports'].index)\r\n",
        "dataset_tweets_complessivo = dataset_tweets_complessivo.drop(dataset_tweets_complessivo[dataset_tweets_complessivo.Screen_name == 'NaomiOs23081163'].index)\r\n",
        "dataset_tweets_complessivo = dataset_tweets_complessivo.drop(dataset_tweets_complessivo[dataset_tweets_complessivo.Screen_name == 'alina48148880'].index)\r\n",
        "dataset_tweets_complessivo = dataset_tweets_complessivo.drop(dataset_tweets_complessivo[dataset_tweets_complessivo.Screen_name == 'MDShari48779970'].index)\r\n",
        "dataset_tweets_complessivo = dataset_tweets_complessivo.drop(dataset_tweets_complessivo[dataset_tweets_complessivo.Screen_name == 'suktara05745494'].index)\r\n",
        "dataset_tweets_complessivo = dataset_tweets_complessivo.drop(dataset_tweets_complessivo[dataset_tweets_complessivo.Screen_name == 'mstsuraiya2'].index)\r\n",
        "dataset_tweets_complessivo = dataset_tweets_complessivo.drop(dataset_tweets_complessivo[dataset_tweets_complessivo.Screen_name == 'ismail66480207'].index)\r\n",
        "dataset_tweets_complessivo = dataset_tweets_complessivo.drop(dataset_tweets_complessivo[dataset_tweets_complessivo.Screen_name == 'dw504966'].index)\r\n",
        "dataset_tweets_complessivo = dataset_tweets_complessivo.drop(dataset_tweets_complessivo[dataset_tweets_complessivo.Screen_name == 'lewisgfe437'].index)\r\n",
        "dataset_tweets_complessivo = dataset_tweets_complessivo.drop(dataset_tweets_complessivo[dataset_tweets_complessivo.Screen_name == 'clarkgsu340'].index)\r\n",
        "dataset_tweets_complessivo = dataset_tweets_complessivo.drop(dataset_tweets_complessivo[dataset_tweets_complessivo.Screen_name == 'martingyc509'].index)\r\n",
        "dataset_tweets_complessivo = dataset_tweets_complessivo.drop(dataset_tweets_complessivo[dataset_tweets_complessivo.Screen_name == 'Stephan49216456'].index)\r\n",
        "dataset_tweets_complessivo = dataset_tweets_complessivo.drop(dataset_tweets_complessivo[dataset_tweets_complessivo.Screen_name == 'hallbvv218'].index)"
      ],
      "execution_count": null,
      "outputs": []
    },
    {
      "cell_type": "code",
      "metadata": {
        "id": "WauiYeYEcI5W"
      },
      "source": [
        "#ESTRAPOLO GLI HASHTAG DAL TESTO E CREO UNA COLONNA APPOSITA \r\n",
        "dataset_tweets_complessivo[\"hashtags\"] = dataset_tweets_complessivo[\"Text\"].apply(lambda x: re.findall(r\"#(\\w+)\", x))"
      ],
      "execution_count": null,
      "outputs": []
    },
    {
      "cell_type": "code",
      "metadata": {
        "id": "vX1FHdilU8rV"
      },
      "source": [
        "#PULIZIA DEL DATASET ELIMINANDO LE COLONNE CHE NON SERVONO \r\n",
        "dataset_tweets_complessivo = dataset_tweets_complessivo.drop(['Screen_name','Name','Followers',\t'Number_Retweet','Position','Hashtags'], axis=1)\r\n",
        "dataset_tweets_complessivo = dataset_tweets_complessivo.rename(columns={'Date_time':'Date_time_italy'})"
      ],
      "execution_count": null,
      "outputs": []
    },
    {
      "cell_type": "markdown",
      "metadata": {
        "id": "dYcetRLs53DQ"
      },
      "source": [
        "# Per la costruzione delle statistiche riferite al match, abbiamo estratto le informazioni tramite fonte"
      ]
    },
    {
      "cell_type": "code",
      "metadata": {
        "id": "h_knU9y253DQ"
      },
      "source": [
        "#[incontro_powerpunches_landed]"
      ],
      "execution_count": null,
      "outputs": []
    },
    {
      "cell_type": "code",
      "metadata": {
        "id": "TMmNt0E-53DQ",
        "outputId": "bff17bbd-decd-48b7-a0c5-d0675fe1be9a"
      },
      "source": [
        "#Costruisco dataset legato ai pugni dati da Tyson e Jones:\n",
        "incontro_powerpunches_landed = pd.read_csv(\"/Users/matteo/Desktop/DATA SCIENCE/Data Management/Progettto/statistics-.csv\",  header= None)\n",
        "incontro_powerpunches_landed = incontro_powerpunches_landed.transpose()\n",
        "\n",
        "new_header_incontro_powerpunches_landed = incontro_powerpunches_landed.iloc[0] \n",
        "incontro_powerpunches_landed = incontro_powerpunches_landed[1:] \n",
        "incontro_powerpunches_landed.columns = new_header_incontro_powerpunches_landed\n",
        "\n",
        "incontro_powerpunches_landed = incontro_powerpunches_landed.reset_index(drop = True)\n",
        "incontro_powerpunches_landed"
      ],
      "execution_count": null,
      "outputs": [
        {
          "output_type": "execute_result",
          "data": {
            "text/html": [
              "<div>\n",
              "<style scoped>\n",
              "    .dataframe tbody tr th:only-of-type {\n",
              "        vertical-align: middle;\n",
              "    }\n",
              "\n",
              "    .dataframe tbody tr th {\n",
              "        vertical-align: top;\n",
              "    }\n",
              "\n",
              "    .dataframe thead th {\n",
              "        text-align: right;\n",
              "    }\n",
              "</style>\n",
              "<table border=\"1\" class=\"dataframe\">\n",
              "  <thead>\n",
              "    <tr style=\"text-align: right;\">\n",
              "      <th></th>\n",
              "      <th>TYSON</th>\n",
              "      <th>Power Punches landed / Thrown Tyson</th>\n",
              "      <th>JONES</th>\n",
              "      <th>Power Punches landed / Thrown Jones</th>\n",
              "      <th>ROUND</th>\n",
              "    </tr>\n",
              "  </thead>\n",
              "  <tbody>\n",
              "    <tr>\n",
              "      <th>0</th>\n",
              "      <td>6/11</td>\n",
              "      <td>0.545</td>\n",
              "      <td>0/2</td>\n",
              "      <td>0</td>\n",
              "      <td>1</td>\n",
              "    </tr>\n",
              "    <tr>\n",
              "      <th>1</th>\n",
              "      <td>8/16</td>\n",
              "      <td>0.500</td>\n",
              "      <td>2/19</td>\n",
              "      <td>0.105</td>\n",
              "      <td>2</td>\n",
              "    </tr>\n",
              "    <tr>\n",
              "      <th>2</th>\n",
              "      <td>8/21</td>\n",
              "      <td>0.381</td>\n",
              "      <td>6/24</td>\n",
              "      <td>0.250</td>\n",
              "      <td>3</td>\n",
              "    </tr>\n",
              "    <tr>\n",
              "      <th>3</th>\n",
              "      <td>4115</td>\n",
              "      <td>0.267</td>\n",
              "      <td>3/16</td>\n",
              "      <td>0.188</td>\n",
              "      <td>4</td>\n",
              "    </tr>\n",
              "    <tr>\n",
              "      <th>4</th>\n",
              "      <td>9/20</td>\n",
              "      <td>0.450</td>\n",
              "      <td>6/29</td>\n",
              "      <td>0.207</td>\n",
              "      <td>5</td>\n",
              "    </tr>\n",
              "    <tr>\n",
              "      <th>5</th>\n",
              "      <td>5/12</td>\n",
              "      <td>0.417</td>\n",
              "      <td>5/18</td>\n",
              "      <td>0.278</td>\n",
              "      <td>6</td>\n",
              "    </tr>\n",
              "    <tr>\n",
              "      <th>6</th>\n",
              "      <td>6/17</td>\n",
              "      <td>0.353</td>\n",
              "      <td>2/19</td>\n",
              "      <td>0.105</td>\n",
              "      <td>7</td>\n",
              "    </tr>\n",
              "    <tr>\n",
              "      <th>7</th>\n",
              "      <td>11/25</td>\n",
              "      <td>0.440</td>\n",
              "      <td>4/24</td>\n",
              "      <td>0.167</td>\n",
              "      <td>8</td>\n",
              "    </tr>\n",
              "  </tbody>\n",
              "</table>\n",
              "</div>"
            ],
            "text/plain": [
              "0  TYSON Power Punches landed / Thrown Tyson JONES  \\\n",
              "0   6/11                               0.545   0/2   \n",
              "1   8/16                               0.500  2/19   \n",
              "2   8/21                               0.381  6/24   \n",
              "3   4115                               0.267  3/16   \n",
              "4   9/20                               0.450  6/29   \n",
              "5   5/12                               0.417  5/18   \n",
              "6   6/17                               0.353  2/19   \n",
              "7  11/25                               0.440  4/24   \n",
              "\n",
              "0 Power Punches landed / Thrown Jones ROUND  \n",
              "0                                   0     1  \n",
              "1                               0.105     2  \n",
              "2                               0.250     3  \n",
              "3                               0.188     4  \n",
              "4                               0.207     5  \n",
              "5                               0.278     6  \n",
              "6                               0.105     7  \n",
              "7                               0.167     8  "
            ]
          },
          "metadata": {
            "tags": []
          },
          "execution_count": 21
        }
      ]
    },
    {
      "cell_type": "code",
      "metadata": {
        "id": "fN1wTckq53DR"
      },
      "source": [
        "incontro_powerpunches_landed.loc[incontro_powerpunches_landed.TYSON == 4115, 'TYSON'] = \"4/15\""
      ],
      "execution_count": null,
      "outputs": []
    },
    {
      "cell_type": "code",
      "metadata": {
        "id": "a9dRaWcT53DR"
      },
      "source": [
        "incontro_powerpunches_landed['TYSON'] = incontro_powerpunches_landed['TYSON'].astype(str)\n",
        "incontro_powerpunches_landed['JONES'] = incontro_powerpunches_landed['JONES'].astype(str)"
      ],
      "execution_count": null,
      "outputs": []
    },
    {
      "cell_type": "code",
      "metadata": {
        "id": "PH7fWshz53DS"
      },
      "source": [
        "incontro_powerpunches_landed[\"TYSON\"] = incontro_powerpunches_landed[\"TYSON\"].str.replace(' ', '')\n",
        "\n",
        "incontro_powerpunches_landed[\"power_pugni_tirati_tyson\"] = incontro_powerpunches_landed[\"TYSON\"].apply(lambda x: re.findall(r\"/(\\w+)\", x))\n",
        "incontro_powerpunches_landed[\"power_pugni_tirati_jones\"] = incontro_powerpunches_landed[\"JONES\"].apply(lambda x: re.findall(r\"/(\\w+)\", x))\n",
        "\n",
        "incontro_powerpunches_landed[\"tot_punch_tirati_tyson\"] = incontro_powerpunches_landed[\"TYSON\"].apply(lambda x: re.findall(r\"(\\w+)/\", x))\n",
        "incontro_powerpunches_landed[\"tot_punch_tirati_jones\"] = incontro_powerpunches_landed[\"JONES\"].apply(lambda x: re.findall(r\"(\\w+)/\", x))"
      ],
      "execution_count": null,
      "outputs": []
    },
    {
      "cell_type": "code",
      "metadata": {
        "id": "RRtTltiO53DW",
        "outputId": "5035694a-53de-482e-a4ff-c30b1092e6c0"
      },
      "source": [
        "incontro_powerpunches_landed = incontro_powerpunches_landed.explode(\"power_pugni_tirati_tyson\")\n",
        "incontro_powerpunches_landed = incontro_powerpunches_landed.explode(\"power_pugni_tirati_jones\")\n",
        "incontro_powerpunches_landed = incontro_powerpunches_landed.explode(\"tot_punch_tirati_tyson\")\n",
        "incontro_powerpunches_landed = incontro_powerpunches_landed.explode(\"tot_punch_tirati_jones\")\n",
        "incontro_powerpunches_landed"
      ],
      "execution_count": null,
      "outputs": [
        {
          "output_type": "execute_result",
          "data": {
            "text/html": [
              "<div>\n",
              "<style scoped>\n",
              "    .dataframe tbody tr th:only-of-type {\n",
              "        vertical-align: middle;\n",
              "    }\n",
              "\n",
              "    .dataframe tbody tr th {\n",
              "        vertical-align: top;\n",
              "    }\n",
              "\n",
              "    .dataframe thead th {\n",
              "        text-align: right;\n",
              "    }\n",
              "</style>\n",
              "<table border=\"1\" class=\"dataframe\">\n",
              "  <thead>\n",
              "    <tr style=\"text-align: right;\">\n",
              "      <th></th>\n",
              "      <th>TYSON</th>\n",
              "      <th>Power Punches landed / Thrown Tyson</th>\n",
              "      <th>JONES</th>\n",
              "      <th>Power Punches landed / Thrown Jones</th>\n",
              "      <th>ROUND</th>\n",
              "      <th>power_pugni_tirati_tyson</th>\n",
              "      <th>power_pugni_tirati_jones</th>\n",
              "      <th>tot_punch_tirati_tyson</th>\n",
              "      <th>tot_punch_tirati_jones</th>\n",
              "    </tr>\n",
              "  </thead>\n",
              "  <tbody>\n",
              "    <tr>\n",
              "      <th>0</th>\n",
              "      <td>6/11</td>\n",
              "      <td>0.545</td>\n",
              "      <td>0/2</td>\n",
              "      <td>0</td>\n",
              "      <td>1</td>\n",
              "      <td>11</td>\n",
              "      <td>2</td>\n",
              "      <td>6</td>\n",
              "      <td>0</td>\n",
              "    </tr>\n",
              "    <tr>\n",
              "      <th>1</th>\n",
              "      <td>8/16</td>\n",
              "      <td>0.500</td>\n",
              "      <td>2/19</td>\n",
              "      <td>0.105</td>\n",
              "      <td>2</td>\n",
              "      <td>16</td>\n",
              "      <td>19</td>\n",
              "      <td>8</td>\n",
              "      <td>2</td>\n",
              "    </tr>\n",
              "    <tr>\n",
              "      <th>2</th>\n",
              "      <td>8/21</td>\n",
              "      <td>0.381</td>\n",
              "      <td>6/24</td>\n",
              "      <td>0.250</td>\n",
              "      <td>3</td>\n",
              "      <td>21</td>\n",
              "      <td>24</td>\n",
              "      <td>8</td>\n",
              "      <td>6</td>\n",
              "    </tr>\n",
              "    <tr>\n",
              "      <th>3</th>\n",
              "      <td>4/15</td>\n",
              "      <td>0.267</td>\n",
              "      <td>3/16</td>\n",
              "      <td>0.188</td>\n",
              "      <td>4</td>\n",
              "      <td>15</td>\n",
              "      <td>16</td>\n",
              "      <td>4</td>\n",
              "      <td>3</td>\n",
              "    </tr>\n",
              "    <tr>\n",
              "      <th>4</th>\n",
              "      <td>9/20</td>\n",
              "      <td>0.450</td>\n",
              "      <td>6/29</td>\n",
              "      <td>0.207</td>\n",
              "      <td>5</td>\n",
              "      <td>20</td>\n",
              "      <td>29</td>\n",
              "      <td>9</td>\n",
              "      <td>6</td>\n",
              "    </tr>\n",
              "    <tr>\n",
              "      <th>5</th>\n",
              "      <td>5/12</td>\n",
              "      <td>0.417</td>\n",
              "      <td>5/18</td>\n",
              "      <td>0.278</td>\n",
              "      <td>6</td>\n",
              "      <td>12</td>\n",
              "      <td>18</td>\n",
              "      <td>5</td>\n",
              "      <td>5</td>\n",
              "    </tr>\n",
              "    <tr>\n",
              "      <th>6</th>\n",
              "      <td>6/17</td>\n",
              "      <td>0.353</td>\n",
              "      <td>2/19</td>\n",
              "      <td>0.105</td>\n",
              "      <td>7</td>\n",
              "      <td>17</td>\n",
              "      <td>19</td>\n",
              "      <td>6</td>\n",
              "      <td>2</td>\n",
              "    </tr>\n",
              "    <tr>\n",
              "      <th>7</th>\n",
              "      <td>11/25</td>\n",
              "      <td>0.440</td>\n",
              "      <td>4/24</td>\n",
              "      <td>0.167</td>\n",
              "      <td>8</td>\n",
              "      <td>25</td>\n",
              "      <td>24</td>\n",
              "      <td>11</td>\n",
              "      <td>4</td>\n",
              "    </tr>\n",
              "  </tbody>\n",
              "</table>\n",
              "</div>"
            ],
            "text/plain": [
              "0  TYSON Power Punches landed / Thrown Tyson JONES  \\\n",
              "0   6/11                               0.545   0/2   \n",
              "1   8/16                               0.500  2/19   \n",
              "2   8/21                               0.381  6/24   \n",
              "3   4/15                               0.267  3/16   \n",
              "4   9/20                               0.450  6/29   \n",
              "5   5/12                               0.417  5/18   \n",
              "6   6/17                               0.353  2/19   \n",
              "7  11/25                               0.440  4/24   \n",
              "\n",
              "0 Power Punches landed / Thrown Jones ROUND power_pugni_tirati_tyson  \\\n",
              "0                                   0     1                       11   \n",
              "1                               0.105     2                       16   \n",
              "2                               0.250     3                       21   \n",
              "3                               0.188     4                       15   \n",
              "4                               0.207     5                       20   \n",
              "5                               0.278     6                       12   \n",
              "6                               0.105     7                       17   \n",
              "7                               0.167     8                       25   \n",
              "\n",
              "0 power_pugni_tirati_jones tot_punch_tirati_tyson tot_punch_tirati_jones  \n",
              "0                        2                      6                      0  \n",
              "1                       19                      8                      2  \n",
              "2                       24                      8                      6  \n",
              "3                       16                      4                      3  \n",
              "4                       29                      9                      6  \n",
              "5                       18                      5                      5  \n",
              "6                       19                      6                      2  \n",
              "7                       24                     11                      4  "
            ]
          },
          "metadata": {
            "tags": []
          },
          "execution_count": 25
        }
      ]
    },
    {
      "cell_type": "code",
      "metadata": {
        "id": "X2b2k71z53DX"
      },
      "source": [
        "incontro_powerpunches_landed[\"power_pugni_tirati_tyson\"] = incontro_powerpunches_landed[\"power_pugni_tirati_tyson\"].astype(float)\n",
        "incontro_powerpunches_landed[\"power_pugni_tirati_jones\"] = incontro_powerpunches_landed[\"power_pugni_tirati_jones\"].astype(float)\n",
        "incontro_powerpunches_landed[\"tot_punch_tirati_tyson\"] = incontro_powerpunches_landed[\"tot_punch_tirati_tyson\"].astype(float)\n",
        "incontro_powerpunches_landed[\"tot_punch_tirati_jones\"] = incontro_powerpunches_landed[\"tot_punch_tirati_jones\"].astype(float)\n",
        "incontro_powerpunches_landed[\"Power Punches landed / Thrown Tyson\"] = incontro_powerpunches_landed[\"Power Punches landed / Thrown Tyson\"].astype(float)\n",
        "incontro_powerpunches_landed[\"Power Punches landed / Thrown Jones\"] = incontro_powerpunches_landed[\"Power Punches landed / Thrown Jones\"].astype(float)"
      ],
      "execution_count": null,
      "outputs": []
    },
    {
      "cell_type": "code",
      "metadata": {
        "id": "RjiCUyxF53DX",
        "outputId": "1a3b8192-671a-48ad-90b6-9eaa10312649"
      },
      "source": [
        "incontro_powerpunches_landed"
      ],
      "execution_count": null,
      "outputs": [
        {
          "output_type": "execute_result",
          "data": {
            "text/html": [
              "<div>\n",
              "<style scoped>\n",
              "    .dataframe tbody tr th:only-of-type {\n",
              "        vertical-align: middle;\n",
              "    }\n",
              "\n",
              "    .dataframe tbody tr th {\n",
              "        vertical-align: top;\n",
              "    }\n",
              "\n",
              "    .dataframe thead th {\n",
              "        text-align: right;\n",
              "    }\n",
              "</style>\n",
              "<table border=\"1\" class=\"dataframe\">\n",
              "  <thead>\n",
              "    <tr style=\"text-align: right;\">\n",
              "      <th></th>\n",
              "      <th>TYSON</th>\n",
              "      <th>Power Punches landed / Thrown Tyson</th>\n",
              "      <th>JONES</th>\n",
              "      <th>Power Punches landed / Thrown Jones</th>\n",
              "      <th>ROUND</th>\n",
              "      <th>power_pugni_tirati_tyson</th>\n",
              "      <th>power_pugni_tirati_jones</th>\n",
              "      <th>tot_punch_tirati_tyson</th>\n",
              "      <th>tot_punch_tirati_jones</th>\n",
              "    </tr>\n",
              "  </thead>\n",
              "  <tbody>\n",
              "    <tr>\n",
              "      <th>0</th>\n",
              "      <td>6/11</td>\n",
              "      <td>0.545</td>\n",
              "      <td>0/2</td>\n",
              "      <td>0.000</td>\n",
              "      <td>1</td>\n",
              "      <td>11.0</td>\n",
              "      <td>2.0</td>\n",
              "      <td>6.0</td>\n",
              "      <td>0.0</td>\n",
              "    </tr>\n",
              "    <tr>\n",
              "      <th>1</th>\n",
              "      <td>8/16</td>\n",
              "      <td>0.500</td>\n",
              "      <td>2/19</td>\n",
              "      <td>0.105</td>\n",
              "      <td>2</td>\n",
              "      <td>16.0</td>\n",
              "      <td>19.0</td>\n",
              "      <td>8.0</td>\n",
              "      <td>2.0</td>\n",
              "    </tr>\n",
              "    <tr>\n",
              "      <th>2</th>\n",
              "      <td>8/21</td>\n",
              "      <td>0.381</td>\n",
              "      <td>6/24</td>\n",
              "      <td>0.250</td>\n",
              "      <td>3</td>\n",
              "      <td>21.0</td>\n",
              "      <td>24.0</td>\n",
              "      <td>8.0</td>\n",
              "      <td>6.0</td>\n",
              "    </tr>\n",
              "    <tr>\n",
              "      <th>3</th>\n",
              "      <td>4/15</td>\n",
              "      <td>0.267</td>\n",
              "      <td>3/16</td>\n",
              "      <td>0.188</td>\n",
              "      <td>4</td>\n",
              "      <td>15.0</td>\n",
              "      <td>16.0</td>\n",
              "      <td>4.0</td>\n",
              "      <td>3.0</td>\n",
              "    </tr>\n",
              "    <tr>\n",
              "      <th>4</th>\n",
              "      <td>9/20</td>\n",
              "      <td>0.450</td>\n",
              "      <td>6/29</td>\n",
              "      <td>0.207</td>\n",
              "      <td>5</td>\n",
              "      <td>20.0</td>\n",
              "      <td>29.0</td>\n",
              "      <td>9.0</td>\n",
              "      <td>6.0</td>\n",
              "    </tr>\n",
              "    <tr>\n",
              "      <th>5</th>\n",
              "      <td>5/12</td>\n",
              "      <td>0.417</td>\n",
              "      <td>5/18</td>\n",
              "      <td>0.278</td>\n",
              "      <td>6</td>\n",
              "      <td>12.0</td>\n",
              "      <td>18.0</td>\n",
              "      <td>5.0</td>\n",
              "      <td>5.0</td>\n",
              "    </tr>\n",
              "    <tr>\n",
              "      <th>6</th>\n",
              "      <td>6/17</td>\n",
              "      <td>0.353</td>\n",
              "      <td>2/19</td>\n",
              "      <td>0.105</td>\n",
              "      <td>7</td>\n",
              "      <td>17.0</td>\n",
              "      <td>19.0</td>\n",
              "      <td>6.0</td>\n",
              "      <td>2.0</td>\n",
              "    </tr>\n",
              "    <tr>\n",
              "      <th>7</th>\n",
              "      <td>11/25</td>\n",
              "      <td>0.440</td>\n",
              "      <td>4/24</td>\n",
              "      <td>0.167</td>\n",
              "      <td>8</td>\n",
              "      <td>25.0</td>\n",
              "      <td>24.0</td>\n",
              "      <td>11.0</td>\n",
              "      <td>4.0</td>\n",
              "    </tr>\n",
              "  </tbody>\n",
              "</table>\n",
              "</div>"
            ],
            "text/plain": [
              "0  TYSON  Power Punches landed / Thrown Tyson JONES  \\\n",
              "0   6/11                                0.545   0/2   \n",
              "1   8/16                                0.500  2/19   \n",
              "2   8/21                                0.381  6/24   \n",
              "3   4/15                                0.267  3/16   \n",
              "4   9/20                                0.450  6/29   \n",
              "5   5/12                                0.417  5/18   \n",
              "6   6/17                                0.353  2/19   \n",
              "7  11/25                                0.440  4/24   \n",
              "\n",
              "0  Power Punches landed / Thrown Jones ROUND  power_pugni_tirati_tyson  \\\n",
              "0                                0.000     1                      11.0   \n",
              "1                                0.105     2                      16.0   \n",
              "2                                0.250     3                      21.0   \n",
              "3                                0.188     4                      15.0   \n",
              "4                                0.207     5                      20.0   \n",
              "5                                0.278     6                      12.0   \n",
              "6                                0.105     7                      17.0   \n",
              "7                                0.167     8                      25.0   \n",
              "\n",
              "0  power_pugni_tirati_jones  tot_punch_tirati_tyson  tot_punch_tirati_jones  \n",
              "0                       2.0                     6.0                     0.0  \n",
              "1                      19.0                     8.0                     2.0  \n",
              "2                      24.0                     8.0                     6.0  \n",
              "3                      16.0                     4.0                     3.0  \n",
              "4                      29.0                     9.0                     6.0  \n",
              "5                      18.0                     5.0                     5.0  \n",
              "6                      19.0                     6.0                     2.0  \n",
              "7                      24.0                    11.0                     4.0  "
            ]
          },
          "metadata": {
            "tags": []
          },
          "execution_count": 27
        }
      ]
    },
    {
      "cell_type": "code",
      "metadata": {
        "id": "EoA1iW5n53DX",
        "outputId": "dec03dec-14a2-4601-faab-2214c840bd85"
      },
      "source": [
        "incontro_powerpunches_landed['CUMSUM_power_tirati_tyson'] = incontro_powerpunches_landed[\"power_pugni_tirati_tyson\"].cumsum()\n",
        "incontro_powerpunches_landed['CUMSUM_power_tirati_jones'] = incontro_powerpunches_landed[\"power_pugni_tirati_jones\"].cumsum()\n",
        "incontro_powerpunches_landed['CUMSUM_pugni_2_landed_tyson'] = incontro_powerpunches_landed[\"tot_punch_tirati_tyson\"].cumsum()\n",
        "incontro_powerpunches_landed['CUMSUM_pugni_2_landed_jones'] = incontro_powerpunches_landed[\"tot_punch_tirati_jones\"].cumsum()\n",
        "incontro_powerpunches_landed"
      ],
      "execution_count": null,
      "outputs": [
        {
          "output_type": "execute_result",
          "data": {
            "text/html": [
              "<div>\n",
              "<style scoped>\n",
              "    .dataframe tbody tr th:only-of-type {\n",
              "        vertical-align: middle;\n",
              "    }\n",
              "\n",
              "    .dataframe tbody tr th {\n",
              "        vertical-align: top;\n",
              "    }\n",
              "\n",
              "    .dataframe thead th {\n",
              "        text-align: right;\n",
              "    }\n",
              "</style>\n",
              "<table border=\"1\" class=\"dataframe\">\n",
              "  <thead>\n",
              "    <tr style=\"text-align: right;\">\n",
              "      <th></th>\n",
              "      <th>TYSON</th>\n",
              "      <th>Power Punches landed / Thrown Tyson</th>\n",
              "      <th>JONES</th>\n",
              "      <th>Power Punches landed / Thrown Jones</th>\n",
              "      <th>ROUND</th>\n",
              "      <th>power_pugni_tirati_tyson</th>\n",
              "      <th>power_pugni_tirati_jones</th>\n",
              "      <th>tot_punch_tirati_tyson</th>\n",
              "      <th>tot_punch_tirati_jones</th>\n",
              "      <th>CUMSUM_power_tirati_tyson</th>\n",
              "      <th>CUMSUM_power_tirati_jones</th>\n",
              "      <th>CUMSUM_pugni_2_landed_tyson</th>\n",
              "      <th>CUMSUM_pugni_2_landed_jones</th>\n",
              "    </tr>\n",
              "  </thead>\n",
              "  <tbody>\n",
              "    <tr>\n",
              "      <th>0</th>\n",
              "      <td>6/11</td>\n",
              "      <td>0.545</td>\n",
              "      <td>0/2</td>\n",
              "      <td>0.000</td>\n",
              "      <td>1</td>\n",
              "      <td>11.0</td>\n",
              "      <td>2.0</td>\n",
              "      <td>6.0</td>\n",
              "      <td>0.0</td>\n",
              "      <td>11.0</td>\n",
              "      <td>2.0</td>\n",
              "      <td>6.0</td>\n",
              "      <td>0.0</td>\n",
              "    </tr>\n",
              "    <tr>\n",
              "      <th>1</th>\n",
              "      <td>8/16</td>\n",
              "      <td>0.500</td>\n",
              "      <td>2/19</td>\n",
              "      <td>0.105</td>\n",
              "      <td>2</td>\n",
              "      <td>16.0</td>\n",
              "      <td>19.0</td>\n",
              "      <td>8.0</td>\n",
              "      <td>2.0</td>\n",
              "      <td>27.0</td>\n",
              "      <td>21.0</td>\n",
              "      <td>14.0</td>\n",
              "      <td>2.0</td>\n",
              "    </tr>\n",
              "    <tr>\n",
              "      <th>2</th>\n",
              "      <td>8/21</td>\n",
              "      <td>0.381</td>\n",
              "      <td>6/24</td>\n",
              "      <td>0.250</td>\n",
              "      <td>3</td>\n",
              "      <td>21.0</td>\n",
              "      <td>24.0</td>\n",
              "      <td>8.0</td>\n",
              "      <td>6.0</td>\n",
              "      <td>48.0</td>\n",
              "      <td>45.0</td>\n",
              "      <td>22.0</td>\n",
              "      <td>8.0</td>\n",
              "    </tr>\n",
              "    <tr>\n",
              "      <th>3</th>\n",
              "      <td>4/15</td>\n",
              "      <td>0.267</td>\n",
              "      <td>3/16</td>\n",
              "      <td>0.188</td>\n",
              "      <td>4</td>\n",
              "      <td>15.0</td>\n",
              "      <td>16.0</td>\n",
              "      <td>4.0</td>\n",
              "      <td>3.0</td>\n",
              "      <td>63.0</td>\n",
              "      <td>61.0</td>\n",
              "      <td>26.0</td>\n",
              "      <td>11.0</td>\n",
              "    </tr>\n",
              "    <tr>\n",
              "      <th>4</th>\n",
              "      <td>9/20</td>\n",
              "      <td>0.450</td>\n",
              "      <td>6/29</td>\n",
              "      <td>0.207</td>\n",
              "      <td>5</td>\n",
              "      <td>20.0</td>\n",
              "      <td>29.0</td>\n",
              "      <td>9.0</td>\n",
              "      <td>6.0</td>\n",
              "      <td>83.0</td>\n",
              "      <td>90.0</td>\n",
              "      <td>35.0</td>\n",
              "      <td>17.0</td>\n",
              "    </tr>\n",
              "    <tr>\n",
              "      <th>5</th>\n",
              "      <td>5/12</td>\n",
              "      <td>0.417</td>\n",
              "      <td>5/18</td>\n",
              "      <td>0.278</td>\n",
              "      <td>6</td>\n",
              "      <td>12.0</td>\n",
              "      <td>18.0</td>\n",
              "      <td>5.0</td>\n",
              "      <td>5.0</td>\n",
              "      <td>95.0</td>\n",
              "      <td>108.0</td>\n",
              "      <td>40.0</td>\n",
              "      <td>22.0</td>\n",
              "    </tr>\n",
              "    <tr>\n",
              "      <th>6</th>\n",
              "      <td>6/17</td>\n",
              "      <td>0.353</td>\n",
              "      <td>2/19</td>\n",
              "      <td>0.105</td>\n",
              "      <td>7</td>\n",
              "      <td>17.0</td>\n",
              "      <td>19.0</td>\n",
              "      <td>6.0</td>\n",
              "      <td>2.0</td>\n",
              "      <td>112.0</td>\n",
              "      <td>127.0</td>\n",
              "      <td>46.0</td>\n",
              "      <td>24.0</td>\n",
              "    </tr>\n",
              "    <tr>\n",
              "      <th>7</th>\n",
              "      <td>11/25</td>\n",
              "      <td>0.440</td>\n",
              "      <td>4/24</td>\n",
              "      <td>0.167</td>\n",
              "      <td>8</td>\n",
              "      <td>25.0</td>\n",
              "      <td>24.0</td>\n",
              "      <td>11.0</td>\n",
              "      <td>4.0</td>\n",
              "      <td>137.0</td>\n",
              "      <td>151.0</td>\n",
              "      <td>57.0</td>\n",
              "      <td>28.0</td>\n",
              "    </tr>\n",
              "  </tbody>\n",
              "</table>\n",
              "</div>"
            ],
            "text/plain": [
              "0  TYSON  Power Punches landed / Thrown Tyson JONES  \\\n",
              "0   6/11                                0.545   0/2   \n",
              "1   8/16                                0.500  2/19   \n",
              "2   8/21                                0.381  6/24   \n",
              "3   4/15                                0.267  3/16   \n",
              "4   9/20                                0.450  6/29   \n",
              "5   5/12                                0.417  5/18   \n",
              "6   6/17                                0.353  2/19   \n",
              "7  11/25                                0.440  4/24   \n",
              "\n",
              "0  Power Punches landed / Thrown Jones ROUND  power_pugni_tirati_tyson  \\\n",
              "0                                0.000     1                      11.0   \n",
              "1                                0.105     2                      16.0   \n",
              "2                                0.250     3                      21.0   \n",
              "3                                0.188     4                      15.0   \n",
              "4                                0.207     5                      20.0   \n",
              "5                                0.278     6                      12.0   \n",
              "6                                0.105     7                      17.0   \n",
              "7                                0.167     8                      25.0   \n",
              "\n",
              "0  power_pugni_tirati_jones  tot_punch_tirati_tyson  tot_punch_tirati_jones  \\\n",
              "0                       2.0                     6.0                     0.0   \n",
              "1                      19.0                     8.0                     2.0   \n",
              "2                      24.0                     8.0                     6.0   \n",
              "3                      16.0                     4.0                     3.0   \n",
              "4                      29.0                     9.0                     6.0   \n",
              "5                      18.0                     5.0                     5.0   \n",
              "6                      19.0                     6.0                     2.0   \n",
              "7                      24.0                    11.0                     4.0   \n",
              "\n",
              "0  CUMSUM_power_tirati_tyson  CUMSUM_power_tirati_jones  \\\n",
              "0                       11.0                        2.0   \n",
              "1                       27.0                       21.0   \n",
              "2                       48.0                       45.0   \n",
              "3                       63.0                       61.0   \n",
              "4                       83.0                       90.0   \n",
              "5                       95.0                      108.0   \n",
              "6                      112.0                      127.0   \n",
              "7                      137.0                      151.0   \n",
              "\n",
              "0  CUMSUM_pugni_2_landed_tyson  CUMSUM_pugni_2_landed_jones  \n",
              "0                          6.0                          0.0  \n",
              "1                         14.0                          2.0  \n",
              "2                         22.0                          8.0  \n",
              "3                         26.0                         11.0  \n",
              "4                         35.0                         17.0  \n",
              "5                         40.0                         22.0  \n",
              "6                         46.0                         24.0  \n",
              "7                         57.0                         28.0  "
            ]
          },
          "metadata": {
            "tags": []
          },
          "execution_count": 28
        }
      ]
    },
    {
      "cell_type": "code",
      "metadata": {
        "id": "kxJIJW0g53DY",
        "outputId": "144bfdce-8485-4652-dbfa-8b44bd6bb8c3"
      },
      "source": [
        "incontro_powerpunches_landed = incontro_powerpunches_landed.rename(columns={\"TYSON\": \"TYSON_power_total\", \"JONES\": \"JONES_power_total\"})\n",
        "incontro_powerpunches_landed.head(1)"
      ],
      "execution_count": null,
      "outputs": [
        {
          "output_type": "execute_result",
          "data": {
            "text/html": [
              "<div>\n",
              "<style scoped>\n",
              "    .dataframe tbody tr th:only-of-type {\n",
              "        vertical-align: middle;\n",
              "    }\n",
              "\n",
              "    .dataframe tbody tr th {\n",
              "        vertical-align: top;\n",
              "    }\n",
              "\n",
              "    .dataframe thead th {\n",
              "        text-align: right;\n",
              "    }\n",
              "</style>\n",
              "<table border=\"1\" class=\"dataframe\">\n",
              "  <thead>\n",
              "    <tr style=\"text-align: right;\">\n",
              "      <th></th>\n",
              "      <th>TYSON_power_total</th>\n",
              "      <th>Power Punches landed / Thrown Tyson</th>\n",
              "      <th>JONES_power_total</th>\n",
              "      <th>Power Punches landed / Thrown Jones</th>\n",
              "      <th>ROUND</th>\n",
              "      <th>power_pugni_tirati_tyson</th>\n",
              "      <th>power_pugni_tirati_jones</th>\n",
              "      <th>tot_punch_tirati_tyson</th>\n",
              "      <th>tot_punch_tirati_jones</th>\n",
              "      <th>CUMSUM_power_tirati_tyson</th>\n",
              "      <th>CUMSUM_power_tirati_jones</th>\n",
              "      <th>CUMSUM_pugni_2_landed_tyson</th>\n",
              "      <th>CUMSUM_pugni_2_landed_jones</th>\n",
              "    </tr>\n",
              "  </thead>\n",
              "  <tbody>\n",
              "    <tr>\n",
              "      <th>0</th>\n",
              "      <td>6/11</td>\n",
              "      <td>0.545</td>\n",
              "      <td>0/2</td>\n",
              "      <td>0.0</td>\n",
              "      <td>1</td>\n",
              "      <td>11.0</td>\n",
              "      <td>2.0</td>\n",
              "      <td>6.0</td>\n",
              "      <td>0.0</td>\n",
              "      <td>11.0</td>\n",
              "      <td>2.0</td>\n",
              "      <td>6.0</td>\n",
              "      <td>0.0</td>\n",
              "    </tr>\n",
              "  </tbody>\n",
              "</table>\n",
              "</div>"
            ],
            "text/plain": [
              "0 TYSON_power_total  Power Punches landed / Thrown Tyson JONES_power_total  \\\n",
              "0              6/11                                0.545               0/2   \n",
              "\n",
              "0  Power Punches landed / Thrown Jones ROUND  power_pugni_tirati_tyson  \\\n",
              "0                                  0.0     1                      11.0   \n",
              "\n",
              "0  power_pugni_tirati_jones  tot_punch_tirati_tyson  tot_punch_tirati_jones  \\\n",
              "0                       2.0                     6.0                     0.0   \n",
              "\n",
              "0  CUMSUM_power_tirati_tyson  CUMSUM_power_tirati_jones  \\\n",
              "0                       11.0                        2.0   \n",
              "\n",
              "0  CUMSUM_pugni_2_landed_tyson  CUMSUM_pugni_2_landed_jones  \n",
              "0                          6.0                          0.0  "
            ]
          },
          "metadata": {
            "tags": []
          },
          "execution_count": 29
        }
      ]
    },
    {
      "cell_type": "code",
      "metadata": {
        "id": "wRn7Ho9Z53DY"
      },
      "source": [
        "#[incontro_punches_total]"
      ],
      "execution_count": null,
      "outputs": []
    },
    {
      "cell_type": "code",
      "metadata": {
        "id": "2Y1zwKfs53DZ",
        "outputId": "11c15d99-9222-4347-8878-97e241562463"
      },
      "source": [
        "#Costruisco dataset legato ai pugni dati da Tyson e Jones:\n",
        "incontro_punches_total = pd.read_csv(\"/Users/matteo/Desktop/DATA SCIENCE/Data Management/Progettto/statistics-1.csv\",  header= None)\n",
        "incontro_punches_total = incontro_punches_total.transpose()\n",
        "\n",
        "new_header_incontro_punches_total = incontro_punches_total.iloc[0] \n",
        "incontro_punches_total = incontro_punches_total[1:] \n",
        "incontro_punches_total.columns = new_header_incontro_punches_total\n",
        "\n",
        "incontro_punches_total = incontro_punches_total.reset_index(drop = True)\n",
        "incontro_punches_total"
      ],
      "execution_count": null,
      "outputs": [
        {
          "output_type": "execute_result",
          "data": {
            "text/html": [
              "<div>\n",
              "<style scoped>\n",
              "    .dataframe tbody tr th:only-of-type {\n",
              "        vertical-align: middle;\n",
              "    }\n",
              "\n",
              "    .dataframe tbody tr th {\n",
              "        vertical-align: top;\n",
              "    }\n",
              "\n",
              "    .dataframe thead th {\n",
              "        text-align: right;\n",
              "    }\n",
              "</style>\n",
              "<table border=\"1\" class=\"dataframe\">\n",
              "  <thead>\n",
              "    <tr style=\"text-align: right;\">\n",
              "      <th></th>\n",
              "      <th>TYSON</th>\n",
              "      <th>Total Punches Landed / Thrown Tyson</th>\n",
              "      <th>JONES</th>\n",
              "      <th>Total Punches Landed / Thrown Jones</th>\n",
              "      <th>ROUND</th>\n",
              "    </tr>\n",
              "  </thead>\n",
              "  <tbody>\n",
              "    <tr>\n",
              "      <th>0</th>\n",
              "      <td>7/ 22</td>\n",
              "      <td>0.318</td>\n",
              "      <td>2/18</td>\n",
              "      <td>0.111</td>\n",
              "      <td>1</td>\n",
              "    </tr>\n",
              "    <tr>\n",
              "      <th>1</th>\n",
              "      <td>8/21</td>\n",
              "      <td>0.381</td>\n",
              "      <td>4/32</td>\n",
              "      <td>0.125</td>\n",
              "      <td>2</td>\n",
              "    </tr>\n",
              "    <tr>\n",
              "      <th>2</th>\n",
              "      <td>9/28</td>\n",
              "      <td>0.321</td>\n",
              "      <td>6/30</td>\n",
              "      <td>0.200</td>\n",
              "      <td>3</td>\n",
              "    </tr>\n",
              "    <tr>\n",
              "      <th>3</th>\n",
              "      <td>6/21</td>\n",
              "      <td>0.286</td>\n",
              "      <td>3128</td>\n",
              "      <td>0.107</td>\n",
              "      <td>4</td>\n",
              "    </tr>\n",
              "    <tr>\n",
              "      <th>4</th>\n",
              "      <td>12130</td>\n",
              "      <td>0.400</td>\n",
              "      <td>9/42</td>\n",
              "      <td>0.214</td>\n",
              "      <td>5</td>\n",
              "    </tr>\n",
              "    <tr>\n",
              "      <th>5</th>\n",
              "      <td>6/19</td>\n",
              "      <td>0.316</td>\n",
              "      <td>6/28</td>\n",
              "      <td>0.214</td>\n",
              "      <td>6</td>\n",
              "    </tr>\n",
              "    <tr>\n",
              "      <th>6</th>\n",
              "      <td>8/23</td>\n",
              "      <td>0.348</td>\n",
              "      <td>2/25</td>\n",
              "      <td>0.080</td>\n",
              "      <td>7</td>\n",
              "    </tr>\n",
              "    <tr>\n",
              "      <th>7</th>\n",
              "      <td>11/29</td>\n",
              "      <td>0.379</td>\n",
              "      <td>5/33</td>\n",
              "      <td>0.152</td>\n",
              "      <td>8</td>\n",
              "    </tr>\n",
              "  </tbody>\n",
              "</table>\n",
              "</div>"
            ],
            "text/plain": [
              "0  TYSON Total Punches Landed / Thrown Tyson JONES  \\\n",
              "0  7/ 22                               0.318  2/18   \n",
              "1   8/21                               0.381  4/32   \n",
              "2   9/28                               0.321  6/30   \n",
              "3   6/21                               0.286  3128   \n",
              "4  12130                               0.400  9/42   \n",
              "5   6/19                               0.316  6/28   \n",
              "6   8/23                               0.348  2/25   \n",
              "7  11/29                               0.379  5/33   \n",
              "\n",
              "0 Total Punches Landed / Thrown Jones ROUND  \n",
              "0                               0.111     1  \n",
              "1                               0.125     2  \n",
              "2                               0.200     3  \n",
              "3                               0.107     4  \n",
              "4                               0.214     5  \n",
              "5                               0.214     6  \n",
              "6                               0.080     7  \n",
              "7                               0.152     8  "
            ]
          },
          "metadata": {
            "tags": []
          },
          "execution_count": 31
        }
      ]
    },
    {
      "cell_type": "code",
      "metadata": {
        "id": "6FsvqsIL53DZ"
      },
      "source": [
        "incontro_punches_total.loc[incontro_punches_total.TYSON == 12130, 'TYSON'] = \"12/30\"\n",
        "incontro_punches_total.loc[incontro_punches_total.JONES == 3128, 'JONES'] = \"3/28\""
      ],
      "execution_count": null,
      "outputs": []
    },
    {
      "cell_type": "code",
      "metadata": {
        "id": "bzF8EA9w53Dc"
      },
      "source": [
        "incontro_punches_total['TYSON'] = incontro_punches_total['TYSON'].astype(str)\n",
        "incontro_punches_total['JONES'] = incontro_punches_total['JONES'].astype(str)"
      ],
      "execution_count": null,
      "outputs": []
    },
    {
      "cell_type": "code",
      "metadata": {
        "id": "iUR32aJy53Dd"
      },
      "source": [
        "incontro_punches_total[\"TYSON\"] = incontro_punches_total[\"TYSON\"].str.replace(' ', '')\n",
        "\n",
        "incontro_punches_total[\"pugni_tirati_complex_tyson\"] = incontro_punches_total[\"TYSON\"].apply(lambda x: re.findall(r\"/(\\w+)\", x))\n",
        "incontro_punches_total[\"pugni_tirati_complex_jones\"] = incontro_punches_total[\"JONES\"].apply(lambda x: re.findall(r\"/(\\w+)\", x))\n",
        "\n",
        "incontro_punches_total[\"tot_punch_landed_tyson\"] = incontro_punches_total[\"TYSON\"].apply(lambda x: re.findall(r\"(\\w+)/\", x))\n",
        "incontro_punches_total[\"tot_punch_landed_jones\"] = incontro_punches_total[\"JONES\"].apply(lambda x: re.findall(r\"(\\w+)/\", x))"
      ],
      "execution_count": null,
      "outputs": []
    },
    {
      "cell_type": "code",
      "metadata": {
        "id": "NP0s5IAK53Dd",
        "outputId": "b5b97df8-32cd-47af-9cad-29673361dc36"
      },
      "source": [
        "incontro_punches_total = incontro_punches_total.explode(\"pugni_tirati_complex_tyson\")\n",
        "incontro_punches_total = incontro_punches_total.explode(\"pugni_tirati_complex_jones\")\n",
        "incontro_punches_total = incontro_punches_total.explode(\"tot_punch_landed_tyson\")\n",
        "incontro_punches_total = incontro_punches_total.explode(\"tot_punch_landed_jones\")\n",
        "incontro_punches_total"
      ],
      "execution_count": null,
      "outputs": [
        {
          "output_type": "execute_result",
          "data": {
            "text/html": [
              "<div>\n",
              "<style scoped>\n",
              "    .dataframe tbody tr th:only-of-type {\n",
              "        vertical-align: middle;\n",
              "    }\n",
              "\n",
              "    .dataframe tbody tr th {\n",
              "        vertical-align: top;\n",
              "    }\n",
              "\n",
              "    .dataframe thead th {\n",
              "        text-align: right;\n",
              "    }\n",
              "</style>\n",
              "<table border=\"1\" class=\"dataframe\">\n",
              "  <thead>\n",
              "    <tr style=\"text-align: right;\">\n",
              "      <th></th>\n",
              "      <th>TYSON</th>\n",
              "      <th>Total Punches Landed / Thrown Tyson</th>\n",
              "      <th>JONES</th>\n",
              "      <th>Total Punches Landed / Thrown Jones</th>\n",
              "      <th>ROUND</th>\n",
              "      <th>pugni_tirati_complex_tyson</th>\n",
              "      <th>pugni_tirati_complex_jones</th>\n",
              "      <th>tot_punch_landed_tyson</th>\n",
              "      <th>tot_punch_landed_jones</th>\n",
              "    </tr>\n",
              "  </thead>\n",
              "  <tbody>\n",
              "    <tr>\n",
              "      <th>0</th>\n",
              "      <td>7/22</td>\n",
              "      <td>0.318</td>\n",
              "      <td>2/18</td>\n",
              "      <td>0.111</td>\n",
              "      <td>1</td>\n",
              "      <td>22</td>\n",
              "      <td>18</td>\n",
              "      <td>7</td>\n",
              "      <td>2</td>\n",
              "    </tr>\n",
              "    <tr>\n",
              "      <th>1</th>\n",
              "      <td>8/21</td>\n",
              "      <td>0.381</td>\n",
              "      <td>4/32</td>\n",
              "      <td>0.125</td>\n",
              "      <td>2</td>\n",
              "      <td>21</td>\n",
              "      <td>32</td>\n",
              "      <td>8</td>\n",
              "      <td>4</td>\n",
              "    </tr>\n",
              "    <tr>\n",
              "      <th>2</th>\n",
              "      <td>9/28</td>\n",
              "      <td>0.321</td>\n",
              "      <td>6/30</td>\n",
              "      <td>0.200</td>\n",
              "      <td>3</td>\n",
              "      <td>28</td>\n",
              "      <td>30</td>\n",
              "      <td>9</td>\n",
              "      <td>6</td>\n",
              "    </tr>\n",
              "    <tr>\n",
              "      <th>3</th>\n",
              "      <td>6/21</td>\n",
              "      <td>0.286</td>\n",
              "      <td>3/28</td>\n",
              "      <td>0.107</td>\n",
              "      <td>4</td>\n",
              "      <td>21</td>\n",
              "      <td>28</td>\n",
              "      <td>6</td>\n",
              "      <td>3</td>\n",
              "    </tr>\n",
              "    <tr>\n",
              "      <th>4</th>\n",
              "      <td>12/30</td>\n",
              "      <td>0.400</td>\n",
              "      <td>9/42</td>\n",
              "      <td>0.214</td>\n",
              "      <td>5</td>\n",
              "      <td>30</td>\n",
              "      <td>42</td>\n",
              "      <td>12</td>\n",
              "      <td>9</td>\n",
              "    </tr>\n",
              "    <tr>\n",
              "      <th>5</th>\n",
              "      <td>6/19</td>\n",
              "      <td>0.316</td>\n",
              "      <td>6/28</td>\n",
              "      <td>0.214</td>\n",
              "      <td>6</td>\n",
              "      <td>19</td>\n",
              "      <td>28</td>\n",
              "      <td>6</td>\n",
              "      <td>6</td>\n",
              "    </tr>\n",
              "    <tr>\n",
              "      <th>6</th>\n",
              "      <td>8/23</td>\n",
              "      <td>0.348</td>\n",
              "      <td>2/25</td>\n",
              "      <td>0.080</td>\n",
              "      <td>7</td>\n",
              "      <td>23</td>\n",
              "      <td>25</td>\n",
              "      <td>8</td>\n",
              "      <td>2</td>\n",
              "    </tr>\n",
              "    <tr>\n",
              "      <th>7</th>\n",
              "      <td>11/29</td>\n",
              "      <td>0.379</td>\n",
              "      <td>5/33</td>\n",
              "      <td>0.152</td>\n",
              "      <td>8</td>\n",
              "      <td>29</td>\n",
              "      <td>33</td>\n",
              "      <td>11</td>\n",
              "      <td>5</td>\n",
              "    </tr>\n",
              "  </tbody>\n",
              "</table>\n",
              "</div>"
            ],
            "text/plain": [
              "0  TYSON Total Punches Landed / Thrown Tyson JONES  \\\n",
              "0   7/22                               0.318  2/18   \n",
              "1   8/21                               0.381  4/32   \n",
              "2   9/28                               0.321  6/30   \n",
              "3   6/21                               0.286  3/28   \n",
              "4  12/30                               0.400  9/42   \n",
              "5   6/19                               0.316  6/28   \n",
              "6   8/23                               0.348  2/25   \n",
              "7  11/29                               0.379  5/33   \n",
              "\n",
              "0 Total Punches Landed / Thrown Jones ROUND pugni_tirati_complex_tyson  \\\n",
              "0                               0.111     1                         22   \n",
              "1                               0.125     2                         21   \n",
              "2                               0.200     3                         28   \n",
              "3                               0.107     4                         21   \n",
              "4                               0.214     5                         30   \n",
              "5                               0.214     6                         19   \n",
              "6                               0.080     7                         23   \n",
              "7                               0.152     8                         29   \n",
              "\n",
              "0 pugni_tirati_complex_jones tot_punch_landed_tyson tot_punch_landed_jones  \n",
              "0                         18                      7                      2  \n",
              "1                         32                      8                      4  \n",
              "2                         30                      9                      6  \n",
              "3                         28                      6                      3  \n",
              "4                         42                     12                      9  \n",
              "5                         28                      6                      6  \n",
              "6                         25                      8                      2  \n",
              "7                         33                     11                      5  "
            ]
          },
          "metadata": {
            "tags": []
          },
          "execution_count": 35
        }
      ]
    },
    {
      "cell_type": "code",
      "metadata": {
        "id": "11mzZ0xq53De"
      },
      "source": [
        "incontro_punches_total[\"pugni_tirati_complex_tyson\"] = incontro_punches_total[\"pugni_tirati_complex_tyson\"].astype(float)\n",
        "incontro_punches_total[\"pugni_tirati_complex_jones\"] = incontro_punches_total[\"pugni_tirati_complex_jones\"].astype(float)\n",
        "incontro_punches_total[\"tot_punch_landed_tyson\"] = incontro_punches_total[\"tot_punch_landed_tyson\"].astype(float)\n",
        "incontro_punches_total[\"tot_punch_landed_jones\"] = incontro_punches_total[\"tot_punch_landed_jones\"].astype(float)\n",
        "incontro_punches_total[\"Total Punches Landed / Thrown Tyson\"] = incontro_punches_total[\"Total Punches Landed / Thrown Tyson\"].astype(float)\n",
        "incontro_punches_total[\"Total Punches Landed / Thrown Jones\"] = incontro_punches_total[\"Total Punches Landed / Thrown Jones\"].astype(float)"
      ],
      "execution_count": null,
      "outputs": []
    },
    {
      "cell_type": "code",
      "metadata": {
        "id": "r4cnsY4753Df"
      },
      "source": [
        "incontro_punches_total['CUMSUM_pugni_tirati_tyson'] = incontro_punches_total[\"pugni_tirati_complex_tyson\"].cumsum()\n",
        "incontro_punches_total['CUMSUM_pugni_tirati_jones'] = incontro_punches_total[\"pugni_tirati_complex_jones\"].cumsum()\n",
        "incontro_punches_total['CUMSUM_pugni_landed_tyson'] = incontro_punches_total[\"tot_punch_landed_tyson\"].cumsum()\n",
        "incontro_punches_total['CUMSUM_pugni_landed_jones'] = incontro_punches_total[\"tot_punch_landed_jones\"].cumsum()"
      ],
      "execution_count": null,
      "outputs": []
    },
    {
      "cell_type": "code",
      "metadata": {
        "id": "prq9rHIh53Df",
        "outputId": "a4996061-5d41-4b88-a133-e5f48128fb07"
      },
      "source": [
        "incontro_punches_total"
      ],
      "execution_count": null,
      "outputs": [
        {
          "output_type": "execute_result",
          "data": {
            "text/html": [
              "<div>\n",
              "<style scoped>\n",
              "    .dataframe tbody tr th:only-of-type {\n",
              "        vertical-align: middle;\n",
              "    }\n",
              "\n",
              "    .dataframe tbody tr th {\n",
              "        vertical-align: top;\n",
              "    }\n",
              "\n",
              "    .dataframe thead th {\n",
              "        text-align: right;\n",
              "    }\n",
              "</style>\n",
              "<table border=\"1\" class=\"dataframe\">\n",
              "  <thead>\n",
              "    <tr style=\"text-align: right;\">\n",
              "      <th></th>\n",
              "      <th>TYSON</th>\n",
              "      <th>Total Punches Landed / Thrown Tyson</th>\n",
              "      <th>JONES</th>\n",
              "      <th>Total Punches Landed / Thrown Jones</th>\n",
              "      <th>ROUND</th>\n",
              "      <th>pugni_tirati_complex_tyson</th>\n",
              "      <th>pugni_tirati_complex_jones</th>\n",
              "      <th>tot_punch_landed_tyson</th>\n",
              "      <th>tot_punch_landed_jones</th>\n",
              "      <th>CUMSUM_pugni_tirati_tyson</th>\n",
              "      <th>CUMSUM_pugni_tirati_jones</th>\n",
              "      <th>CUMSUM_pugni_landed_tyson</th>\n",
              "      <th>CUMSUM_pugni_landed_jones</th>\n",
              "    </tr>\n",
              "  </thead>\n",
              "  <tbody>\n",
              "    <tr>\n",
              "      <th>0</th>\n",
              "      <td>7/22</td>\n",
              "      <td>0.318</td>\n",
              "      <td>2/18</td>\n",
              "      <td>0.111</td>\n",
              "      <td>1</td>\n",
              "      <td>22.0</td>\n",
              "      <td>18.0</td>\n",
              "      <td>7.0</td>\n",
              "      <td>2.0</td>\n",
              "      <td>22.0</td>\n",
              "      <td>18.0</td>\n",
              "      <td>7.0</td>\n",
              "      <td>2.0</td>\n",
              "    </tr>\n",
              "    <tr>\n",
              "      <th>1</th>\n",
              "      <td>8/21</td>\n",
              "      <td>0.381</td>\n",
              "      <td>4/32</td>\n",
              "      <td>0.125</td>\n",
              "      <td>2</td>\n",
              "      <td>21.0</td>\n",
              "      <td>32.0</td>\n",
              "      <td>8.0</td>\n",
              "      <td>4.0</td>\n",
              "      <td>43.0</td>\n",
              "      <td>50.0</td>\n",
              "      <td>15.0</td>\n",
              "      <td>6.0</td>\n",
              "    </tr>\n",
              "    <tr>\n",
              "      <th>2</th>\n",
              "      <td>9/28</td>\n",
              "      <td>0.321</td>\n",
              "      <td>6/30</td>\n",
              "      <td>0.200</td>\n",
              "      <td>3</td>\n",
              "      <td>28.0</td>\n",
              "      <td>30.0</td>\n",
              "      <td>9.0</td>\n",
              "      <td>6.0</td>\n",
              "      <td>71.0</td>\n",
              "      <td>80.0</td>\n",
              "      <td>24.0</td>\n",
              "      <td>12.0</td>\n",
              "    </tr>\n",
              "    <tr>\n",
              "      <th>3</th>\n",
              "      <td>6/21</td>\n",
              "      <td>0.286</td>\n",
              "      <td>3/28</td>\n",
              "      <td>0.107</td>\n",
              "      <td>4</td>\n",
              "      <td>21.0</td>\n",
              "      <td>28.0</td>\n",
              "      <td>6.0</td>\n",
              "      <td>3.0</td>\n",
              "      <td>92.0</td>\n",
              "      <td>108.0</td>\n",
              "      <td>30.0</td>\n",
              "      <td>15.0</td>\n",
              "    </tr>\n",
              "    <tr>\n",
              "      <th>4</th>\n",
              "      <td>12/30</td>\n",
              "      <td>0.400</td>\n",
              "      <td>9/42</td>\n",
              "      <td>0.214</td>\n",
              "      <td>5</td>\n",
              "      <td>30.0</td>\n",
              "      <td>42.0</td>\n",
              "      <td>12.0</td>\n",
              "      <td>9.0</td>\n",
              "      <td>122.0</td>\n",
              "      <td>150.0</td>\n",
              "      <td>42.0</td>\n",
              "      <td>24.0</td>\n",
              "    </tr>\n",
              "    <tr>\n",
              "      <th>5</th>\n",
              "      <td>6/19</td>\n",
              "      <td>0.316</td>\n",
              "      <td>6/28</td>\n",
              "      <td>0.214</td>\n",
              "      <td>6</td>\n",
              "      <td>19.0</td>\n",
              "      <td>28.0</td>\n",
              "      <td>6.0</td>\n",
              "      <td>6.0</td>\n",
              "      <td>141.0</td>\n",
              "      <td>178.0</td>\n",
              "      <td>48.0</td>\n",
              "      <td>30.0</td>\n",
              "    </tr>\n",
              "    <tr>\n",
              "      <th>6</th>\n",
              "      <td>8/23</td>\n",
              "      <td>0.348</td>\n",
              "      <td>2/25</td>\n",
              "      <td>0.080</td>\n",
              "      <td>7</td>\n",
              "      <td>23.0</td>\n",
              "      <td>25.0</td>\n",
              "      <td>8.0</td>\n",
              "      <td>2.0</td>\n",
              "      <td>164.0</td>\n",
              "      <td>203.0</td>\n",
              "      <td>56.0</td>\n",
              "      <td>32.0</td>\n",
              "    </tr>\n",
              "    <tr>\n",
              "      <th>7</th>\n",
              "      <td>11/29</td>\n",
              "      <td>0.379</td>\n",
              "      <td>5/33</td>\n",
              "      <td>0.152</td>\n",
              "      <td>8</td>\n",
              "      <td>29.0</td>\n",
              "      <td>33.0</td>\n",
              "      <td>11.0</td>\n",
              "      <td>5.0</td>\n",
              "      <td>193.0</td>\n",
              "      <td>236.0</td>\n",
              "      <td>67.0</td>\n",
              "      <td>37.0</td>\n",
              "    </tr>\n",
              "  </tbody>\n",
              "</table>\n",
              "</div>"
            ],
            "text/plain": [
              "0  TYSON  Total Punches Landed / Thrown Tyson JONES  \\\n",
              "0   7/22                                0.318  2/18   \n",
              "1   8/21                                0.381  4/32   \n",
              "2   9/28                                0.321  6/30   \n",
              "3   6/21                                0.286  3/28   \n",
              "4  12/30                                0.400  9/42   \n",
              "5   6/19                                0.316  6/28   \n",
              "6   8/23                                0.348  2/25   \n",
              "7  11/29                                0.379  5/33   \n",
              "\n",
              "0  Total Punches Landed / Thrown Jones ROUND  pugni_tirati_complex_tyson  \\\n",
              "0                                0.111     1                        22.0   \n",
              "1                                0.125     2                        21.0   \n",
              "2                                0.200     3                        28.0   \n",
              "3                                0.107     4                        21.0   \n",
              "4                                0.214     5                        30.0   \n",
              "5                                0.214     6                        19.0   \n",
              "6                                0.080     7                        23.0   \n",
              "7                                0.152     8                        29.0   \n",
              "\n",
              "0  pugni_tirati_complex_jones  tot_punch_landed_tyson  tot_punch_landed_jones  \\\n",
              "0                        18.0                     7.0                     2.0   \n",
              "1                        32.0                     8.0                     4.0   \n",
              "2                        30.0                     9.0                     6.0   \n",
              "3                        28.0                     6.0                     3.0   \n",
              "4                        42.0                    12.0                     9.0   \n",
              "5                        28.0                     6.0                     6.0   \n",
              "6                        25.0                     8.0                     2.0   \n",
              "7                        33.0                    11.0                     5.0   \n",
              "\n",
              "0  CUMSUM_pugni_tirati_tyson  CUMSUM_pugni_tirati_jones  \\\n",
              "0                       22.0                       18.0   \n",
              "1                       43.0                       50.0   \n",
              "2                       71.0                       80.0   \n",
              "3                       92.0                      108.0   \n",
              "4                      122.0                      150.0   \n",
              "5                      141.0                      178.0   \n",
              "6                      164.0                      203.0   \n",
              "7                      193.0                      236.0   \n",
              "\n",
              "0  CUMSUM_pugni_landed_tyson  CUMSUM_pugni_landed_jones  \n",
              "0                        7.0                        2.0  \n",
              "1                       15.0                        6.0  \n",
              "2                       24.0                       12.0  \n",
              "3                       30.0                       15.0  \n",
              "4                       42.0                       24.0  \n",
              "5                       48.0                       30.0  \n",
              "6                       56.0                       32.0  \n",
              "7                       67.0                       37.0  "
            ]
          },
          "metadata": {
            "tags": []
          },
          "execution_count": 38
        }
      ]
    },
    {
      "cell_type": "code",
      "metadata": {
        "id": "KxFKvrpg53Df",
        "outputId": "ec435243-cf36-49b9-eb64-37a6d6a2040c"
      },
      "source": [
        "incontro_punches_total = incontro_punches_total.rename(columns={\"TYSON\": \"TYSON_punches_total\", \"JONES\": \"JONES_punches_total\"})\n",
        "incontro_punches_total.head(1)"
      ],
      "execution_count": null,
      "outputs": [
        {
          "output_type": "execute_result",
          "data": {
            "text/html": [
              "<div>\n",
              "<style scoped>\n",
              "    .dataframe tbody tr th:only-of-type {\n",
              "        vertical-align: middle;\n",
              "    }\n",
              "\n",
              "    .dataframe tbody tr th {\n",
              "        vertical-align: top;\n",
              "    }\n",
              "\n",
              "    .dataframe thead th {\n",
              "        text-align: right;\n",
              "    }\n",
              "</style>\n",
              "<table border=\"1\" class=\"dataframe\">\n",
              "  <thead>\n",
              "    <tr style=\"text-align: right;\">\n",
              "      <th></th>\n",
              "      <th>TYSON_punches_total</th>\n",
              "      <th>Total Punches Landed / Thrown Tyson</th>\n",
              "      <th>JONES_punches_total</th>\n",
              "      <th>Total Punches Landed / Thrown Jones</th>\n",
              "      <th>ROUND</th>\n",
              "      <th>pugni_tirati_complex_tyson</th>\n",
              "      <th>pugni_tirati_complex_jones</th>\n",
              "      <th>tot_punch_landed_tyson</th>\n",
              "      <th>tot_punch_landed_jones</th>\n",
              "      <th>CUMSUM_pugni_tirati_tyson</th>\n",
              "      <th>CUMSUM_pugni_tirati_jones</th>\n",
              "      <th>CUMSUM_pugni_landed_tyson</th>\n",
              "      <th>CUMSUM_pugni_landed_jones</th>\n",
              "    </tr>\n",
              "  </thead>\n",
              "  <tbody>\n",
              "    <tr>\n",
              "      <th>0</th>\n",
              "      <td>7/22</td>\n",
              "      <td>0.318</td>\n",
              "      <td>2/18</td>\n",
              "      <td>0.111</td>\n",
              "      <td>1</td>\n",
              "      <td>22.0</td>\n",
              "      <td>18.0</td>\n",
              "      <td>7.0</td>\n",
              "      <td>2.0</td>\n",
              "      <td>22.0</td>\n",
              "      <td>18.0</td>\n",
              "      <td>7.0</td>\n",
              "      <td>2.0</td>\n",
              "    </tr>\n",
              "  </tbody>\n",
              "</table>\n",
              "</div>"
            ],
            "text/plain": [
              "0 TYSON_punches_total  Total Punches Landed / Thrown Tyson  \\\n",
              "0                7/22                                0.318   \n",
              "\n",
              "0 JONES_punches_total  Total Punches Landed / Thrown Jones ROUND  \\\n",
              "0                2/18                                0.111     1   \n",
              "\n",
              "0  pugni_tirati_complex_tyson  pugni_tirati_complex_jones  \\\n",
              "0                        22.0                        18.0   \n",
              "\n",
              "0  tot_punch_landed_tyson  tot_punch_landed_jones  CUMSUM_pugni_tirati_tyson  \\\n",
              "0                     7.0                     2.0                       22.0   \n",
              "\n",
              "0  CUMSUM_pugni_tirati_jones  CUMSUM_pugni_landed_tyson  \\\n",
              "0                       18.0                        7.0   \n",
              "\n",
              "0  CUMSUM_pugni_landed_jones  \n",
              "0                        2.0  "
            ]
          },
          "metadata": {
            "tags": []
          },
          "execution_count": 39
        }
      ]
    },
    {
      "cell_type": "code",
      "metadata": {
        "id": "FKzOKsuF53Dg"
      },
      "source": [
        "#[INCONTRO_JAB_LANDED]:"
      ],
      "execution_count": null,
      "outputs": []
    },
    {
      "cell_type": "code",
      "metadata": {
        "id": "5w1sew9Z53Dg",
        "outputId": "e2c61e5f-2958-4e80-bdf3-e3a5262893a6"
      },
      "source": [
        "#Costruisco dataset legato ai pugni dati da Tyson e Jones:\n",
        "incontro_jab_landed = pd.read_csv(\"/Users/matteo/Desktop/DATA SCIENCE/Data Management/Progettto/statistics-2.csv\", header= None)\n",
        "incontro_jab_landed = incontro_jab_landed.transpose()\n",
        "\n",
        "new_header_incontro_jab_landed = incontro_jab_landed.iloc[0] \n",
        "incontro_jab_landed = incontro_jab_landed[1:] \n",
        "incontro_jab_landed.columns = new_header_incontro_jab_landed\n",
        "\n",
        "incontro_jab_landed = incontro_jab_landed.reset_index(drop = True)\n",
        "incontro_jab_landed"
      ],
      "execution_count": null,
      "outputs": [
        {
          "output_type": "execute_result",
          "data": {
            "text/html": [
              "<div>\n",
              "<style scoped>\n",
              "    .dataframe tbody tr th:only-of-type {\n",
              "        vertical-align: middle;\n",
              "    }\n",
              "\n",
              "    .dataframe tbody tr th {\n",
              "        vertical-align: top;\n",
              "    }\n",
              "\n",
              "    .dataframe thead th {\n",
              "        text-align: right;\n",
              "    }\n",
              "</style>\n",
              "<table border=\"1\" class=\"dataframe\">\n",
              "  <thead>\n",
              "    <tr style=\"text-align: right;\">\n",
              "      <th></th>\n",
              "      <th>TYSON</th>\n",
              "      <th>Jab Landed / Thrown Tyson</th>\n",
              "      <th>JONES</th>\n",
              "      <th>Jab Landed / Thrown Jones</th>\n",
              "      <th>ROUND</th>\n",
              "    </tr>\n",
              "  </thead>\n",
              "  <tbody>\n",
              "    <tr>\n",
              "      <th>0</th>\n",
              "      <td>1/ 11</td>\n",
              "      <td>0.091</td>\n",
              "      <td>2/16</td>\n",
              "      <td>0.125</td>\n",
              "      <td>1</td>\n",
              "    </tr>\n",
              "    <tr>\n",
              "      <th>1</th>\n",
              "      <td>0/5</td>\n",
              "      <td>0</td>\n",
              "      <td>2/13</td>\n",
              "      <td>0.154</td>\n",
              "      <td>2</td>\n",
              "    </tr>\n",
              "    <tr>\n",
              "      <th>2</th>\n",
              "      <td>1/7</td>\n",
              "      <td>0.143</td>\n",
              "      <td>0/6</td>\n",
              "      <td>0</td>\n",
              "      <td>3</td>\n",
              "    </tr>\n",
              "    <tr>\n",
              "      <th>3</th>\n",
              "      <td>2/6</td>\n",
              "      <td>0.333</td>\n",
              "      <td>0/12</td>\n",
              "      <td>0</td>\n",
              "      <td>4</td>\n",
              "    </tr>\n",
              "    <tr>\n",
              "      <th>4</th>\n",
              "      <td>3/10</td>\n",
              "      <td>0.300</td>\n",
              "      <td>3/13</td>\n",
              "      <td>0.231</td>\n",
              "      <td>5</td>\n",
              "    </tr>\n",
              "    <tr>\n",
              "      <th>5</th>\n",
              "      <td>1/7</td>\n",
              "      <td>0.143</td>\n",
              "      <td>1/10</td>\n",
              "      <td>0.100</td>\n",
              "      <td>6</td>\n",
              "    </tr>\n",
              "    <tr>\n",
              "      <th>6</th>\n",
              "      <td>2/6</td>\n",
              "      <td>0.333</td>\n",
              "      <td>0/6</td>\n",
              "      <td>0</td>\n",
              "      <td>7</td>\n",
              "    </tr>\n",
              "    <tr>\n",
              "      <th>7</th>\n",
              "      <td>0/4</td>\n",
              "      <td>0</td>\n",
              "      <td>1/9</td>\n",
              "      <td>0.111</td>\n",
              "      <td>8</td>\n",
              "    </tr>\n",
              "  </tbody>\n",
              "</table>\n",
              "</div>"
            ],
            "text/plain": [
              "0  TYSON Jab Landed / Thrown Tyson JONES Jab Landed / Thrown Jones ROUND\n",
              "0  1/ 11                     0.091  2/16                     0.125     1\n",
              "1    0/5                         0  2/13                     0.154     2\n",
              "2    1/7                     0.143   0/6                         0     3\n",
              "3    2/6                     0.333  0/12                         0     4\n",
              "4   3/10                     0.300  3/13                     0.231     5\n",
              "5    1/7                     0.143  1/10                     0.100     6\n",
              "6    2/6                     0.333   0/6                         0     7\n",
              "7    0/4                         0   1/9                     0.111     8"
            ]
          },
          "metadata": {
            "tags": []
          },
          "execution_count": 41
        }
      ]
    },
    {
      "cell_type": "code",
      "metadata": {
        "id": "vozg8knE53Dg"
      },
      "source": [
        "incontro_jab_landed[\"TYSON\"] = incontro_jab_landed[\"TYSON\"].str.replace(' ', '')\n",
        "\n",
        "incontro_jab_landed[\"pugni_tot_tyson\"] = incontro_jab_landed[\"TYSON\"].apply(lambda x: re.findall(r\"/(\\w+)\", x))\n",
        "incontro_jab_landed[\"pugni_tot_jones\"] = incontro_jab_landed[\"JONES\"].apply(lambda x: re.findall(r\"/(\\w+)\", x))\n",
        "\n",
        "incontro_jab_landed[\"jab_landed_tyson\"] = incontro_jab_landed[\"TYSON\"].apply(lambda x: re.findall(r\"(\\w+)/\", x))\n",
        "incontro_jab_landed[\"jab_landed_jones\"] = incontro_jab_landed[\"JONES\"].apply(lambda x: re.findall(r\"(\\w+)/\", x))"
      ],
      "execution_count": null,
      "outputs": []
    },
    {
      "cell_type": "code",
      "metadata": {
        "id": "29erJlxw53Dh",
        "outputId": "e679bd5d-060b-4636-d37b-8fdb7f3e94c9"
      },
      "source": [
        "incontro_jab_landed = incontro_jab_landed.explode(\"pugni_tot_tyson\")\n",
        "incontro_jab_landed = incontro_jab_landed.explode(\"pugni_tot_jones\")\n",
        "incontro_jab_landed = incontro_jab_landed.explode(\"jab_landed_tyson\")\n",
        "incontro_jab_landed = incontro_jab_landed.explode(\"jab_landed_jones\")\n",
        "incontro_jab_landed"
      ],
      "execution_count": null,
      "outputs": [
        {
          "output_type": "execute_result",
          "data": {
            "text/html": [
              "<div>\n",
              "<style scoped>\n",
              "    .dataframe tbody tr th:only-of-type {\n",
              "        vertical-align: middle;\n",
              "    }\n",
              "\n",
              "    .dataframe tbody tr th {\n",
              "        vertical-align: top;\n",
              "    }\n",
              "\n",
              "    .dataframe thead th {\n",
              "        text-align: right;\n",
              "    }\n",
              "</style>\n",
              "<table border=\"1\" class=\"dataframe\">\n",
              "  <thead>\n",
              "    <tr style=\"text-align: right;\">\n",
              "      <th></th>\n",
              "      <th>TYSON</th>\n",
              "      <th>Jab Landed / Thrown Tyson</th>\n",
              "      <th>JONES</th>\n",
              "      <th>Jab Landed / Thrown Jones</th>\n",
              "      <th>ROUND</th>\n",
              "      <th>pugni_tot_tyson</th>\n",
              "      <th>pugni_tot_jones</th>\n",
              "      <th>jab_landed_tyson</th>\n",
              "      <th>jab_landed_jones</th>\n",
              "    </tr>\n",
              "  </thead>\n",
              "  <tbody>\n",
              "    <tr>\n",
              "      <th>0</th>\n",
              "      <td>1/11</td>\n",
              "      <td>0.091</td>\n",
              "      <td>2/16</td>\n",
              "      <td>0.125</td>\n",
              "      <td>1</td>\n",
              "      <td>11</td>\n",
              "      <td>16</td>\n",
              "      <td>1</td>\n",
              "      <td>2</td>\n",
              "    </tr>\n",
              "    <tr>\n",
              "      <th>1</th>\n",
              "      <td>0/5</td>\n",
              "      <td>0</td>\n",
              "      <td>2/13</td>\n",
              "      <td>0.154</td>\n",
              "      <td>2</td>\n",
              "      <td>5</td>\n",
              "      <td>13</td>\n",
              "      <td>0</td>\n",
              "      <td>2</td>\n",
              "    </tr>\n",
              "    <tr>\n",
              "      <th>2</th>\n",
              "      <td>1/7</td>\n",
              "      <td>0.143</td>\n",
              "      <td>0/6</td>\n",
              "      <td>0</td>\n",
              "      <td>3</td>\n",
              "      <td>7</td>\n",
              "      <td>6</td>\n",
              "      <td>1</td>\n",
              "      <td>0</td>\n",
              "    </tr>\n",
              "    <tr>\n",
              "      <th>3</th>\n",
              "      <td>2/6</td>\n",
              "      <td>0.333</td>\n",
              "      <td>0/12</td>\n",
              "      <td>0</td>\n",
              "      <td>4</td>\n",
              "      <td>6</td>\n",
              "      <td>12</td>\n",
              "      <td>2</td>\n",
              "      <td>0</td>\n",
              "    </tr>\n",
              "    <tr>\n",
              "      <th>4</th>\n",
              "      <td>3/10</td>\n",
              "      <td>0.300</td>\n",
              "      <td>3/13</td>\n",
              "      <td>0.231</td>\n",
              "      <td>5</td>\n",
              "      <td>10</td>\n",
              "      <td>13</td>\n",
              "      <td>3</td>\n",
              "      <td>3</td>\n",
              "    </tr>\n",
              "    <tr>\n",
              "      <th>5</th>\n",
              "      <td>1/7</td>\n",
              "      <td>0.143</td>\n",
              "      <td>1/10</td>\n",
              "      <td>0.100</td>\n",
              "      <td>6</td>\n",
              "      <td>7</td>\n",
              "      <td>10</td>\n",
              "      <td>1</td>\n",
              "      <td>1</td>\n",
              "    </tr>\n",
              "    <tr>\n",
              "      <th>6</th>\n",
              "      <td>2/6</td>\n",
              "      <td>0.333</td>\n",
              "      <td>0/6</td>\n",
              "      <td>0</td>\n",
              "      <td>7</td>\n",
              "      <td>6</td>\n",
              "      <td>6</td>\n",
              "      <td>2</td>\n",
              "      <td>0</td>\n",
              "    </tr>\n",
              "    <tr>\n",
              "      <th>7</th>\n",
              "      <td>0/4</td>\n",
              "      <td>0</td>\n",
              "      <td>1/9</td>\n",
              "      <td>0.111</td>\n",
              "      <td>8</td>\n",
              "      <td>4</td>\n",
              "      <td>9</td>\n",
              "      <td>0</td>\n",
              "      <td>1</td>\n",
              "    </tr>\n",
              "  </tbody>\n",
              "</table>\n",
              "</div>"
            ],
            "text/plain": [
              "0 TYSON Jab Landed / Thrown Tyson JONES Jab Landed / Thrown Jones ROUND  \\\n",
              "0  1/11                     0.091  2/16                     0.125     1   \n",
              "1   0/5                         0  2/13                     0.154     2   \n",
              "2   1/7                     0.143   0/6                         0     3   \n",
              "3   2/6                     0.333  0/12                         0     4   \n",
              "4  3/10                     0.300  3/13                     0.231     5   \n",
              "5   1/7                     0.143  1/10                     0.100     6   \n",
              "6   2/6                     0.333   0/6                         0     7   \n",
              "7   0/4                         0   1/9                     0.111     8   \n",
              "\n",
              "0 pugni_tot_tyson pugni_tot_jones jab_landed_tyson jab_landed_jones  \n",
              "0              11              16                1                2  \n",
              "1               5              13                0                2  \n",
              "2               7               6                1                0  \n",
              "3               6              12                2                0  \n",
              "4              10              13                3                3  \n",
              "5               7              10                1                1  \n",
              "6               6               6                2                0  \n",
              "7               4               9                0                1  "
            ]
          },
          "metadata": {
            "tags": []
          },
          "execution_count": 43
        }
      ]
    },
    {
      "cell_type": "code",
      "metadata": {
        "id": "Xf7PDKL653Dh"
      },
      "source": [
        "incontro_jab_landed[\"pugni_tot_tyson\"] = incontro_jab_landed[\"pugni_tot_tyson\"].astype(float)\n",
        "incontro_jab_landed[\"pugni_tot_jones\"] = incontro_jab_landed[\"pugni_tot_jones\"].astype(float)\n",
        "incontro_jab_landed[\"jab_landed_tyson\"] = incontro_jab_landed[\"jab_landed_tyson\"].astype(float)\n",
        "incontro_jab_landed[\"jab_landed_jones\"] = incontro_jab_landed[\"jab_landed_jones\"].astype(float)\n",
        "incontro_jab_landed[\"Jab Landed / Thrown Tyson\"] = incontro_jab_landed[\"Jab Landed / Thrown Tyson\"].astype(float)\n",
        "incontro_jab_landed[\"Jab Landed / Thrown Jones\"] = incontro_jab_landed[\"Jab Landed / Thrown Jones\"].astype(float)"
      ],
      "execution_count": null,
      "outputs": []
    },
    {
      "cell_type": "code",
      "metadata": {
        "id": "U3_enBi-53Dh",
        "outputId": "04b13145-54e9-498f-fd09-131946abb638"
      },
      "source": [
        "incontro_jab_landed.dtypes"
      ],
      "execution_count": null,
      "outputs": [
        {
          "output_type": "execute_result",
          "data": {
            "text/plain": [
              "0\n",
              "TYSON                         object\n",
              "Jab Landed / Thrown Tyson    float64\n",
              "JONES                         object\n",
              "Jab Landed / Thrown Jones    float64\n",
              "ROUND                         object\n",
              "pugni_tot_tyson              float64\n",
              "pugni_tot_jones              float64\n",
              "jab_landed_tyson             float64\n",
              "jab_landed_jones             float64\n",
              "dtype: object"
            ]
          },
          "metadata": {
            "tags": []
          },
          "execution_count": 45
        }
      ]
    },
    {
      "cell_type": "code",
      "metadata": {
        "id": "R00yN7ad53Dm"
      },
      "source": [
        "incontro_jab_landed['CUMSUM_pugni_tyson'] = incontro_jab_landed['pugni_tot_tyson'].cumsum()\n",
        "incontro_jab_landed['CUMSUM_pugni_jones'] = incontro_jab_landed['pugni_tot_jones'].cumsum()\n",
        "incontro_jab_landed['CUMSUM_jab_landed_tyson'] = incontro_jab_landed['jab_landed_tyson'].cumsum()\n",
        "incontro_jab_landed['CUMSUM_jab_landed_jones'] = incontro_jab_landed['jab_landed_jones'].cumsum()"
      ],
      "execution_count": null,
      "outputs": []
    },
    {
      "cell_type": "code",
      "metadata": {
        "id": "ZZm-fbwk53Dm",
        "outputId": "8f6cdfa7-ca39-4f9a-8674-22f6baa88247"
      },
      "source": [
        "incontro_jab_landed"
      ],
      "execution_count": null,
      "outputs": [
        {
          "output_type": "execute_result",
          "data": {
            "text/html": [
              "<div>\n",
              "<style scoped>\n",
              "    .dataframe tbody tr th:only-of-type {\n",
              "        vertical-align: middle;\n",
              "    }\n",
              "\n",
              "    .dataframe tbody tr th {\n",
              "        vertical-align: top;\n",
              "    }\n",
              "\n",
              "    .dataframe thead th {\n",
              "        text-align: right;\n",
              "    }\n",
              "</style>\n",
              "<table border=\"1\" class=\"dataframe\">\n",
              "  <thead>\n",
              "    <tr style=\"text-align: right;\">\n",
              "      <th></th>\n",
              "      <th>TYSON</th>\n",
              "      <th>Jab Landed / Thrown Tyson</th>\n",
              "      <th>JONES</th>\n",
              "      <th>Jab Landed / Thrown Jones</th>\n",
              "      <th>ROUND</th>\n",
              "      <th>pugni_tot_tyson</th>\n",
              "      <th>pugni_tot_jones</th>\n",
              "      <th>jab_landed_tyson</th>\n",
              "      <th>jab_landed_jones</th>\n",
              "      <th>CUMSUM_pugni_tyson</th>\n",
              "      <th>CUMSUM_pugni_jones</th>\n",
              "      <th>CUMSUM_jab_landed_tyson</th>\n",
              "      <th>CUMSUM_jab_landed_jones</th>\n",
              "    </tr>\n",
              "  </thead>\n",
              "  <tbody>\n",
              "    <tr>\n",
              "      <th>0</th>\n",
              "      <td>1/11</td>\n",
              "      <td>0.091</td>\n",
              "      <td>2/16</td>\n",
              "      <td>0.125</td>\n",
              "      <td>1</td>\n",
              "      <td>11.0</td>\n",
              "      <td>16.0</td>\n",
              "      <td>1.0</td>\n",
              "      <td>2.0</td>\n",
              "      <td>11.0</td>\n",
              "      <td>16.0</td>\n",
              "      <td>1.0</td>\n",
              "      <td>2.0</td>\n",
              "    </tr>\n",
              "    <tr>\n",
              "      <th>1</th>\n",
              "      <td>0/5</td>\n",
              "      <td>0.000</td>\n",
              "      <td>2/13</td>\n",
              "      <td>0.154</td>\n",
              "      <td>2</td>\n",
              "      <td>5.0</td>\n",
              "      <td>13.0</td>\n",
              "      <td>0.0</td>\n",
              "      <td>2.0</td>\n",
              "      <td>16.0</td>\n",
              "      <td>29.0</td>\n",
              "      <td>1.0</td>\n",
              "      <td>4.0</td>\n",
              "    </tr>\n",
              "    <tr>\n",
              "      <th>2</th>\n",
              "      <td>1/7</td>\n",
              "      <td>0.143</td>\n",
              "      <td>0/6</td>\n",
              "      <td>0.000</td>\n",
              "      <td>3</td>\n",
              "      <td>7.0</td>\n",
              "      <td>6.0</td>\n",
              "      <td>1.0</td>\n",
              "      <td>0.0</td>\n",
              "      <td>23.0</td>\n",
              "      <td>35.0</td>\n",
              "      <td>2.0</td>\n",
              "      <td>4.0</td>\n",
              "    </tr>\n",
              "    <tr>\n",
              "      <th>3</th>\n",
              "      <td>2/6</td>\n",
              "      <td>0.333</td>\n",
              "      <td>0/12</td>\n",
              "      <td>0.000</td>\n",
              "      <td>4</td>\n",
              "      <td>6.0</td>\n",
              "      <td>12.0</td>\n",
              "      <td>2.0</td>\n",
              "      <td>0.0</td>\n",
              "      <td>29.0</td>\n",
              "      <td>47.0</td>\n",
              "      <td>4.0</td>\n",
              "      <td>4.0</td>\n",
              "    </tr>\n",
              "    <tr>\n",
              "      <th>4</th>\n",
              "      <td>3/10</td>\n",
              "      <td>0.300</td>\n",
              "      <td>3/13</td>\n",
              "      <td>0.231</td>\n",
              "      <td>5</td>\n",
              "      <td>10.0</td>\n",
              "      <td>13.0</td>\n",
              "      <td>3.0</td>\n",
              "      <td>3.0</td>\n",
              "      <td>39.0</td>\n",
              "      <td>60.0</td>\n",
              "      <td>7.0</td>\n",
              "      <td>7.0</td>\n",
              "    </tr>\n",
              "    <tr>\n",
              "      <th>5</th>\n",
              "      <td>1/7</td>\n",
              "      <td>0.143</td>\n",
              "      <td>1/10</td>\n",
              "      <td>0.100</td>\n",
              "      <td>6</td>\n",
              "      <td>7.0</td>\n",
              "      <td>10.0</td>\n",
              "      <td>1.0</td>\n",
              "      <td>1.0</td>\n",
              "      <td>46.0</td>\n",
              "      <td>70.0</td>\n",
              "      <td>8.0</td>\n",
              "      <td>8.0</td>\n",
              "    </tr>\n",
              "    <tr>\n",
              "      <th>6</th>\n",
              "      <td>2/6</td>\n",
              "      <td>0.333</td>\n",
              "      <td>0/6</td>\n",
              "      <td>0.000</td>\n",
              "      <td>7</td>\n",
              "      <td>6.0</td>\n",
              "      <td>6.0</td>\n",
              "      <td>2.0</td>\n",
              "      <td>0.0</td>\n",
              "      <td>52.0</td>\n",
              "      <td>76.0</td>\n",
              "      <td>10.0</td>\n",
              "      <td>8.0</td>\n",
              "    </tr>\n",
              "    <tr>\n",
              "      <th>7</th>\n",
              "      <td>0/4</td>\n",
              "      <td>0.000</td>\n",
              "      <td>1/9</td>\n",
              "      <td>0.111</td>\n",
              "      <td>8</td>\n",
              "      <td>4.0</td>\n",
              "      <td>9.0</td>\n",
              "      <td>0.0</td>\n",
              "      <td>1.0</td>\n",
              "      <td>56.0</td>\n",
              "      <td>85.0</td>\n",
              "      <td>10.0</td>\n",
              "      <td>9.0</td>\n",
              "    </tr>\n",
              "  </tbody>\n",
              "</table>\n",
              "</div>"
            ],
            "text/plain": [
              "0 TYSON  Jab Landed / Thrown Tyson JONES  Jab Landed / Thrown Jones ROUND  \\\n",
              "0  1/11                      0.091  2/16                      0.125     1   \n",
              "1   0/5                      0.000  2/13                      0.154     2   \n",
              "2   1/7                      0.143   0/6                      0.000     3   \n",
              "3   2/6                      0.333  0/12                      0.000     4   \n",
              "4  3/10                      0.300  3/13                      0.231     5   \n",
              "5   1/7                      0.143  1/10                      0.100     6   \n",
              "6   2/6                      0.333   0/6                      0.000     7   \n",
              "7   0/4                      0.000   1/9                      0.111     8   \n",
              "\n",
              "0  pugni_tot_tyson  pugni_tot_jones  jab_landed_tyson  jab_landed_jones  \\\n",
              "0             11.0             16.0               1.0               2.0   \n",
              "1              5.0             13.0               0.0               2.0   \n",
              "2              7.0              6.0               1.0               0.0   \n",
              "3              6.0             12.0               2.0               0.0   \n",
              "4             10.0             13.0               3.0               3.0   \n",
              "5              7.0             10.0               1.0               1.0   \n",
              "6              6.0              6.0               2.0               0.0   \n",
              "7              4.0              9.0               0.0               1.0   \n",
              "\n",
              "0  CUMSUM_pugni_tyson  CUMSUM_pugni_jones  CUMSUM_jab_landed_tyson  \\\n",
              "0                11.0                16.0                      1.0   \n",
              "1                16.0                29.0                      1.0   \n",
              "2                23.0                35.0                      2.0   \n",
              "3                29.0                47.0                      4.0   \n",
              "4                39.0                60.0                      7.0   \n",
              "5                46.0                70.0                      8.0   \n",
              "6                52.0                76.0                     10.0   \n",
              "7                56.0                85.0                     10.0   \n",
              "\n",
              "0  CUMSUM_jab_landed_jones  \n",
              "0                      2.0  \n",
              "1                      4.0  \n",
              "2                      4.0  \n",
              "3                      4.0  \n",
              "4                      7.0  \n",
              "5                      8.0  \n",
              "6                      8.0  \n",
              "7                      9.0  "
            ]
          },
          "metadata": {
            "tags": []
          },
          "execution_count": 47
        }
      ]
    },
    {
      "cell_type": "code",
      "metadata": {
        "id": "6wq9yvr253Dm",
        "outputId": "e9aca001-be62-493a-db80-2d319ae25ce6"
      },
      "source": [
        "incontro_jab_landed = incontro_jab_landed.rename(columns={\"TYSON\": \"TYSON_jab_landed\", \"JONES\": \"JONES_jab_landed\"})\n",
        "incontro_jab_landed.head(1)"
      ],
      "execution_count": null,
      "outputs": [
        {
          "output_type": "execute_result",
          "data": {
            "text/html": [
              "<div>\n",
              "<style scoped>\n",
              "    .dataframe tbody tr th:only-of-type {\n",
              "        vertical-align: middle;\n",
              "    }\n",
              "\n",
              "    .dataframe tbody tr th {\n",
              "        vertical-align: top;\n",
              "    }\n",
              "\n",
              "    .dataframe thead th {\n",
              "        text-align: right;\n",
              "    }\n",
              "</style>\n",
              "<table border=\"1\" class=\"dataframe\">\n",
              "  <thead>\n",
              "    <tr style=\"text-align: right;\">\n",
              "      <th></th>\n",
              "      <th>TYSON_jab_landed</th>\n",
              "      <th>Jab Landed / Thrown Tyson</th>\n",
              "      <th>JONES_jab_landed</th>\n",
              "      <th>Jab Landed / Thrown Jones</th>\n",
              "      <th>ROUND</th>\n",
              "      <th>pugni_tot_tyson</th>\n",
              "      <th>pugni_tot_jones</th>\n",
              "      <th>jab_landed_tyson</th>\n",
              "      <th>jab_landed_jones</th>\n",
              "      <th>CUMSUM_pugni_tyson</th>\n",
              "      <th>CUMSUM_pugni_jones</th>\n",
              "      <th>CUMSUM_jab_landed_tyson</th>\n",
              "      <th>CUMSUM_jab_landed_jones</th>\n",
              "    </tr>\n",
              "  </thead>\n",
              "  <tbody>\n",
              "    <tr>\n",
              "      <th>0</th>\n",
              "      <td>1/11</td>\n",
              "      <td>0.091</td>\n",
              "      <td>2/16</td>\n",
              "      <td>0.125</td>\n",
              "      <td>1</td>\n",
              "      <td>11.0</td>\n",
              "      <td>16.0</td>\n",
              "      <td>1.0</td>\n",
              "      <td>2.0</td>\n",
              "      <td>11.0</td>\n",
              "      <td>16.0</td>\n",
              "      <td>1.0</td>\n",
              "      <td>2.0</td>\n",
              "    </tr>\n",
              "  </tbody>\n",
              "</table>\n",
              "</div>"
            ],
            "text/plain": [
              "0 TYSON_jab_landed  Jab Landed / Thrown Tyson JONES_jab_landed  \\\n",
              "0             1/11                      0.091             2/16   \n",
              "\n",
              "0  Jab Landed / Thrown Jones ROUND  pugni_tot_tyson  pugni_tot_jones  \\\n",
              "0                      0.125     1             11.0             16.0   \n",
              "\n",
              "0  jab_landed_tyson  jab_landed_jones  CUMSUM_pugni_tyson  CUMSUM_pugni_jones  \\\n",
              "0               1.0               2.0                11.0                16.0   \n",
              "\n",
              "0  CUMSUM_jab_landed_tyson  CUMSUM_jab_landed_jones  \n",
              "0                      1.0                      2.0  "
            ]
          },
          "metadata": {
            "tags": []
          },
          "execution_count": 48
        }
      ]
    },
    {
      "cell_type": "markdown",
      "metadata": {
        "id": "eaVoU2qd53Dn"
      },
      "source": [
        "# PRE-PROCESSING TESTO TEXT_CLEAN_1 #"
      ]
    },
    {
      "cell_type": "code",
      "metadata": {
        "id": "k5XURgu153Do"
      },
      "source": [
        "import re\n",
        " \n",
        "emoticons_str = r\"\"\"\n",
        "    (?:\n",
        "        [:=;] # Eyes\n",
        "        [oO\\-]? # Nose (optional)\n",
        "        [D\\)\\]\\(\\]/\\\\OpP] # Mouth\n",
        "    )\"\"\"\n",
        " \n",
        "regex_str = [\n",
        "    emoticons_str,\n",
        "    r'<[^>]+>', # HTML tags\n",
        "    r'(?:@[\\w_]+)', # @-mentions\n",
        "    r\"(?:\\#+[\\w_]+[\\w\\'_\\-]*[\\w_]+)\", # hash-tags\n",
        "    r'http[s]?://(?:[a-z]|[0-9]|[$-_@.&amp;+]|[!*\\(\\),]|(?:%[0-9a-f][0-9a-f]))+', # URLs\n",
        " \n",
        "    r'(?:(?:\\d+,?)+(?:\\.?\\d+)?)', # numbers\n",
        "    r\"(?:[a-z][a-z'\\-_]+[a-z])\", # words with - and '\n",
        "    r'(?:[\\w_]+)', # other words\n",
        "    r'(?:\\S)' # anything else\n",
        "    r\"\\U0001F600-\\U0001F64F\"  # emoticons\n",
        "    r\"\\U0001F300-\\U0001F5FF\"  # symbols & pictographs\n",
        "    r\"\\U0001F680-\\U0001F6FF\"  # transport & map symbols\n",
        "    r\"\\U0001F1E0-\\U0001F1FF\"  #flags\n",
        "    r\"\\U00002702-\\U000027B0\"\n",
        "    r\"\\U000024C2-\\U0001F251\"# flags (iOS) \n",
        "    r\"\\U0001f926-\\U0001f937\"\n",
        "    r\"\\U00010000-\\U0010ffff\"\n",
        "    r\"\\u2640-\\u2642\"\n",
        "    r\"\\u2600-\\u2B55\"\n",
        "    r\"\\u200d\"\n",
        "    r\"\\u23cf\"\n",
        "    r\"\\u23e9\"\n",
        "    r\"\\u231a\"\n",
        "    r\"\\ufe0f\"  # dingbats\n",
        "    r\"\\u3030\"\n",
        "]\n",
        "    \n",
        "tokens_re = re.compile(r'('+'|'.join(regex_str)+')', re.VERBOSE | re.IGNORECASE)\n",
        "emoticon_re = re.compile(r'^'+emoticons_str+'$', re.VERBOSE | re.IGNORECASE)\n",
        " \n",
        "def tokenize(s):\n",
        "    return tokens_re.findall(s)\n",
        " \n",
        "def preprocess(s, lowercase=False):\n",
        "    tokens = tokenize(s)\n",
        "    if lowercase:\n",
        "        tokens = [token if emoticon_re.search(token) else token.lower() for token in tokens]\n",
        "    return tokens\n",
        "\n",
        "dataset_tweets_complessivo['Text_clean_1'] = dataset_tweets_complessivo['Text'].apply(preprocess)"
      ],
      "execution_count": null,
      "outputs": []
    },
    {
      "cell_type": "code",
      "metadata": {
        "id": "jTfvd-Op53Do",
        "outputId": "ed4d1948-dc32-44dd-ec55-5ff82d6165ea"
      },
      "source": [
        "import nltk\n",
        "nltk.download('stopwords')\n",
        "stop_words = set(stopwords.words('english'))\n",
        "stop =stopwords.words('english')\n",
        "import string\n",
        "punctuation = string.punctuation\n",
        "\n",
        "def preprocess(tokenized_sentence):\n",
        "  tokenized_sentence_stop = [item.lower() for item in tokenized_sentence if item.lower() not in stop] #remove stopwords and lowercase\n",
        "  return [item for item in tokenized_sentence_stop if item not in punctuation] #remove punctuation \n",
        "\n",
        "dataset_tweets_complessivo['Text_clean_1'] = dataset_tweets_complessivo['Text_clean_1'].apply(preprocess)"
      ],
      "execution_count": null,
      "outputs": [
        {
          "output_type": "stream",
          "text": [
            "[nltk_data] Downloading package stopwords to\n",
            "[nltk_data]     /Users/matteo/nltk_data...\n",
            "[nltk_data]   Package stopwords is already up-to-date!\n"
          ],
          "name": "stderr"
        }
      ]
    },
    {
      "cell_type": "code",
      "metadata": {
        "id": "KSGX6own53Do",
        "outputId": "aaebc36e-22e0-4159-8043-1de13645bb64"
      },
      "source": [
        "from collections import Counter\n",
        "import itertools\n",
        "\n",
        "sentences = (list(itertools.chain(dataset_tweets_complessivo[\"Text_clean_1\"])))\n",
        "flat_list = [item for sublist in sentences for item in sublist]\n",
        "flat_list[:30]\n",
        "\n",
        "c = Counter(flat_list)\n",
        "c.most_common(10)"
      ],
      "execution_count": null,
      "outputs": [
        {
          "output_type": "execute_result",
          "data": {
            "text/plain": [
              "[('rt', 372150),\n",
              " ('tyson', 358710),\n",
              " ('jones', 253808),\n",
              " ('mike', 220209),\n",
              " ('roy', 165119),\n",
              " ('fight', 124825),\n",
              " ('#tysonvsjones', 110503),\n",
              " ('jr', 100897),\n",
              " ('vs', 89224),\n",
              " ('live', 83864)]"
            ]
          },
          "metadata": {
            "tags": []
          },
          "execution_count": 51
        }
      ]
    },
    {
      "cell_type": "code",
      "metadata": {
        "id": "D5Myk3Hm53Dp",
        "outputId": "266a785c-5426-4ea2-fca6-b95a5ccfdc73"
      },
      "source": [
        "stop = set(stop)\n",
        "stop.add(\"rt\")\n",
        "stop.add(\"…\")\n",
        "stop.add(\"n\")\n",
        "stop.add(\"’\".lower())\n",
        "stop.add(\"🇺\")\n",
        "stop.add(\"s\")\n",
        "stop.add(\"S\".lower())\n",
        "stop.add(\"nstay\".lower())\n",
        "stop.add(\":/\")\n",
        "stop.add(\"nhttps\".lower())\n",
        "stop.add(\"https\".lower())\n",
        "stop.add(\"I\")\n",
        "stop.add(\"The\")\n",
        "stop.add(\"“\")\n",
        "stop.add(\"”\")\n",
        "stop.add(\"u\")\n",
        "stop.add(\"🇸\")\n",
        "stop.add(\"e\")\n",
        "stop.add(\"n\")\n",
        "stop.add(\"o\")\n",
        "stop.add(\"t\")\n",
        "stop.add(\"r\")\n",
        "stop.add(\"vs\")\n",
        "\n",
        "\n",
        "stop = list(stop)\n",
        "print(stop)"
      ],
      "execution_count": null,
      "outputs": [
        {
          "output_type": "stream",
          "text": [
            "['ain', 'ours', 'what', \"shan't\", \"doesn't\", 'll', 'been', \"it's\", 'our', 'those', 'who', 'having', \"should've\", '🇸', 't', 'should', 'wasn', 'with', 'rt', 'until', 'won', 'she', \"weren't\", '…', 'yourselves', 'so', 'themselves', 'where', 'between', 'about', \"wouldn't\", 'has', \"hasn't\", 'not', 'a', \"won't\", 'I', 'through', 'own', 'isn', 'are', 'now', 'to', 'at', 'while', \"shouldn't\", 'mustn', 'because', 'into', 'itself', \"mustn't\", 'd', 'mightn', 'needn', 'most', 'which', 'being', 'nstay', \"you've\", 'ma', 'your', 'all', 'me', 'am', \"mightn't\", 'nhttps', \"you'd\", \"didn't\", 'him', 'some', 'herself', 'under', 'their', 'above', 'on', 'can', \"you'll\", 'when', 'have', 'again', 'be', \"wasn't\", 'don', 'by', 'how', 'out', 'hadn', 'against', 'too', 'up', 'had', 'and', 'does', 'from', 'm', \"needn't\", 'n', 'this', 'myself', 'r', '“', 'whom', 'both', 'it', 'then', 'such', 'hers', 's', 'e', 'https', 'nor', 'they', 'any', ':/', 'down', 'he', \"that'll\", 'hasn', 'an', 'before', 'below', 'just', \"aren't\", 'my', 'o', \"she's\", \"hadn't\", 'doing', 've', 'after', 'was', '”', 'or', 'i', 'weren', 'yourself', 'will', 'in', 'is', 'his', 'only', '🇺', 'her', 'these', 'doesn', \"couldn't\", 'its', 'did', 'didn', 'very', 'shouldn', 'for', 'vs', 'were', 'more', 'haven', 'ourselves', 'yours', \"haven't\", 'off', 'u', 'that', 'few', 'further', 'no', 'we', 'aren', '’', 'as', 'couldn', \"you're\", 'but', \"isn't\", 'theirs', 'The', 're', 'there', 'why', \"don't\", 'shan', 'once', 'during', 'them', 'other', 'himself', 'than', 'same', 'each', 'the', 'y', 'you', 'if', 'over', 'here', 'wouldn', 'of', 'do']\n"
          ],
          "name": "stdout"
        }
      ]
    },
    {
      "cell_type": "code",
      "metadata": {
        "id": "Hp4Kozuf53Dq"
      },
      "source": [
        "def preprocess(tokenized_sentence, stopwords=[]):\n",
        "  tokenized_sentence_stop = [item.lower() for item in tokenized_sentence if item.lower() not in set(stopwords)] #remove stopwords and lowercase\n",
        "  return [item.lower() for item in tokenized_sentence_stop if item not in punctuation] #remove punctuation \n",
        "\n",
        "\n",
        "dataset_tweets_complessivo['Text_clean_1'] = dataset_tweets_complessivo['Text_clean_1'].apply(lambda x: preprocess(x, stopwords=stop)) "
      ],
      "execution_count": null,
      "outputs": []
    },
    {
      "cell_type": "code",
      "metadata": {
        "id": "kWa61L7h53Dq",
        "outputId": "2181e8a1-aa09-4eaf-e5fd-d625a0bb1938"
      },
      "source": [
        "sentences = (list(itertools.chain(dataset_tweets_complessivo['Text_clean_1'])))\n",
        "flat_list = [item for sublist in sentences for item in sublist]\n",
        "flat_list[:30]\n",
        "\n",
        "c = Counter(flat_list)\n",
        "c.most_common(25)"
      ],
      "execution_count": null,
      "outputs": [
        {
          "output_type": "execute_result",
          "data": {
            "text/plain": [
              "[('tyson', 358710),\n",
              " ('jones', 253808),\n",
              " ('mike', 220209),\n",
              " ('roy', 165119),\n",
              " ('fight', 124825),\n",
              " ('#tysonvsjones', 110503),\n",
              " ('jr', 100897),\n",
              " ('live', 83864),\n",
              " ('#tysonjones', 75749),\n",
              " ('nate', 61672),\n",
              " ('tonight', 49292),\n",
              " ('robinson', 48449),\n",
              " ('like', 41184),\n",
              " ('paul', 40994),\n",
              " ('jake', 40079),\n",
              " ('stream', 39574),\n",
              " ('watch', 34883),\n",
              " ('@miketyson', 34275),\n",
              " ('boxing', 33551),\n",
              " ('got', 32892),\n",
              " ('fighting', 31702),\n",
              " ('snoop', 30884),\n",
              " ('draw', 30045),\n",
              " ('one', 25217),\n",
              " ('get', 22891)]"
            ]
          },
          "metadata": {
            "tags": []
          },
          "execution_count": 54
        }
      ]
    },
    {
      "cell_type": "code",
      "metadata": {
        "id": "VOg-sURV53Dr",
        "outputId": "0c150071-10e7-4872-aebb-ea41e2158836"
      },
      "source": [
        "#LEMMATIZZAZIONE \n",
        "from nltk.stem import WordNetLemmatizer \n",
        "lemmatizer = WordNetLemmatizer() \n",
        "nltk.download('wordnet')\n",
        "\n",
        "def preprocess(tokenized_sentence, stopwords=[]):\n",
        "  tokenized_sentence_stop = [item.lower() for item in tokenized_sentence if item.lower() not in set(stopwords)] #remove stopwords and lowercase\n",
        "  x = [item.lower() for item in tokenized_sentence_stop if item not in punctuation] #remove punctuation \n",
        "  return [lemmatizer.lemmatize(item) for item in x]\n",
        "\n",
        "\n",
        "dataset_tweets_complessivo[\"Text_clean_1\"]= dataset_tweets_complessivo[\"Text_clean_1\"].apply(lambda x: preprocess(x, stopwords=stop))"
      ],
      "execution_count": null,
      "outputs": [
        {
          "output_type": "stream",
          "text": [
            "[nltk_data] Downloading package wordnet to /Users/matteo/nltk_data...\n",
            "[nltk_data]   Package wordnet is already up-to-date!\n"
          ],
          "name": "stderr"
        }
      ]
    },
    {
      "cell_type": "code",
      "metadata": {
        "id": "v6AHlSIq53Dr",
        "outputId": "726ce5ba-7e81-434b-e5ed-c8ce1b9f6313"
      },
      "source": [
        "sentences = (list(itertools.chain(dataset_tweets_complessivo['Text_clean_1'])))\n",
        "flat_list = [item for sublist in sentences for item in sublist]\n",
        "flat_list[:30]\n",
        "\n",
        "c = Counter(flat_list)\n",
        "c.most_common(15)"
      ],
      "execution_count": null,
      "outputs": [
        {
          "output_type": "execute_result",
          "data": {
            "text/plain": [
              "[('tyson', 358989),\n",
              " ('jones', 253815),\n",
              " ('mike', 220294),\n",
              " ('roy', 165119),\n",
              " ('fight', 130319),\n",
              " ('#tysonvsjones', 110503),\n",
              " ('jr', 100962),\n",
              " ('live', 83864),\n",
              " ('#tysonjones', 75749),\n",
              " ('nate', 61672),\n",
              " ('tonight', 49362),\n",
              " ('robinson', 48506),\n",
              " ('like', 44254),\n",
              " ('stream', 41806),\n",
              " ('paul', 41060)]"
            ]
          },
          "metadata": {
            "tags": []
          },
          "execution_count": 56
        }
      ]
    },
    {
      "cell_type": "markdown",
      "metadata": {
        "id": "LZlC5rwL53Ds"
      },
      "source": [
        "# PRE-PROCESSING DATASET COMPLESSIVO #"
      ]
    },
    {
      "cell_type": "code",
      "metadata": {
        "id": "uNNKtf_y53Ds"
      },
      "source": [
        "dataset_tweets_complessivo['Date_time_italy'] = pd.to_datetime(dataset_tweets_complessivo['Date_time_italy'])"
      ],
      "execution_count": null,
      "outputs": []
    },
    {
      "cell_type": "code",
      "metadata": {
        "id": "pkn1-zaE53Ds",
        "outputId": "70c5baea-cda1-4227-9ff2-ef0cf864b855"
      },
      "source": [
        "#Andiamo a creare un nuovo datetime che \n",
        "dataset_tweets_complessivo['Date_time_losangeles'] = pd.DatetimeIndex(dataset_tweets_complessivo['Date_time_italy']) - timedelta(hours=9)\n",
        "dataset_tweets_complessivo.head(2)"
      ],
      "execution_count": null,
      "outputs": [
        {
          "output_type": "execute_result",
          "data": {
            "text/html": [
              "<div>\n",
              "<style scoped>\n",
              "    .dataframe tbody tr th:only-of-type {\n",
              "        vertical-align: middle;\n",
              "    }\n",
              "\n",
              "    .dataframe tbody tr th {\n",
              "        vertical-align: top;\n",
              "    }\n",
              "\n",
              "    .dataframe thead th {\n",
              "        text-align: right;\n",
              "    }\n",
              "</style>\n",
              "<table border=\"1\" class=\"dataframe\">\n",
              "  <thead>\n",
              "    <tr style=\"text-align: right;\">\n",
              "      <th></th>\n",
              "      <th>_id</th>\n",
              "      <th>Screen_name</th>\n",
              "      <th>Name</th>\n",
              "      <th>Text</th>\n",
              "      <th>Followers</th>\n",
              "      <th>Number_Retweet</th>\n",
              "      <th>Position</th>\n",
              "      <th>Date_time_italy</th>\n",
              "      <th>Hashtags</th>\n",
              "      <th>hashtags</th>\n",
              "      <th>Text_clean_1</th>\n",
              "      <th>Date_time_losangeles</th>\n",
              "    </tr>\n",
              "  </thead>\n",
              "  <tbody>\n",
              "    <tr>\n",
              "      <th>0</th>\n",
              "      <td>5fc10d706b90cd1acfac6ad0</td>\n",
              "      <td>choholla33</td>\n",
              "      <td>BOSS UP</td>\n",
              "      <td>RT @ESPNRingside: Iron @MikeTyson has one of t...</td>\n",
              "      <td>280</td>\n",
              "      <td>0</td>\n",
              "      <td>None</td>\n",
              "      <td>2020-11-27 14:30:03</td>\n",
              "      <td>[{'indices': [106, 117], 'text': 'TysonJones'}]</td>\n",
              "      <td>[TysonJones]</td>\n",
              "      <td>[@espnringside, iron, @miketyson, one, memorab...</td>\n",
              "      <td>2020-11-27 05:30:03</td>\n",
              "    </tr>\n",
              "    <tr>\n",
              "      <th>1</th>\n",
              "      <td>5fc10d706b90cd1acfac6ad1</td>\n",
              "      <td>Stars4P</td>\n",
              "      <td>Stars4Patriots</td>\n",
              "      <td>RT @DonaldJTrumpJr: This is going to be my wee...</td>\n",
              "      <td>15661</td>\n",
              "      <td>0</td>\n",
              "      <td>https://wego.social/Alleanna</td>\n",
              "      <td>2020-11-27 14:30:03</td>\n",
              "      <td>[]</td>\n",
              "      <td>[]</td>\n",
              "      <td>[@donaldjtrumpjr, going, weekend, guilty, plea...</td>\n",
              "      <td>2020-11-27 05:30:03</td>\n",
              "    </tr>\n",
              "  </tbody>\n",
              "</table>\n",
              "</div>"
            ],
            "text/plain": [
              "                        _id Screen_name            Name  \\\n",
              "0  5fc10d706b90cd1acfac6ad0  choholla33         BOSS UP   \n",
              "1  5fc10d706b90cd1acfac6ad1     Stars4P  Stars4Patriots   \n",
              "\n",
              "                                                Text  Followers  \\\n",
              "0  RT @ESPNRingside: Iron @MikeTyson has one of t...        280   \n",
              "1  RT @DonaldJTrumpJr: This is going to be my wee...      15661   \n",
              "\n",
              "   Number_Retweet                      Position     Date_time_italy  \\\n",
              "0               0                          None 2020-11-27 14:30:03   \n",
              "1               0  https://wego.social/Alleanna 2020-11-27 14:30:03   \n",
              "\n",
              "                                          Hashtags      hashtags  \\\n",
              "0  [{'indices': [106, 117], 'text': 'TysonJones'}]  [TysonJones]   \n",
              "1                                               []            []   \n",
              "\n",
              "                                        Text_clean_1 Date_time_losangeles  \n",
              "0  [@espnringside, iron, @miketyson, one, memorab...  2020-11-27 05:30:03  \n",
              "1  [@donaldjtrumpjr, going, weekend, guilty, plea...  2020-11-27 05:30:03  "
            ]
          },
          "metadata": {
            "tags": []
          },
          "execution_count": 58
        }
      ]
    },
    {
      "cell_type": "code",
      "metadata": {
        "id": "jZsYnh3T53Ds"
      },
      "source": [
        "dataset_tweets_complessivo_preproc = dataset_tweets_complessivo"
      ],
      "execution_count": null,
      "outputs": []
    },
    {
      "cell_type": "code",
      "metadata": {
        "id": "2zFTynxz53Dt",
        "outputId": "aea20532-92f1-4846-921a-cd7856f7c5da"
      },
      "source": [
        "#Effetto con il comando explode per \n",
        "dataset_tweets_complessivo_preproc = dataset_tweets_complessivo_preproc.explode(\"hashtags\")\n",
        "dataset_tweets_complessivo_preproc.head(5)"
      ],
      "execution_count": null,
      "outputs": [
        {
          "output_type": "execute_result",
          "data": {
            "text/html": [
              "<div>\n",
              "<style scoped>\n",
              "    .dataframe tbody tr th:only-of-type {\n",
              "        vertical-align: middle;\n",
              "    }\n",
              "\n",
              "    .dataframe tbody tr th {\n",
              "        vertical-align: top;\n",
              "    }\n",
              "\n",
              "    .dataframe thead th {\n",
              "        text-align: right;\n",
              "    }\n",
              "</style>\n",
              "<table border=\"1\" class=\"dataframe\">\n",
              "  <thead>\n",
              "    <tr style=\"text-align: right;\">\n",
              "      <th></th>\n",
              "      <th>_id</th>\n",
              "      <th>Screen_name</th>\n",
              "      <th>Name</th>\n",
              "      <th>Text</th>\n",
              "      <th>Followers</th>\n",
              "      <th>Number_Retweet</th>\n",
              "      <th>Position</th>\n",
              "      <th>Date_time_italy</th>\n",
              "      <th>Hashtags</th>\n",
              "      <th>hashtags</th>\n",
              "      <th>Text_clean_1</th>\n",
              "      <th>Date_time_losangeles</th>\n",
              "    </tr>\n",
              "  </thead>\n",
              "  <tbody>\n",
              "    <tr>\n",
              "      <th>0</th>\n",
              "      <td>5fc10d706b90cd1acfac6ad0</td>\n",
              "      <td>choholla33</td>\n",
              "      <td>BOSS UP</td>\n",
              "      <td>RT @ESPNRingside: Iron @MikeTyson has one of t...</td>\n",
              "      <td>280</td>\n",
              "      <td>0</td>\n",
              "      <td>None</td>\n",
              "      <td>2020-11-27 14:30:03</td>\n",
              "      <td>[{'indices': [106, 117], 'text': 'TysonJones'}]</td>\n",
              "      <td>TysonJones</td>\n",
              "      <td>[@espnringside, iron, @miketyson, one, memorab...</td>\n",
              "      <td>2020-11-27 05:30:03</td>\n",
              "    </tr>\n",
              "    <tr>\n",
              "      <th>1</th>\n",
              "      <td>5fc10d706b90cd1acfac6ad1</td>\n",
              "      <td>Stars4P</td>\n",
              "      <td>Stars4Patriots</td>\n",
              "      <td>RT @DonaldJTrumpJr: This is going to be my wee...</td>\n",
              "      <td>15661</td>\n",
              "      <td>0</td>\n",
              "      <td>https://wego.social/Alleanna</td>\n",
              "      <td>2020-11-27 14:30:03</td>\n",
              "      <td>[]</td>\n",
              "      <td>NaN</td>\n",
              "      <td>[@donaldjtrumpjr, going, weekend, guilty, plea...</td>\n",
              "      <td>2020-11-27 05:30:03</td>\n",
              "    </tr>\n",
              "    <tr>\n",
              "      <th>2</th>\n",
              "      <td>5fc10d746b90cd1acfac6ad2</td>\n",
              "      <td>rywoo</td>\n",
              "      <td>Ryan Wolfe</td>\n",
              "      <td>This guy is gets more annoying the more I see him</td>\n",
              "      <td>208</td>\n",
              "      <td>0</td>\n",
              "      <td>None</td>\n",
              "      <td>2020-11-27 14:30:07</td>\n",
              "      <td>[]</td>\n",
              "      <td>NaN</td>\n",
              "      <td>[guy, get, annoying, see]</td>\n",
              "      <td>2020-11-27 05:30:07</td>\n",
              "    </tr>\n",
              "    <tr>\n",
              "      <th>3</th>\n",
              "      <td>5fc10d746b90cd1acfac6ad3</td>\n",
              "      <td>psdanks</td>\n",
              "      <td>Paul</td>\n",
              "      <td>RT @BTSportBoxing: One more sleep until @MikeT...</td>\n",
              "      <td>381</td>\n",
              "      <td>0</td>\n",
              "      <td>Urmston, Manchester</td>\n",
              "      <td>2020-11-27 14:30:07</td>\n",
              "      <td>[{'indices': [67, 78], 'text': 'TysonJones'}]</td>\n",
              "      <td>TysonJones</td>\n",
              "      <td>[@btsportboxing, one, sleep, @miketyson, fight...</td>\n",
              "      <td>2020-11-27 05:30:07</td>\n",
              "    </tr>\n",
              "    <tr>\n",
              "      <th>4</th>\n",
              "      <td>5fc10d7a6b90cd1acfac6ad4</td>\n",
              "      <td>Vinchy1</td>\n",
              "      <td>Vinchy</td>\n",
              "      <td>RT @DonaldJTrumpJr: This is going to be my wee...</td>\n",
              "      <td>498</td>\n",
              "      <td>0</td>\n",
              "      <td>Los Angeles CA.</td>\n",
              "      <td>2020-11-27 14:30:12</td>\n",
              "      <td>[]</td>\n",
              "      <td>NaN</td>\n",
              "      <td>[@donaldjtrumpjr, going, weekend, guilty, plea...</td>\n",
              "      <td>2020-11-27 05:30:12</td>\n",
              "    </tr>\n",
              "  </tbody>\n",
              "</table>\n",
              "</div>"
            ],
            "text/plain": [
              "                        _id Screen_name            Name  \\\n",
              "0  5fc10d706b90cd1acfac6ad0  choholla33         BOSS UP   \n",
              "1  5fc10d706b90cd1acfac6ad1     Stars4P  Stars4Patriots   \n",
              "2  5fc10d746b90cd1acfac6ad2       rywoo      Ryan Wolfe   \n",
              "3  5fc10d746b90cd1acfac6ad3     psdanks            Paul   \n",
              "4  5fc10d7a6b90cd1acfac6ad4     Vinchy1          Vinchy   \n",
              "\n",
              "                                                Text  Followers  \\\n",
              "0  RT @ESPNRingside: Iron @MikeTyson has one of t...        280   \n",
              "1  RT @DonaldJTrumpJr: This is going to be my wee...      15661   \n",
              "2  This guy is gets more annoying the more I see him        208   \n",
              "3  RT @BTSportBoxing: One more sleep until @MikeT...        381   \n",
              "4  RT @DonaldJTrumpJr: This is going to be my wee...        498   \n",
              "\n",
              "   Number_Retweet                      Position     Date_time_italy  \\\n",
              "0               0                          None 2020-11-27 14:30:03   \n",
              "1               0  https://wego.social/Alleanna 2020-11-27 14:30:03   \n",
              "2               0                          None 2020-11-27 14:30:07   \n",
              "3               0           Urmston, Manchester 2020-11-27 14:30:07   \n",
              "4               0               Los Angeles CA. 2020-11-27 14:30:12   \n",
              "\n",
              "                                          Hashtags    hashtags  \\\n",
              "0  [{'indices': [106, 117], 'text': 'TysonJones'}]  TysonJones   \n",
              "1                                               []         NaN   \n",
              "2                                               []         NaN   \n",
              "3    [{'indices': [67, 78], 'text': 'TysonJones'}]  TysonJones   \n",
              "4                                               []         NaN   \n",
              "\n",
              "                                        Text_clean_1 Date_time_losangeles  \n",
              "0  [@espnringside, iron, @miketyson, one, memorab...  2020-11-27 05:30:03  \n",
              "1  [@donaldjtrumpjr, going, weekend, guilty, plea...  2020-11-27 05:30:03  \n",
              "2                          [guy, get, annoying, see]  2020-11-27 05:30:07  \n",
              "3  [@btsportboxing, one, sleep, @miketyson, fight...  2020-11-27 05:30:07  \n",
              "4  [@donaldjtrumpjr, going, weekend, guilty, plea...  2020-11-27 05:30:12  "
            ]
          },
          "metadata": {
            "tags": []
          },
          "execution_count": 60
        }
      ]
    },
    {
      "cell_type": "code",
      "metadata": {
        "id": "BkPw414h53Dt",
        "outputId": "1f246956-3ead-4dce-a6db-f7ba4134b5a2"
      },
      "source": [
        "#[ESTRAZIONE TWEETS IN BASE AD HASHTAGS]\n",
        "#COSTRUISCO I DATASETS CON TWEETS LEGATI A TYSON E JONES DISTINTAMENTE:\n",
        "dataset_hashtags_tyson = dataset_tweets_complessivo_preproc.loc[(dataset_tweets_complessivo_preproc['hashtags'] == \"MikeTyson\") | (dataset_tweets_complessivo_preproc['hashtags'] == \"Tyson\" ) | (dataset_tweets_complessivo_preproc['hashtags'] == \"IronMike\" )]\n",
        "print(\"Nel dataset con duplicati, tweets con hashtags #MikeTyson, #Tyson e #IronMike, vi sono \" + str(len(dataset_hashtags_tyson.index)) + \" tweets\")\n",
        "dataset_hashtags_jones = dataset_tweets_complessivo_preproc.loc[(dataset_tweets_complessivo_preproc['hashtags'] == \"Jones\") | (dataset_tweets_complessivo_preproc['hashtags'] == \"RoyJones\" ) | (dataset_tweets_complessivo_preproc['hashtags'] == \"jonesjr\" ) | (dataset_tweets_complessivo_preproc['hashtags'] == \"royjonesjr\" )]\n",
        "print(\"Nel dataset con duplicati, tweets con hashtags #Jones, #RoyJones e #royjonesjr, vi sono \" + str(len(dataset_hashtags_jones.index)) + \" tweets\")"
      ],
      "execution_count": null,
      "outputs": [
        {
          "output_type": "stream",
          "text": [
            "Nel dataset con duplicati, tweets con hashtags #MikeTyson, #Tyson e #IronMike, vi sono 9531 tweets\n",
            "Nel dataset con duplicati, tweets con hashtags #Jones, #RoyJones e #royjonesjr, vi sono 702 tweets\n"
          ],
          "name": "stdout"
        }
      ]
    },
    {
      "cell_type": "code",
      "metadata": {
        "id": "muFYVe0V53Dt",
        "outputId": "d61c6f10-9890-49cc-f55b-9aab9f069fe8"
      },
      "source": [
        "dataset_hashtags_tyson_nod = dataset_hashtags_tyson.drop_duplicates(['_id'], keep=\"last\")\n",
        "print(\"[FINALE HASHTAGS] Nel dataset con hastags legati a Tyson, vi sono: \" + str(len(dataset_hashtags_tyson_nod.index)) + \" tweets\")\n",
        "dataset_hashtags_jones_nod = dataset_hashtags_jones.drop_duplicates(['_id'], keep=\"last\")\n",
        "print(\"[FINALE HASHTAGS] Nel dataset con hashtags legati a Jones, vi sono: \" + str(len(dataset_hashtags_jones_nod.index)) + \" tweets\")"
      ],
      "execution_count": null,
      "outputs": [
        {
          "output_type": "stream",
          "text": [
            "[FINALE HASHTAGS] Nel dataset con hastags legati a Tyson, vi sono: 9120 tweets\n",
            "[FINALE HASHTAGS] Nel dataset con hashtags legati a Jones, vi sono: 698 tweets\n"
          ],
          "name": "stdout"
        }
      ]
    },
    {
      "cell_type": "code",
      "metadata": {
        "id": "wLZK45Ee53Dv",
        "outputId": "c118202d-771b-49f3-962b-d4a6f900877a"
      },
      "source": [
        "#[ESTRAZIONE TWEETS IN BASE A PAROLE NEI TWEETS]\n",
        "parole_testo_tyson =['Tyson', 'MikeTyson', 'IronMike', 'tyson']\n",
        "def matcherTyson(x):\n",
        "    for i in parole_testo_tyson:\n",
        "        if i in x:\n",
        "            return i\n",
        "    else:\n",
        "        return np.nan\n",
        "\n",
        "parole_testo_jones =['Jones', 'Roy', 'jones', 'roy']\n",
        "def matcherJones(x):\n",
        "    for i in parole_testo_jones:\n",
        "        if i in x:\n",
        "            return i\n",
        "    else:\n",
        "        return np.nan\n",
        "    \n",
        "parole_testo_totale =['Jones', 'Roy', 'jones', 'roy', 'Tyson', 'IronMike', 'tyson']\n",
        "def matcherTotale(x):\n",
        "    for i in parole_testo_totale:\n",
        "        if i in x:\n",
        "            return i\n",
        "    else:\n",
        "        return np.nan\n",
        "\n",
        "dataset_tweets_complessivo_preproc['Match_parola_Tyson'] = dataset_tweets_complessivo_preproc['hashtags'].apply(matcherTyson)\n",
        "dataset_tweets_complessivo_preproc['Match_parola_Jones'] = dataset_tweets_complessivo_preproc['hashtags'].apply(matcherJones)\n",
        "dataset_tweets_complessivo_preproc['Match_parola'] = dataset_tweets_complessivo_preproc['hashtags'].apply(matcherTotale)\n",
        "dataset_tweets_complessivo_preproc_parole = dataset_tweets_complessivo_preproc[dataset_tweets_complessivo_preproc['Match_parola'].notna()]\n",
        "\n",
        "#[TYSON]\n",
        "dataset_parole_tyson = dataset_tweets_complessivo_preproc_parole.loc[ (dataset_tweets_complessivo_preproc_parole['Match_parola_Tyson'] == \"Tyson\") | (dataset_tweets_complessivo_preproc_parole['Match_parola_Tyson'] == \"Mike\") | (dataset_tweets_complessivo_preproc_parole['Match_parola_Tyson'] == \"IronMike\") | (dataset_tweets_complessivo_preproc_parole['Match_parola_Tyson'] == \"tyson\")]\n",
        "dataset_parole_tyson = dataset_parole_tyson.loc[ (dataset_parole_tyson['Match_parola'] == \"Tyson\") | (dataset_parole_tyson['Match_parola'] == \"tyson\") | (dataset_parole_tyson['Match_parola'] == \"IronMike\")]\n",
        "dataset_parole_tyson = dataset_parole_tyson[dataset_parole_tyson['Match_parola_Jones'].isnull()]\n",
        "#Dataset nel quale sono contenuti i tweets dove sono contenute le parole riferite a Tyson nel testo:\n",
        "dataset_parole_tyson_nod = dataset_parole_tyson.drop_duplicates(['_id'], keep=\"last\")\n",
        "print(\"[FINALE PAROLE] Nel dataset con tweets riferiti a Tyson, vi sono: \" + str(len(dataset_parole_tyson_nod.index)) + \" tweets\")\n",
        "\n",
        "#BIDEN:\n",
        "dataset_parole_jones = dataset_tweets_complessivo_preproc_parole.loc[(dataset_tweets_complessivo_preproc_parole['Match_parola_Jones'] == \"Jones\") | (dataset_tweets_complessivo_preproc_parole['Match_parola_Jones'] == \"Roy\") | (dataset_tweets_complessivo_preproc_parole['Match_parola_Jones'] == \"jones\") | (dataset_tweets_complessivo_preproc_parole['Match_parola_Jones'] == \"roy\")]\n",
        "dataset_parole_jones = dataset_parole_jones.loc[(dataset_parole_jones['Match_parola'] == \"Jones\") | (dataset_parole_jones['Match_parola'] == \"Roy\") | (dataset_parole_jones['Match_parola'] == \"roy\") | (dataset_parole_jones['Match_parola'] == \"jones\")]\n",
        "dataset_parole_jones = dataset_parole_jones[dataset_parole_jones['Match_parola_Tyson'].isnull()]\n",
        "#Dataset nel quale sono contenuti i tweets dove sono contenute le parole riferite a trump nel testo:\n",
        "dataset_parole_jones_nod = dataset_parole_jones.drop_duplicates(['_id'], keep=\"last\")\n",
        "print(\"[FINALE PAROLE] Nel dataset con tweets legati a Jones, vi sono: \" + str(len(dataset_parole_jones_nod.index)) + \" tweets\")"
      ],
      "execution_count": null,
      "outputs": [
        {
          "output_type": "stream",
          "text": [
            "[FINALE PAROLE] Nel dataset con tweets riferiti a Tyson, vi sono: 193608 tweets\n",
            "[FINALE PAROLE] Nel dataset con tweets legati a Jones, vi sono: 103239 tweets\n"
          ],
          "name": "stdout"
        }
      ]
    },
    {
      "cell_type": "code",
      "metadata": {
        "id": "2qPGmbQb53Dw",
        "outputId": "6aff93f6-4e6b-4613-f080-5457a8aa1474"
      },
      "source": [
        "#[CREAZIONE DATASET FINALE CON TWEETS DEL 3 NOVEMBRE RIFERITI A TRUMP]\n",
        "#UNIONE UNICO DATASET PER TRUMP E BIDEN CON I TWEETS CHE CONTENGONO HASHTAGS E PAROLE RIFERITI A LORO DUE:\n",
        "#TRUMP\n",
        "dataset_tyson = pd.concat([dataset_parole_tyson_nod, dataset_hashtags_tyson_nod])\n",
        "dataset_tyson_def = dataset_tyson.drop_duplicates(['_id'], keep=\"last\")\n",
        "print(\"Nel dataset finale relativo a Tyson, vi sono:\" + str(len(dataset_tyson_def.index)) + \" tweets\")\n",
        "\n",
        "#BIDEN:\n",
        "dataset_jones = pd.concat([dataset_parole_jones_nod, dataset_hashtags_jones_nod])\n",
        "dataset_jones_def = dataset_jones.drop_duplicates(['_id'], keep=\"last\")\n",
        "print(\"Nel dataset finale relativo a Jones, vi sono:\" + str(len(dataset_jones_def.index)) + \" tweets\")"
      ],
      "execution_count": null,
      "outputs": [
        {
          "output_type": "stream",
          "text": [
            "Nel dataset finale relativo a Tyson, vi sono:199658 tweets\n",
            "Nel dataset finale relativo a Jones, vi sono:103875 tweets\n"
          ],
          "name": "stdout"
        }
      ]
    },
    {
      "cell_type": "code",
      "metadata": {
        "id": "CRDK-ebl53Dw",
        "outputId": "b63a424f-be21-4aa6-c800-eee6dd6f8cbb"
      },
      "source": [
        "dataset_jones_def['Date_time_italy'] = pd.to_datetime(dataset_jones_def['Date_time_italy'])\n",
        "dataset_tyson_def['Date_time_italy'] = pd.to_datetime(dataset_tyson_def['Date_time_italy'])\n",
        "dataset_jones_def = dataset_jones_def.sort_values(by = 'Date_time_italy')\n",
        "dataset_tyson_def = dataset_tyson_def.sort_values(by = 'Date_time_italy')"
      ],
      "execution_count": null,
      "outputs": [
        {
          "output_type": "stream",
          "text": [
            "/opt/anaconda3/lib/python3.7/site-packages/ipykernel_launcher.py:1: SettingWithCopyWarning: \n",
            "A value is trying to be set on a copy of a slice from a DataFrame.\n",
            "Try using .loc[row_indexer,col_indexer] = value instead\n",
            "\n",
            "See the caveats in the documentation: https://pandas.pydata.org/pandas-docs/stable/user_guide/indexing.html#returning-a-view-versus-a-copy\n",
            "  \"\"\"Entry point for launching an IPython kernel.\n",
            "/opt/anaconda3/lib/python3.7/site-packages/ipykernel_launcher.py:2: SettingWithCopyWarning: \n",
            "A value is trying to be set on a copy of a slice from a DataFrame.\n",
            "Try using .loc[row_indexer,col_indexer] = value instead\n",
            "\n",
            "See the caveats in the documentation: https://pandas.pydata.org/pandas-docs/stable/user_guide/indexing.html#returning-a-view-versus-a-copy\n",
            "  \n"
          ],
          "name": "stderr"
        }
      ]
    },
    {
      "cell_type": "code",
      "metadata": {
        "id": "bJKUDlMx53Dx"
      },
      "source": [
        "#CREAZIONE DEL DATASET PER VISUALIZZAZIONE INTERMEDIA \n",
        "#unisci i dataset, aggiungi una colonna di count per ogni riga, aggiungi una colonna di count per ogni riga dove la parola matchata è tyson/jones \n",
        "#aggiungi una colonna di count dove l'hashtag è tyson/jones\n",
        "dataset_viz = pd.concat([dataset_jones_def,dataset_tyson_def])\n",
        "dataset_viz['count'] = 1\n",
        "dataset_viz = dataset_viz.sort_values(by = 'Date_time_italy')\n",
        "def t(row):\n",
        "    if row['Match_parola'] == 'Tyson':\n",
        "        val = 1\n",
        "    else:\n",
        "        val = 0\n",
        "    return val\n",
        "\n",
        "def j(row):\n",
        "    if row['Match_parola'] == 'Jones':\n",
        "        val = 1\n",
        "    else:\n",
        "        val = 0\n",
        "    return val\n",
        "  \n",
        "  \n",
        "dataset_viz['matching_parola_tyson'] = dataset_viz.apply(t, axis = 1)\n",
        "dataset_viz['matching_parola_jones'] = dataset_viz.apply(j, axis = 1)\n",
        "\n",
        "def jtest(row):\n",
        "    if row['hashtags'] == 'Jones':\n",
        "        val = 1\n",
        "    elif row['hashtags'] == 'RoyJones':\n",
        "        val=1\n",
        "    elif row['hashtags'] == 'jonesjr':\n",
        "        val = 1\n",
        "    elif row['hashtags'] == 'royjonesjr':\n",
        "        val = 1\n",
        "    else:\n",
        "        val = 0\n",
        "    return val\n",
        "\n",
        "def ttest(row):\n",
        "    if row['hashtags'] == 'Tyson':\n",
        "        val = 1\n",
        "    elif row['hashtags'] == 'MikeTyson':\n",
        "        val=1\n",
        "    elif row['hashtags'] == 'IronMike':\n",
        "        val = 1\n",
        "    else:\n",
        "        val = 0\n",
        "    return val\n",
        "\n",
        "dataset_viz['matching_hash_jones'] = dataset_viz.apply(jtest, axis = 1)\n",
        "dataset_viz['matching_hash_tyson'] = dataset_viz.apply(ttest, axis = 1)\n",
        "dataset_viz = dataset_viz.drop(['_id','Text'], axis = 1)\n",
        "dataset_viz = pd.DataFrame(dataset_viz)\n",
        "dataset_viz.to_csv (r'/Users/matteo/Desktop/DATA SCIENCE/Data Management/Progettto/ESPERIMENTITABLEAU/viztysonjones2.csv', index = False, header=True)"
      ],
      "execution_count": null,
      "outputs": []
    },
    {
      "cell_type": "code",
      "metadata": {
        "id": "YC7BP2za53Dx",
        "outputId": "fd15c84d-d98c-4006-96b8-a843186cf37c"
      },
      "source": [
        "#ESTRAZIONE PRE-INCONTRO TYSON :\n",
        "tweets_preincontro_tyson = (dataset_tyson_def['Date_time_italy'] > \"2020-11-27 10:36:47\") & (dataset_tyson_def['Date_time_italy'] <= \"2020-11-29 05:58:30\")\n",
        "tweets_preincontro_tyson = dataset_tyson_def.loc[tweets_preincontro_tyson]\n",
        "tweets_preincontro_tyson = tweets_preincontro_tyson.reset_index(drop = True)\n",
        "print(\"Tweets pre-incontro riferiti a Tyson: \", len(tweets_preincontro_tyson))\n",
        "\n",
        "#ESTRAZIONE PRE-INCONTRO JONES :\n",
        "tweets_preincontro_jones = (dataset_jones_def['Date_time_italy'] > \"2020-11-27 10:36:47\") & (dataset_jones_def['Date_time_italy'] <= \"2020-11-29 05:58:30\")\n",
        "tweets_preincontro_jones = dataset_jones_def.loc[tweets_preincontro_jones]\n",
        "tweets_preincontro_jones = tweets_preincontro_jones.reset_index(drop = True)\n",
        "print(\"Tweets pre-incontro riferiti a Jones: \", len(tweets_preincontro_jones))"
      ],
      "execution_count": null,
      "outputs": [
        {
          "output_type": "stream",
          "text": [
            "Tweets pre-incontro riferiti a Tyson:  102452\n",
            "Tweets pre-incontro riferiti a Jones:  46716\n"
          ],
          "name": "stdout"
        }
      ]
    },
    {
      "cell_type": "code",
      "metadata": {
        "id": "D2GRpd0U53Dx",
        "outputId": "14e4f358-ad33-4fd4-f16c-90890c07cb9c"
      },
      "source": [
        "#Estrazione dataset tweets durante incontro TYSON:\n",
        "tweets_incontro_tyson = (dataset_tyson_def['Date_time_italy'] > \"2020-11-29 05:58:31\") & (dataset_tyson_def['Date_time_italy'] < \"2020-11-29 06:31:00\")\n",
        "tweets_incontro_tyson = dataset_tyson_def.loc[tweets_incontro_tyson]\n",
        "tweets_incontro_tyson = tweets_incontro_tyson.reset_index(drop = True)\n",
        "print(\"Tweets incontro riferiti a Tyson: \", len(tweets_incontro_tyson))\n",
        "\n",
        "tweets_incontro_jones = (dataset_jones_def['Date_time_italy'] > \"2020-11-29 05:58:31\") & (dataset_jones_def['Date_time_italy'] < \"2020-11-29 06:31:00\")\n",
        "tweets_incontro_jones = dataset_jones_def.loc[tweets_incontro_jones]\n",
        "tweets_incontro_jones = tweets_incontro_jones.reset_index(drop = True)\n",
        "print(\"Tweets incontro riferiti a Jones: \", len(tweets_incontro_jones))"
      ],
      "execution_count": null,
      "outputs": [
        {
          "output_type": "stream",
          "text": [
            "Tweets incontro riferiti a Tyson:  28993\n",
            "Tweets incontro riferiti a Jones:  9867\n"
          ],
          "name": "stdout"
        }
      ]
    },
    {
      "cell_type": "code",
      "metadata": {
        "id": "gdAkdC7Z53Dy",
        "outputId": "c0027e28-2a4b-48c0-b36a-f32ddd8139f4"
      },
      "source": [
        "#Vado a creare una colonna ROUND con tutti valori pari a zero, per poi andre ad integrare:\n",
        "tweets_incontro_tyson.insert(0, 'ROUND', 0)\n",
        "tweets_incontro_jones.insert(0, 'ROUND', 0)"
      ],
      "execution_count": null,
      "outputs": [
        {
          "output_type": "error",
          "ename": "ValueError",
          "evalue": "cannot insert ROUND, already exists",
          "traceback": [
            "\u001b[0;31m---------------------------------------------------------------------------\u001b[0m",
            "\u001b[0;31mValueError\u001b[0m                                Traceback (most recent call last)",
            "\u001b[0;32m<ipython-input-95-0efaf204a444>\u001b[0m in \u001b[0;36m<module>\u001b[0;34m\u001b[0m\n\u001b[1;32m      1\u001b[0m \u001b[0;31m#Vado a creare una colonna ROUND con tutti valori pari a zero, per poi andre ad integrare:\u001b[0m\u001b[0;34m\u001b[0m\u001b[0;34m\u001b[0m\u001b[0;34m\u001b[0m\u001b[0m\n\u001b[0;32m----> 2\u001b[0;31m \u001b[0mtweets_incontro_tyson\u001b[0m\u001b[0;34m.\u001b[0m\u001b[0minsert\u001b[0m\u001b[0;34m(\u001b[0m\u001b[0;36m0\u001b[0m\u001b[0;34m,\u001b[0m \u001b[0;34m'ROUND'\u001b[0m\u001b[0;34m,\u001b[0m \u001b[0;36m0\u001b[0m\u001b[0;34m)\u001b[0m\u001b[0;34m\u001b[0m\u001b[0;34m\u001b[0m\u001b[0m\n\u001b[0m\u001b[1;32m      3\u001b[0m \u001b[0mtweets_incontro_jones\u001b[0m\u001b[0;34m.\u001b[0m\u001b[0minsert\u001b[0m\u001b[0;34m(\u001b[0m\u001b[0;36m0\u001b[0m\u001b[0;34m,\u001b[0m \u001b[0;34m'ROUND'\u001b[0m\u001b[0;34m,\u001b[0m \u001b[0;36m0\u001b[0m\u001b[0;34m)\u001b[0m\u001b[0;34m\u001b[0m\u001b[0;34m\u001b[0m\u001b[0m\n",
            "\u001b[0;32m/opt/anaconda3/lib/python3.7/site-packages/pandas/core/frame.py\u001b[0m in \u001b[0;36minsert\u001b[0;34m(self, loc, column, value, allow_duplicates)\u001b[0m\n\u001b[1;32m   3758\u001b[0m         \u001b[0mself\u001b[0m\u001b[0;34m.\u001b[0m\u001b[0m_ensure_valid_index\u001b[0m\u001b[0;34m(\u001b[0m\u001b[0mvalue\u001b[0m\u001b[0;34m)\u001b[0m\u001b[0;34m\u001b[0m\u001b[0;34m\u001b[0m\u001b[0m\n\u001b[1;32m   3759\u001b[0m         \u001b[0mvalue\u001b[0m \u001b[0;34m=\u001b[0m \u001b[0mself\u001b[0m\u001b[0;34m.\u001b[0m\u001b[0m_sanitize_column\u001b[0m\u001b[0;34m(\u001b[0m\u001b[0mcolumn\u001b[0m\u001b[0;34m,\u001b[0m \u001b[0mvalue\u001b[0m\u001b[0;34m,\u001b[0m \u001b[0mbroadcast\u001b[0m\u001b[0;34m=\u001b[0m\u001b[0;32mFalse\u001b[0m\u001b[0;34m)\u001b[0m\u001b[0;34m\u001b[0m\u001b[0;34m\u001b[0m\u001b[0m\n\u001b[0;32m-> 3760\u001b[0;31m         \u001b[0mself\u001b[0m\u001b[0;34m.\u001b[0m\u001b[0m_mgr\u001b[0m\u001b[0;34m.\u001b[0m\u001b[0minsert\u001b[0m\u001b[0;34m(\u001b[0m\u001b[0mloc\u001b[0m\u001b[0;34m,\u001b[0m \u001b[0mcolumn\u001b[0m\u001b[0;34m,\u001b[0m \u001b[0mvalue\u001b[0m\u001b[0;34m,\u001b[0m \u001b[0mallow_duplicates\u001b[0m\u001b[0;34m=\u001b[0m\u001b[0mallow_duplicates\u001b[0m\u001b[0;34m)\u001b[0m\u001b[0;34m\u001b[0m\u001b[0;34m\u001b[0m\u001b[0m\n\u001b[0m\u001b[1;32m   3761\u001b[0m \u001b[0;34m\u001b[0m\u001b[0m\n\u001b[1;32m   3762\u001b[0m     \u001b[0;32mdef\u001b[0m \u001b[0massign\u001b[0m\u001b[0;34m(\u001b[0m\u001b[0mself\u001b[0m\u001b[0;34m,\u001b[0m \u001b[0;34m**\u001b[0m\u001b[0mkwargs\u001b[0m\u001b[0;34m)\u001b[0m \u001b[0;34m->\u001b[0m \u001b[0mDataFrame\u001b[0m\u001b[0;34m:\u001b[0m\u001b[0;34m\u001b[0m\u001b[0;34m\u001b[0m\u001b[0m\n",
            "\u001b[0;32m/opt/anaconda3/lib/python3.7/site-packages/pandas/core/internals/managers.py\u001b[0m in \u001b[0;36minsert\u001b[0;34m(self, loc, item, value, allow_duplicates)\u001b[0m\n\u001b[1;32m   1189\u001b[0m         \u001b[0;32mif\u001b[0m \u001b[0;32mnot\u001b[0m \u001b[0mallow_duplicates\u001b[0m \u001b[0;32mand\u001b[0m \u001b[0mitem\u001b[0m \u001b[0;32min\u001b[0m \u001b[0mself\u001b[0m\u001b[0;34m.\u001b[0m\u001b[0mitems\u001b[0m\u001b[0;34m:\u001b[0m\u001b[0;34m\u001b[0m\u001b[0;34m\u001b[0m\u001b[0m\n\u001b[1;32m   1190\u001b[0m             \u001b[0;31m# Should this be a different kind of error??\u001b[0m\u001b[0;34m\u001b[0m\u001b[0;34m\u001b[0m\u001b[0;34m\u001b[0m\u001b[0m\n\u001b[0;32m-> 1191\u001b[0;31m             \u001b[0;32mraise\u001b[0m \u001b[0mValueError\u001b[0m\u001b[0;34m(\u001b[0m\u001b[0;34mf\"cannot insert {item}, already exists\"\u001b[0m\u001b[0;34m)\u001b[0m\u001b[0;34m\u001b[0m\u001b[0;34m\u001b[0m\u001b[0m\n\u001b[0m\u001b[1;32m   1192\u001b[0m \u001b[0;34m\u001b[0m\u001b[0m\n\u001b[1;32m   1193\u001b[0m         \u001b[0;32mif\u001b[0m \u001b[0;32mnot\u001b[0m \u001b[0misinstance\u001b[0m\u001b[0;34m(\u001b[0m\u001b[0mloc\u001b[0m\u001b[0;34m,\u001b[0m \u001b[0mint\u001b[0m\u001b[0;34m)\u001b[0m\u001b[0;34m:\u001b[0m\u001b[0;34m\u001b[0m\u001b[0;34m\u001b[0m\u001b[0m\n",
            "\u001b[0;31mValueError\u001b[0m: cannot insert ROUND, already exists"
          ]
        }
      ]
    },
    {
      "cell_type": "code",
      "metadata": {
        "id": "ZU4PkfY653Dy"
      },
      "source": [
        "#VADO A COSTRUIRE GLI INTERVALLI DEI TEMPI:\n",
        "mask_1_t = (tweets_incontro_tyson['Date_time_italy'] > \"2020-11-29 05:58:00\") & (tweets_incontro_tyson['Date_time_italy'] < \"2020-11-29 06:01:00\")\n",
        "mask_2_t = (tweets_incontro_tyson['Date_time_italy'] > \"2020-11-29 06:01:01\") & (tweets_incontro_tyson['Date_time_italy'] < \"2020-11-29 06:04:00\")\n",
        "mask_3_t = (tweets_incontro_tyson['Date_time_italy'] > \"2020-11-29 06:04:01\") & (tweets_incontro_tyson['Date_time_italy'] < \"2020-11-29 06:07:00\")\n",
        "mask_4_t = (tweets_incontro_tyson['Date_time_italy'] > \"2020-11-29 06:07:01\") & (tweets_incontro_tyson['Date_time_italy'] < \"2020-11-29 06:10:00\")\n",
        "mask_5_t = (tweets_incontro_tyson['Date_time_italy'] > \"2020-11-29 06:10:01\") & (tweets_incontro_tyson['Date_time_italy'] < \"2020-11-29 06:13:00\")\n",
        "mask_6_t = (tweets_incontro_tyson['Date_time_italy'] > \"2020-11-29 06:13:01\") & (tweets_incontro_tyson['Date_time_italy'] < \"2020-11-29 06:16:00\")\n",
        "mask_7_t = (tweets_incontro_tyson['Date_time_italy'] > \"2020-11-29 06:16:01\") & (tweets_incontro_tyson['Date_time_italy'] < \"2020-11-29 06:19:00\")\n",
        "mask_8_t = (tweets_incontro_tyson['Date_time_italy'] > \"2020-11-29 06:19:01\") & (tweets_incontro_tyson['Date_time_italy'] < \"2020-11-29 06:22:00\")\n",
        "\n",
        "mask_1_j = (tweets_incontro_jones['Date_time_italy'] > \"2020-11-29 05:58:00\") & (tweets_incontro_jones['Date_time_italy'] < \"2020-11-29 06:01:00\")\n",
        "mask_2_j = (tweets_incontro_jones['Date_time_italy'] > \"2020-11-29 06:01:01\") & (tweets_incontro_jones['Date_time_italy'] < \"2020-11-29 06:04:00\")\n",
        "mask_3_j = (tweets_incontro_jones['Date_time_italy'] > \"2020-11-29 06:04:01\") & (tweets_incontro_jones['Date_time_italy'] < \"2020-11-29 06:07:00\")\n",
        "mask_4_j = (tweets_incontro_jones['Date_time_italy'] > \"2020-11-29 06:07:01\") & (tweets_incontro_jones['Date_time_italy'] < \"2020-11-29 06:10:00\")\n",
        "mask_5_j = (tweets_incontro_jones['Date_time_italy'] > \"2020-11-29 06:10:01\") & (tweets_incontro_jones['Date_time_italy'] < \"2020-11-29 06:13:00\")\n",
        "mask_6_j = (tweets_incontro_jones['Date_time_italy'] > \"2020-11-29 06:13:01\") & (tweets_incontro_jones['Date_time_italy'] < \"2020-11-29 06:16:00\")\n",
        "mask_7_j = (tweets_incontro_jones['Date_time_italy'] > \"2020-11-29 06:16:01\") & (tweets_incontro_jones['Date_time_italy'] < \"2020-11-29 06:19:00\")\n",
        "mask_8_j = (tweets_incontro_jones['Date_time_italy'] > \"2020-11-29 06:19:01\") & (tweets_incontro_jones['Date_time_italy'] < \"2020-11-29 06:22:00\")"
      ],
      "execution_count": null,
      "outputs": []
    },
    {
      "cell_type": "code",
      "metadata": {
        "id": "716kF0P_53Dy",
        "outputId": "92d7ce35-c311-4c54-893a-25c27f8e60e4"
      },
      "source": [
        "#Inserisco per le fasce orarie il valore del ROUND\n",
        "tweets_incontro_tyson[\"ROUND\"].loc[mask_1_t] = 1\n",
        "tweets_incontro_tyson[\"ROUND\"].loc[mask_2_t] = 2\n",
        "tweets_incontro_tyson[\"ROUND\"].loc[mask_3_t] = 3\n",
        "tweets_incontro_tyson[\"ROUND\"].loc[mask_4_t] = 4\n",
        "tweets_incontro_tyson[\"ROUND\"].loc[mask_5_t] = 5\n",
        "tweets_incontro_tyson[\"ROUND\"].loc[mask_6_t] = 6\n",
        "tweets_incontro_tyson[\"ROUND\"].loc[mask_7_t] = 7\n",
        "tweets_incontro_tyson[\"ROUND\"].loc[mask_8_t] = 8\n",
        "\n",
        "tweets_incontro_jones[\"ROUND\"].loc[mask_1_j] = 1\n",
        "tweets_incontro_jones[\"ROUND\"].loc[mask_2_j] = 2\n",
        "tweets_incontro_jones[\"ROUND\"].loc[mask_3_j] = 3\n",
        "tweets_incontro_jones[\"ROUND\"].loc[mask_4_j] = 4\n",
        "tweets_incontro_jones[\"ROUND\"].loc[mask_5_j] = 5\n",
        "tweets_incontro_jones[\"ROUND\"].loc[mask_6_j] = 6\n",
        "tweets_incontro_jones[\"ROUND\"].loc[mask_7_j] = 7\n",
        "tweets_incontro_jones[\"ROUND\"].loc[mask_8_j] = 8"
      ],
      "execution_count": null,
      "outputs": [
        {
          "output_type": "stream",
          "text": [
            "/opt/anaconda3/lib/python3.7/site-packages/pandas/core/indexing.py:1636: SettingWithCopyWarning: \n",
            "A value is trying to be set on a copy of a slice from a DataFrame\n",
            "\n",
            "See the caveats in the documentation: https://pandas.pydata.org/pandas-docs/stable/user_guide/indexing.html#returning-a-view-versus-a-copy\n",
            "  self._setitem_single_block(indexer, value, name)\n"
          ],
          "name": "stderr"
        }
      ]
    },
    {
      "cell_type": "code",
      "metadata": {
        "id": "caLCkjVD53Dz"
      },
      "source": [
        "#[INTEGRAZIONE]\n",
        "datasetcompleto_incontro_tyson = pd.merge(tweets_incontro_tyson, incontro_jab_landed, how='left')\n",
        "datasetcompleto_incontro_jones = pd.merge(tweets_incontro_jones, incontro_jab_landed, how='left')\n",
        "\n",
        "datasetcompleto_incontro_tyson = pd.merge(datasetcompleto_incontro_tyson, incontro_punches_total, how='left')\n",
        "datasetcompleto_incontro_jones = pd.merge(datasetcompleto_incontro_jones, incontro_punches_total, how='left')\n",
        "\n",
        "datasetcompleto_incontro_tyson = pd.merge(datasetcompleto_incontro_tyson, incontro_powerpunches_landed, how='left')\n",
        "datasetcompleto_incontro_jones = pd.merge(datasetcompleto_incontro_jones, incontro_powerpunches_landed, how='left')"
      ],
      "execution_count": null,
      "outputs": []
    },
    {
      "cell_type": "code",
      "metadata": {
        "id": "LRqT4S-v53Dz"
      },
      "source": [
        "#tweets_incontro_tyson['ROUND'] = np.where((tweets_incontro_tyson['Date_time_italy'] >= '2020-11-29 06:04:31') & (tweets_incontro_tyson['Date_time_italy'] <= '2020-11-29 06:31:00'), 2, 10)\n",
        "#tweets_incontro_tyson['ROUND'] = tweets_incontro_tyson['Date_time_italy'].apply(lambda x: \"2\" if (x >= '2020-11-29 06:04:31' and x <= '2020-11-29 06:33:00'))\n",
        "#tweets_incontro_tyson.loc[tweets_incontro_tyson['Date_time_italy'] >= '2020-11-29 06:04:31' & tweets_incontro_tyson['Date_time_italy'] <= '2020-11-29 06:31:00', tweets_incontro_tyson['ROUND']] = 10\n"
      ],
      "execution_count": null,
      "outputs": []
    },
    {
      "cell_type": "code",
      "metadata": {
        "id": "Qbq0yA2M53Dz",
        "outputId": "659aff3f-98fe-4b31-b9f9-b0aa059d2be2"
      },
      "source": [
        "#Estrazione dataset tweets dopo incontro TYSON:\n",
        "tweets_afterincontro_tyson = (dataset_tyson_def['Date_time_italy'] > \"2020-11-29 06:23:01\") & (dataset_tyson_def['Date_time_italy'] <= \"2020-12-05 06:31:00\")\n",
        "tweets_afterincontro_tyson = dataset_tyson_def.loc[tweets_afterincontro_tyson]\n",
        "tweets_afterincontro_tyson = tweets_afterincontro_tyson.reset_index(drop = True)\n",
        "print(\"Tweest riferiti a Tyson nel dopo incontro: \", len(tweets_afterincontro_tyson))\n",
        "\n",
        "#Estrazione dataset tweets durante incontro JONES:\n",
        "tweets_afterincontro_jones = (dataset_jones_def['Date_time_italy'] > \"2020-11-29 06:23:01\") & (dataset_jones_def['Date_time_italy'] <= \"2020-12-05 06:31:00\")\n",
        "tweets_afterincontro_jones = dataset_jones_def.loc[tweets_afterincontro_jones]\n",
        "tweets_afterincontro_jones = tweets_afterincontro_jones.reset_index(drop = True)\n",
        "print(\"Tweest riferiti a Jones nel dopo incontro: \", len(tweets_afterincontro_jones))"
      ],
      "execution_count": null,
      "outputs": [
        {
          "output_type": "stream",
          "text": [
            "Tweest riferiti a Tyson nel dopo incontro:  74918\n",
            "Tweest riferiti a Jones nel dopo incontro:  50502\n"
          ],
          "name": "stdout"
        }
      ]
    },
    {
      "cell_type": "code",
      "metadata": {
        "id": "VkAMn4My53Dz"
      },
      "source": [
        "#AGGIUNGO INFORMAZIONI AL DATASET COMPLESSIVO DEI TWEETS:"
      ],
      "execution_count": null,
      "outputs": []
    },
    {
      "cell_type": "code",
      "metadata": {
        "id": "AIJmJZAA53D0",
        "outputId": "8ed8fa0d-d376-478d-e1f5-50ea0abcd9fb"
      },
      "source": [
        "dataset_tweets_complessivo.insert(0, 'ROUND', 0)\n",
        "dataset_tweets_complessivo.head()"
      ],
      "execution_count": null,
      "outputs": [
        {
          "output_type": "error",
          "ename": "ValueError",
          "evalue": "cannot insert ROUND, already exists",
          "traceback": [
            "\u001b[0;31m---------------------------------------------------------------------------\u001b[0m",
            "\u001b[0;31mValueError\u001b[0m                                Traceback (most recent call last)",
            "\u001b[0;32m<ipython-input-102-c398d111a689>\u001b[0m in \u001b[0;36m<module>\u001b[0;34m\u001b[0m\n\u001b[0;32m----> 1\u001b[0;31m \u001b[0mdataset_tweets_complessivo\u001b[0m\u001b[0;34m.\u001b[0m\u001b[0minsert\u001b[0m\u001b[0;34m(\u001b[0m\u001b[0;36m0\u001b[0m\u001b[0;34m,\u001b[0m \u001b[0;34m'ROUND'\u001b[0m\u001b[0;34m,\u001b[0m \u001b[0;36m0\u001b[0m\u001b[0;34m)\u001b[0m\u001b[0;34m\u001b[0m\u001b[0;34m\u001b[0m\u001b[0m\n\u001b[0m\u001b[1;32m      2\u001b[0m \u001b[0mdataset_tweets_complessivo\u001b[0m\u001b[0;34m.\u001b[0m\u001b[0mhead\u001b[0m\u001b[0;34m(\u001b[0m\u001b[0;34m)\u001b[0m\u001b[0;34m\u001b[0m\u001b[0;34m\u001b[0m\u001b[0m\n",
            "\u001b[0;32m/opt/anaconda3/lib/python3.7/site-packages/pandas/core/frame.py\u001b[0m in \u001b[0;36minsert\u001b[0;34m(self, loc, column, value, allow_duplicates)\u001b[0m\n\u001b[1;32m   3758\u001b[0m         \u001b[0mself\u001b[0m\u001b[0;34m.\u001b[0m\u001b[0m_ensure_valid_index\u001b[0m\u001b[0;34m(\u001b[0m\u001b[0mvalue\u001b[0m\u001b[0;34m)\u001b[0m\u001b[0;34m\u001b[0m\u001b[0;34m\u001b[0m\u001b[0m\n\u001b[1;32m   3759\u001b[0m         \u001b[0mvalue\u001b[0m \u001b[0;34m=\u001b[0m \u001b[0mself\u001b[0m\u001b[0;34m.\u001b[0m\u001b[0m_sanitize_column\u001b[0m\u001b[0;34m(\u001b[0m\u001b[0mcolumn\u001b[0m\u001b[0;34m,\u001b[0m \u001b[0mvalue\u001b[0m\u001b[0;34m,\u001b[0m \u001b[0mbroadcast\u001b[0m\u001b[0;34m=\u001b[0m\u001b[0;32mFalse\u001b[0m\u001b[0;34m)\u001b[0m\u001b[0;34m\u001b[0m\u001b[0;34m\u001b[0m\u001b[0m\n\u001b[0;32m-> 3760\u001b[0;31m         \u001b[0mself\u001b[0m\u001b[0;34m.\u001b[0m\u001b[0m_mgr\u001b[0m\u001b[0;34m.\u001b[0m\u001b[0minsert\u001b[0m\u001b[0;34m(\u001b[0m\u001b[0mloc\u001b[0m\u001b[0;34m,\u001b[0m \u001b[0mcolumn\u001b[0m\u001b[0;34m,\u001b[0m \u001b[0mvalue\u001b[0m\u001b[0;34m,\u001b[0m \u001b[0mallow_duplicates\u001b[0m\u001b[0;34m=\u001b[0m\u001b[0mallow_duplicates\u001b[0m\u001b[0;34m)\u001b[0m\u001b[0;34m\u001b[0m\u001b[0;34m\u001b[0m\u001b[0m\n\u001b[0m\u001b[1;32m   3761\u001b[0m \u001b[0;34m\u001b[0m\u001b[0m\n\u001b[1;32m   3762\u001b[0m     \u001b[0;32mdef\u001b[0m \u001b[0massign\u001b[0m\u001b[0;34m(\u001b[0m\u001b[0mself\u001b[0m\u001b[0;34m,\u001b[0m \u001b[0;34m**\u001b[0m\u001b[0mkwargs\u001b[0m\u001b[0;34m)\u001b[0m \u001b[0;34m->\u001b[0m \u001b[0mDataFrame\u001b[0m\u001b[0;34m:\u001b[0m\u001b[0;34m\u001b[0m\u001b[0;34m\u001b[0m\u001b[0m\n",
            "\u001b[0;32m/opt/anaconda3/lib/python3.7/site-packages/pandas/core/internals/managers.py\u001b[0m in \u001b[0;36minsert\u001b[0;34m(self, loc, item, value, allow_duplicates)\u001b[0m\n\u001b[1;32m   1189\u001b[0m         \u001b[0;32mif\u001b[0m \u001b[0;32mnot\u001b[0m \u001b[0mallow_duplicates\u001b[0m \u001b[0;32mand\u001b[0m \u001b[0mitem\u001b[0m \u001b[0;32min\u001b[0m \u001b[0mself\u001b[0m\u001b[0;34m.\u001b[0m\u001b[0mitems\u001b[0m\u001b[0;34m:\u001b[0m\u001b[0;34m\u001b[0m\u001b[0;34m\u001b[0m\u001b[0m\n\u001b[1;32m   1190\u001b[0m             \u001b[0;31m# Should this be a different kind of error??\u001b[0m\u001b[0;34m\u001b[0m\u001b[0;34m\u001b[0m\u001b[0;34m\u001b[0m\u001b[0m\n\u001b[0;32m-> 1191\u001b[0;31m             \u001b[0;32mraise\u001b[0m \u001b[0mValueError\u001b[0m\u001b[0;34m(\u001b[0m\u001b[0;34mf\"cannot insert {item}, already exists\"\u001b[0m\u001b[0;34m)\u001b[0m\u001b[0;34m\u001b[0m\u001b[0;34m\u001b[0m\u001b[0m\n\u001b[0m\u001b[1;32m   1192\u001b[0m \u001b[0;34m\u001b[0m\u001b[0m\n\u001b[1;32m   1193\u001b[0m         \u001b[0;32mif\u001b[0m \u001b[0;32mnot\u001b[0m \u001b[0misinstance\u001b[0m\u001b[0;34m(\u001b[0m\u001b[0mloc\u001b[0m\u001b[0;34m,\u001b[0m \u001b[0mint\u001b[0m\u001b[0;34m)\u001b[0m\u001b[0;34m:\u001b[0m\u001b[0;34m\u001b[0m\u001b[0;34m\u001b[0m\u001b[0m\n",
            "\u001b[0;31mValueError\u001b[0m: cannot insert ROUND, already exists"
          ]
        }
      ]
    },
    {
      "cell_type": "code",
      "metadata": {
        "id": "zS5KbZhm53D0"
      },
      "source": [
        "mask_1_comp = (dataset_tweets_complessivo['Date_time_italy'] > \"2020-11-29 05:58:00\") & (dataset_tweets_complessivo['Date_time_italy'] < \"2020-11-29 06:01:00\")\n",
        "mask_2_comp = (dataset_tweets_complessivo['Date_time_italy'] > \"2020-11-29 06:01:01\") & (dataset_tweets_complessivo['Date_time_italy'] < \"2020-11-29 06:04:00\")\n",
        "mask_3_comp = (dataset_tweets_complessivo['Date_time_italy'] > \"2020-11-29 06:04:01\") & (dataset_tweets_complessivo['Date_time_italy'] < \"2020-11-29 06:07:00\")\n",
        "mask_4_comp = (dataset_tweets_complessivo['Date_time_italy'] > \"2020-11-29 06:07:01\") & (dataset_tweets_complessivo['Date_time_italy'] < \"2020-11-29 06:10:00\")\n",
        "mask_5_comp = (dataset_tweets_complessivo['Date_time_italy'] > \"2020-11-29 06:10:01\") & (dataset_tweets_complessivo['Date_time_italy'] < \"2020-11-29 06:13:00\")\n",
        "mask_6_comp = (dataset_tweets_complessivo['Date_time_italy'] > \"2020-11-29 06:13:01\") & (dataset_tweets_complessivo['Date_time_italy'] < \"2020-11-29 06:16:00\")\n",
        "mask_7_comp = (dataset_tweets_complessivo['Date_time_italy'] > \"2020-11-29 06:16:01\") & (dataset_tweets_complessivo['Date_time_italy'] < \"2020-11-29 06:19:00\")\n",
        "mask_8_comp = (dataset_tweets_complessivo['Date_time_italy'] > \"2020-11-29 06:19:01\") & (dataset_tweets_complessivo['Date_time_italy'] < \"2020-12-20 06:22:00\")\n",
        "\n",
        "#Inserisco per le fasce orarie il valore del ROUND\n",
        "dataset_tweets_complessivo[\"ROUND\"].loc[mask_1_comp] = 1\n",
        "dataset_tweets_complessivo[\"ROUND\"].loc[mask_2_comp] = 2\n",
        "dataset_tweets_complessivo[\"ROUND\"].loc[mask_3_comp] = 3\n",
        "dataset_tweets_complessivo[\"ROUND\"].loc[mask_4_comp] = 4\n",
        "dataset_tweets_complessivo[\"ROUND\"].loc[mask_5_comp] = 5\n",
        "dataset_tweets_complessivo[\"ROUND\"].loc[mask_6_comp] = 6\n",
        "dataset_tweets_complessivo[\"ROUND\"].loc[mask_7_comp] = 7\n",
        "dataset_tweets_complessivo[\"ROUND\"].loc[mask_8_comp] = 8"
      ],
      "execution_count": null,
      "outputs": []
    },
    {
      "cell_type": "code",
      "metadata": {
        "id": "eyV6kar653D0",
        "outputId": "3ff94f40-056c-491b-ea04-c5c616f5d24c"
      },
      "source": [
        "#[TEST INTEGRAZIONE JAB LANDED DATASET COMPLESSIVO]\n",
        "datasetcompleto_integrazione = pd.merge(dataset_tweets_complessivo, incontro_jab_landed, how='left')\n",
        "datasetcompleto_integrazione = pd.merge(datasetcompleto_integrazione, incontro_punches_total, how='left')\n",
        "datasetcompleto_integrazione = pd.merge(datasetcompleto_integrazione, incontro_powerpunches_landed, how='left')\n",
        "datasetcompleto_integrazione = pd.merge(datasetcompleto_integrazione, tabellino_incontro_t, how='left')\n",
        "datasetcompleto_integrazione.tail(3)"
      ],
      "execution_count": null,
      "outputs": [
        {
          "output_type": "execute_result",
          "data": {
            "text/html": [
              "<div>\n",
              "<style scoped>\n",
              "    .dataframe tbody tr th:only-of-type {\n",
              "        vertical-align: middle;\n",
              "    }\n",
              "\n",
              "    .dataframe tbody tr th {\n",
              "        vertical-align: top;\n",
              "    }\n",
              "\n",
              "    .dataframe thead th {\n",
              "        text-align: right;\n",
              "    }\n",
              "</style>\n",
              "<table border=\"1\" class=\"dataframe\">\n",
              "  <thead>\n",
              "    <tr style=\"text-align: right;\">\n",
              "      <th></th>\n",
              "      <th>ROUND</th>\n",
              "      <th>_id</th>\n",
              "      <th>Screen_name</th>\n",
              "      <th>Name</th>\n",
              "      <th>Text</th>\n",
              "      <th>Followers</th>\n",
              "      <th>Number_Retweet</th>\n",
              "      <th>Position</th>\n",
              "      <th>Date_time_italy</th>\n",
              "      <th>Hashtags</th>\n",
              "      <th>...</th>\n",
              "      <th>tot_punch_tirati_tyson</th>\n",
              "      <th>tot_punch_tirati_jones</th>\n",
              "      <th>CUMSUM_power_tirati_tyson</th>\n",
              "      <th>CUMSUM_power_tirati_jones</th>\n",
              "      <th>CUMSUM_pugni_2_landed_tyson</th>\n",
              "      <th>CUMSUM_pugni_2_landed_jones</th>\n",
              "      <th>TYSON_punteggio_sing</th>\n",
              "      <th>JONES_punteggio_sing</th>\n",
              "      <th>CUMSUM_punteggio_tyson</th>\n",
              "      <th>CUMSUM_punteggio_jones</th>\n",
              "    </tr>\n",
              "  </thead>\n",
              "  <tbody>\n",
              "    <tr>\n",
              "      <th>767470</th>\n",
              "      <td>8</td>\n",
              "      <td>5fc35167fec2296bd50ec512</td>\n",
              "      <td>JasmineBagley_</td>\n",
              "      <td>Spicy Jazzy</td>\n",
              "      <td>RT @ScottieBeam: Mike Tyson: we gonna do this ...</td>\n",
              "      <td>708</td>\n",
              "      <td>0</td>\n",
              "      <td>Dallas, TX</td>\n",
              "      <td>2020-11-29 08:44:34</td>\n",
              "      <td>[]</td>\n",
              "      <td>...</td>\n",
              "      <td>11.0</td>\n",
              "      <td>4.0</td>\n",
              "      <td>137.0</td>\n",
              "      <td>151.0</td>\n",
              "      <td>57.0</td>\n",
              "      <td>28.0</td>\n",
              "      <td>9.0</td>\n",
              "      <td>10.0</td>\n",
              "      <td>76.0</td>\n",
              "      <td>76.0</td>\n",
              "    </tr>\n",
              "    <tr>\n",
              "      <th>767471</th>\n",
              "      <td>8</td>\n",
              "      <td>5fc35167fec2296bd50ec513</td>\n",
              "      <td>TH_Adrian_</td>\n",
              "      <td>𝓣𝓱𝓮 𝓦𝓮𝓼𝓽</td>\n",
              "      <td>That's cap</td>\n",
              "      <td>66</td>\n",
              "      <td>0</td>\n",
              "      <td>None</td>\n",
              "      <td>2020-11-29 08:44:34</td>\n",
              "      <td>[]</td>\n",
              "      <td>...</td>\n",
              "      <td>11.0</td>\n",
              "      <td>4.0</td>\n",
              "      <td>137.0</td>\n",
              "      <td>151.0</td>\n",
              "      <td>57.0</td>\n",
              "      <td>28.0</td>\n",
              "      <td>9.0</td>\n",
              "      <td>10.0</td>\n",
              "      <td>76.0</td>\n",
              "      <td>76.0</td>\n",
              "    </tr>\n",
              "    <tr>\n",
              "      <th>767472</th>\n",
              "      <td>8</td>\n",
              "      <td>5fc35168fec2296bd50ec514</td>\n",
              "      <td>Mooschbenari</td>\n",
              "      <td>Moosch</td>\n",
              "      <td>RT @RexChapman: Preview of the Mike Tyson vs. ...</td>\n",
              "      <td>18</td>\n",
              "      <td>0</td>\n",
              "      <td>London, England</td>\n",
              "      <td>2020-11-29 08:44:34</td>\n",
              "      <td>[]</td>\n",
              "      <td>...</td>\n",
              "      <td>11.0</td>\n",
              "      <td>4.0</td>\n",
              "      <td>137.0</td>\n",
              "      <td>151.0</td>\n",
              "      <td>57.0</td>\n",
              "      <td>28.0</td>\n",
              "      <td>9.0</td>\n",
              "      <td>10.0</td>\n",
              "      <td>76.0</td>\n",
              "      <td>76.0</td>\n",
              "    </tr>\n",
              "  </tbody>\n",
              "</table>\n",
              "<p>3 rows × 53 columns</p>\n",
              "</div>"
            ],
            "text/plain": [
              "       ROUND                       _id     Screen_name         Name  \\\n",
              "767470     8  5fc35167fec2296bd50ec512  JasmineBagley_  Spicy Jazzy   \n",
              "767471     8  5fc35167fec2296bd50ec513      TH_Adrian_     𝓣𝓱𝓮 𝓦𝓮𝓼𝓽   \n",
              "767472     8  5fc35168fec2296bd50ec514    Mooschbenari       Moosch   \n",
              "\n",
              "                                                     Text  Followers  \\\n",
              "767470  RT @ScottieBeam: Mike Tyson: we gonna do this ...        708   \n",
              "767471                                         That's cap         66   \n",
              "767472  RT @RexChapman: Preview of the Mike Tyson vs. ...         18   \n",
              "\n",
              "        Number_Retweet         Position     Date_time_italy Hashtags  ...  \\\n",
              "767470               0       Dallas, TX 2020-11-29 08:44:34       []  ...   \n",
              "767471               0             None 2020-11-29 08:44:34       []  ...   \n",
              "767472               0  London, England 2020-11-29 08:44:34       []  ...   \n",
              "\n",
              "       tot_punch_tirati_tyson tot_punch_tirati_jones  \\\n",
              "767470                   11.0                    4.0   \n",
              "767471                   11.0                    4.0   \n",
              "767472                   11.0                    4.0   \n",
              "\n",
              "       CUMSUM_power_tirati_tyson CUMSUM_power_tirati_jones  \\\n",
              "767470                     137.0                     151.0   \n",
              "767471                     137.0                     151.0   \n",
              "767472                     137.0                     151.0   \n",
              "\n",
              "        CUMSUM_pugni_2_landed_tyson CUMSUM_pugni_2_landed_jones  \\\n",
              "767470                         57.0                        28.0   \n",
              "767471                         57.0                        28.0   \n",
              "767472                         57.0                        28.0   \n",
              "\n",
              "        TYSON_punteggio_sing  JONES_punteggio_sing  CUMSUM_punteggio_tyson  \\\n",
              "767470                   9.0                  10.0                    76.0   \n",
              "767471                   9.0                  10.0                    76.0   \n",
              "767472                   9.0                  10.0                    76.0   \n",
              "\n",
              "        CUMSUM_punteggio_jones  \n",
              "767470                    76.0  \n",
              "767471                    76.0  \n",
              "767472                    76.0  \n",
              "\n",
              "[3 rows x 53 columns]"
            ]
          },
          "metadata": {
            "tags": []
          },
          "execution_count": 104
        }
      ]
    },
    {
      "cell_type": "code",
      "metadata": {
        "id": "DqDzburu53D1"
      },
      "source": [
        "datasetcompleto_integrazione.to_csv(r'/Users/matteo/Desktop/DATA SCIENCE/Data Management/Progettto/datasetcompletointegrato.csv')"
      ],
      "execution_count": null,
      "outputs": []
    },
    {
      "cell_type": "markdown",
      "metadata": {
        "id": "m6qHWB_H53D1"
      },
      "source": [
        "# EXPLORATION DATASET COMPLESSIVO #"
      ]
    },
    {
      "cell_type": "code",
      "metadata": {
        "id": "ynzi_OaA53D1",
        "outputId": "ddcf693f-14bf-4d48-ce28-ba671433db1d"
      },
      "source": [
        "#Vado a fare un'analisi dei tweets per le date presenti nei tweets:\n",
        "conteggioorario_complessivo = dataset_tweets_complessivo.groupby('Date_time_italy').size().reset_index(name='count')\n",
        "conteggioorario_complessivo = pd.DataFrame(conteggioorario_complessivo)\n",
        "conteggioorario_complessivo_ordinato_count = conteggioorario_complessivo.sort_values('count', ascending=False)\n",
        "conteggioorario_complessivo_ordinato_ora = conteggioorario_complessivo.sort_values('Date_time_italy', ascending=True)\n",
        "conteggioorario_complessivo_ordinato_count"
      ],
      "execution_count": null,
      "outputs": [
        {
          "output_type": "execute_result",
          "data": {
            "text/html": [
              "<div>\n",
              "<style scoped>\n",
              "    .dataframe tbody tr th:only-of-type {\n",
              "        vertical-align: middle;\n",
              "    }\n",
              "\n",
              "    .dataframe tbody tr th {\n",
              "        vertical-align: top;\n",
              "    }\n",
              "\n",
              "    .dataframe thead th {\n",
              "        text-align: right;\n",
              "    }\n",
              "</style>\n",
              "<table border=\"1\" class=\"dataframe\">\n",
              "  <thead>\n",
              "    <tr style=\"text-align: right;\">\n",
              "      <th></th>\n",
              "      <th>Date_time_italy</th>\n",
              "      <th>count</th>\n",
              "    </tr>\n",
              "  </thead>\n",
              "  <tbody>\n",
              "    <tr>\n",
              "      <th>82640</th>\n",
              "      <td>2020-11-29 05:56:46</td>\n",
              "      <td>81</td>\n",
              "    </tr>\n",
              "    <tr>\n",
              "      <th>83943</th>\n",
              "      <td>2020-11-29 06:18:29</td>\n",
              "      <td>75</td>\n",
              "    </tr>\n",
              "    <tr>\n",
              "      <th>84430</th>\n",
              "      <td>2020-11-29 06:26:36</td>\n",
              "      <td>74</td>\n",
              "    </tr>\n",
              "    <tr>\n",
              "      <th>83572</th>\n",
              "      <td>2020-11-29 06:12:18</td>\n",
              "      <td>73</td>\n",
              "    </tr>\n",
              "    <tr>\n",
              "      <th>84715</th>\n",
              "      <td>2020-11-29 06:31:21</td>\n",
              "      <td>72</td>\n",
              "    </tr>\n",
              "    <tr>\n",
              "      <th>...</th>\n",
              "      <td>...</td>\n",
              "      <td>...</td>\n",
              "    </tr>\n",
              "    <tr>\n",
              "      <th>24792</th>\n",
              "      <td>2020-11-28 09:43:45</td>\n",
              "      <td>1</td>\n",
              "    </tr>\n",
              "    <tr>\n",
              "      <th>108771</th>\n",
              "      <td>2020-11-29 17:09:06</td>\n",
              "      <td>1</td>\n",
              "    </tr>\n",
              "    <tr>\n",
              "      <th>24793</th>\n",
              "      <td>2020-11-28 09:43:46</td>\n",
              "      <td>1</td>\n",
              "    </tr>\n",
              "    <tr>\n",
              "      <th>24794</th>\n",
              "      <td>2020-11-28 09:43:47</td>\n",
              "      <td>1</td>\n",
              "    </tr>\n",
              "    <tr>\n",
              "      <th>25020</th>\n",
              "      <td>2020-11-28 09:51:47</td>\n",
              "      <td>1</td>\n",
              "    </tr>\n",
              "  </tbody>\n",
              "</table>\n",
              "<p>133643 rows × 2 columns</p>\n",
              "</div>"
            ],
            "text/plain": [
              "           Date_time_italy  count\n",
              "82640  2020-11-29 05:56:46     81\n",
              "83943  2020-11-29 06:18:29     75\n",
              "84430  2020-11-29 06:26:36     74\n",
              "83572  2020-11-29 06:12:18     73\n",
              "84715  2020-11-29 06:31:21     72\n",
              "...                    ...    ...\n",
              "24792  2020-11-28 09:43:45      1\n",
              "108771 2020-11-29 17:09:06      1\n",
              "24793  2020-11-28 09:43:46      1\n",
              "24794  2020-11-28 09:43:47      1\n",
              "25020  2020-11-28 09:51:47      1\n",
              "\n",
              "[133643 rows x 2 columns]"
            ]
          },
          "metadata": {
            "tags": []
          },
          "execution_count": 105
        }
      ]
    },
    {
      "cell_type": "code",
      "metadata": {
        "id": "ZeYlfQCy53D2"
      },
      "source": [
        "conteggioorario_complessivo_ordinato_count = conteggioorario_complessivo_ordinato_count.reset_index(drop = True)\n",
        "\n",
        "conteggioorario_complessivo = conteggioorario_complessivo.reset_index(drop = True)"
      ],
      "execution_count": null,
      "outputs": []
    },
    {
      "cell_type": "code",
      "metadata": {
        "id": "r8RNPBt-53D2",
        "outputId": "fe06f7d3-d37e-4efe-cda3-2acf30a9a2b9"
      },
      "source": [
        "conteggioorario_complessivo.head()"
      ],
      "execution_count": null,
      "outputs": [
        {
          "output_type": "execute_result",
          "data": {
            "text/html": [
              "<div>\n",
              "<style scoped>\n",
              "    .dataframe tbody tr th:only-of-type {\n",
              "        vertical-align: middle;\n",
              "    }\n",
              "\n",
              "    .dataframe tbody tr th {\n",
              "        vertical-align: top;\n",
              "    }\n",
              "\n",
              "    .dataframe thead th {\n",
              "        text-align: right;\n",
              "    }\n",
              "</style>\n",
              "<table border=\"1\" class=\"dataframe\">\n",
              "  <thead>\n",
              "    <tr style=\"text-align: right;\">\n",
              "      <th></th>\n",
              "      <th>Date_time_italy</th>\n",
              "      <th>count</th>\n",
              "    </tr>\n",
              "  </thead>\n",
              "  <tbody>\n",
              "    <tr>\n",
              "      <th>0</th>\n",
              "      <td>2020-11-27 14:30:03</td>\n",
              "      <td>2</td>\n",
              "    </tr>\n",
              "    <tr>\n",
              "      <th>1</th>\n",
              "      <td>2020-11-27 14:30:07</td>\n",
              "      <td>2</td>\n",
              "    </tr>\n",
              "    <tr>\n",
              "      <th>2</th>\n",
              "      <td>2020-11-27 14:30:12</td>\n",
              "      <td>1</td>\n",
              "    </tr>\n",
              "    <tr>\n",
              "      <th>3</th>\n",
              "      <td>2020-11-27 14:30:18</td>\n",
              "      <td>1</td>\n",
              "    </tr>\n",
              "    <tr>\n",
              "      <th>4</th>\n",
              "      <td>2020-11-27 14:30:19</td>\n",
              "      <td>1</td>\n",
              "    </tr>\n",
              "  </tbody>\n",
              "</table>\n",
              "</div>"
            ],
            "text/plain": [
              "      Date_time_italy  count\n",
              "0 2020-11-27 14:30:03      2\n",
              "1 2020-11-27 14:30:07      2\n",
              "2 2020-11-27 14:30:12      1\n",
              "3 2020-11-27 14:30:18      1\n",
              "4 2020-11-27 14:30:19      1"
            ]
          },
          "metadata": {
            "tags": []
          },
          "execution_count": 107
        }
      ]
    },
    {
      "cell_type": "code",
      "metadata": {
        "id": "7gRrKCFT53D2"
      },
      "source": [
        "range_datetime_interesse = (conteggioorario_complessivo['Date_time_italy'] > '2020-11-28 15:00:00') & (conteggioorario_complessivo['Date_time_italy'] <= '2020-11-29 13:00:00')\n",
        "conteggioorario_interesse = conteggioorario_complessivo.loc[range_datetime_interesse]"
      ],
      "execution_count": null,
      "outputs": []
    },
    {
      "cell_type": "code",
      "metadata": {
        "id": "1cJkcTeA53D3"
      },
      "source": [
        "conteggioorario_interesse.to_csv(r'/Users/matteo/Desktop/DATA SCIENCE/Data Management/Progettto/ESPERIMENTITABLEAU/conteggioorario_interesse.csv')\n",
        "conteggioorario_complessivo.to_csv(r'/Users/matteo/Desktop/DATA SCIENCE/Data Management/Progettto/ESPERIMENTITABLEAU/conteggioorario_complessivo.csv')"
      ],
      "execution_count": null,
      "outputs": []
    },
    {
      "cell_type": "markdown",
      "metadata": {
        "id": "CcBktShc53D3"
      },
      "source": [
        "# SENTIMENT TWEETS PRE INCONTRO #"
      ]
    },
    {
      "cell_type": "code",
      "metadata": {
        "id": "NsdOgqcL53D3"
      },
      "source": [
        "from wordcloud import WordCloud, STOPWORDS, ImageColorGenerator\n",
        "from pylab import rcParams\n"
      ],
      "execution_count": null,
      "outputs": []
    },
    {
      "cell_type": "code",
      "metadata": {
        "id": "CqxP4LqV53D3"
      },
      "source": [
        "from afinn import Afinn\n",
        "afinn = Afinn(language='en')\n"
      ],
      "execution_count": null,
      "outputs": []
    },
    {
      "cell_type": "code",
      "metadata": {
        "id": "HjBpAC9h53D4"
      },
      "source": [
        "def rescale3(values, new_min = 8, new_max = 10):\n",
        "    output = []\n",
        "    old_min, old_max = -17, 12\n",
        "\n",
        "    for v in values:\n",
        "        new_v = (new_max - new_min) / (old_max - old_min) * (v - old_min) + new_min\n",
        "        output.append(new_v)\n",
        "\n",
        "    return output\n",
        "\n",
        "def rescale1(values, new_min = 8, new_max = 10):\n",
        "    output = []\n",
        "    old_min, old_max = -12, 11\n",
        "\n",
        "    for v in values:\n",
        "        new_v = (new_max - new_min) / (old_max - old_min) * (v - old_min) + new_min\n",
        "        output.append(new_v)\n",
        "\n",
        "    return output\n",
        "\n",
        "def rescale2(values, new_min = 8, new_max = 10):\n",
        "    output = []\n",
        "    old_min, old_max = -14, 10\n",
        "\n",
        "    for v in values:\n",
        "        new_v = (new_max - new_min) / (old_max - old_min) * (v - old_min) + new_min\n",
        "        output.append(new_v)\n",
        "\n",
        "    return output\n",
        "\n",
        "def rescale33(values, new_min = 8, new_max = 10):\n",
        "    output = []\n",
        "    old_min, old_max = -12, 10\n",
        "\n",
        "    for v in values:\n",
        "        new_v = (new_max - new_min) / (old_max - old_min) * (v - old_min) + new_min\n",
        "        output.append(new_v)\n",
        "\n",
        "    return output\n",
        "\n",
        "def rescale5(values, new_min = 8, new_max = 10):\n",
        "    output = []\n",
        "    old_min, old_max = -17, 8\n",
        "\n",
        "    for v in values:\n",
        "        new_v = (new_max - new_min) / (old_max - old_min) * (v - old_min) + new_min\n",
        "        output.append(new_v)\n",
        "\n",
        "    return output\n",
        "\n",
        "def rescale6(values, new_min = 8, new_max = 10):\n",
        "    output = []\n",
        "    old_min, old_max = -10, 10\n",
        "\n",
        "    for v in values:\n",
        "        new_v = (new_max - new_min) / (old_max - old_min) * (v - old_min) + new_min\n",
        "        output.append(new_v)\n",
        "\n",
        "    return output\n",
        "\n",
        "def rescale7(values, new_min = 8, new_max = 10):\n",
        "    output = []\n",
        "    old_min, old_max = -12, 12\n",
        "\n",
        "    for v in values:\n",
        "        new_v = (new_max - new_min) / (old_max - old_min) * (v - old_min) + new_min\n",
        "        output.append(new_v)\n",
        "\n",
        "    return output    \n",
        "  \n",
        "def rescale8(values, new_min = 8, new_max = 10):\n",
        "    output = []\n",
        "    old_min, old_max = -14, 12\n",
        "\n",
        "    for v in values:\n",
        "        new_v = (new_max - new_min) / (old_max - old_min) * (v - old_min) + new_min\n",
        "        output.append(new_v)\n",
        "\n",
        "    return output    \n",
        "\n",
        "def rescaleafter(values, new_min = 8, new_max = 10):\n",
        "    output = []\n",
        "    old_min, old_max = -24, 20\n",
        "\n",
        "    for v in values:\n",
        "        new_v = (new_max - new_min) / (old_max - old_min) * (v - old_min) + new_min\n",
        "        output.append(new_v)\n",
        "\n",
        "    return output     \n",
        "  \n",
        "def rescalepre(values, new_min = 8, new_max = 10):\n",
        "    output = []\n",
        "    old_min, old_max = -30, 21\n",
        "\n",
        "    for v in values:\n",
        "        new_v = (new_max - new_min) / (old_max - old_min) * (v - old_min) + new_min\n",
        "        output.append(new_v)\n",
        "\n",
        "    return output  "
      ],
      "execution_count": null,
      "outputs": []
    },
    {
      "cell_type": "code",
      "metadata": {
        "id": "pTde-B_Y53D4"
      },
      "source": [
        "tweets_preincontro_tyson['Text_clean_1']=tweets_preincontro_tyson['Text_clean_1'].apply(str)\n",
        "tweets_preincontro_jones['Text_clean_1']=tweets_preincontro_jones['Text_clean_1'].apply(str)\n",
        "tweets_preincontro_tyson['afinn'] = tweets_preincontro_tyson['Text_clean_1'].apply(afinn.score)\n",
        "tweets_preincontro_jones['afinn'] = tweets_preincontro_jones['Text_clean_1'].apply(afinn.score)\n"
      ],
      "execution_count": null,
      "outputs": []
    },
    {
      "cell_type": "code",
      "metadata": {
        "id": "TEJaZGVR53D4",
        "outputId": "c3aa1c31-59e2-43ba-f1ca-7b4ed83ac4da"
      },
      "source": [
        "print(\"Describe di Afinn di Tyson PRE-INCONTRO:\")\n",
        "print(tweets_preincontro_tyson['afinn'].describe())\n",
        "print(\"\\\\\\\\\\\\\\\\\\\\\\\\\\\\\")\n",
        "print(\"Describe di Afinn di Jones PRE-INCONTRO:\")\n",
        "print(tweets_preincontro_jones['afinn'].describe())\n"
      ],
      "execution_count": null,
      "outputs": [
        {
          "output_type": "stream",
          "text": [
            "Describe di Afinn di Tyson PRE-INCONTRO:\n",
            "count    102452.000000\n",
            "mean          0.163413\n",
            "std           2.750718\n",
            "min         -30.000000\n",
            "25%          -1.000000\n",
            "50%           0.000000\n",
            "75%           1.000000\n",
            "max          21.000000\n",
            "Name: afinn, dtype: float64\n",
            "\\\\\\\\\\\\\\\n",
            "Describe di Afinn di Jones PRE-INCONTRO:\n",
            "count    46716.000000\n",
            "mean         0.488484\n",
            "std          2.314688\n",
            "min        -20.000000\n",
            "25%          0.000000\n",
            "50%          0.000000\n",
            "75%          2.000000\n",
            "max         17.000000\n",
            "Name: afinn, dtype: float64\n"
          ],
          "name": "stdout"
        }
      ]
    },
    {
      "cell_type": "code",
      "metadata": {
        "id": "WcKoSu5_53D4",
        "outputId": "ed36ecb8-ab06-4c13-c889-edc838df20e2"
      },
      "source": [
        "tweets_preincontro_tyson['Afinnscore'] = rescalepre(tweets_preincontro_tyson['afinn'])\n",
        "tweets_preincontro_jones['Afinnscore'] = rescalepre(tweets_preincontro_jones['afinn']) \n",
        "print('Describe afinn pre incontro Tyson')\n",
        "print(tweets_preincontro_tyson['Afinnscore'].describe())\n",
        "print('Describe afinn pre incontro Jones')\n",
        "print(tweets_preincontro_jones['Afinnscore'].describe())\n"
      ],
      "execution_count": null,
      "outputs": [
        {
          "output_type": "stream",
          "text": [
            "Describe afinn pre incontro Tyson\n",
            "count    102452.000000\n",
            "mean          9.182879\n",
            "std           0.107871\n",
            "min           8.000000\n",
            "25%           9.137255\n",
            "50%           9.176471\n",
            "75%           9.215686\n",
            "max          10.000000\n",
            "Name: Afinnscore, dtype: float64\n",
            "Describe afinn pre incontro Jones\n",
            "count    46716.000000\n",
            "mean         9.195627\n",
            "std          0.090772\n",
            "min          8.392157\n",
            "25%          9.176471\n",
            "50%          9.176471\n",
            "75%          9.254902\n",
            "max          9.843137\n",
            "Name: Afinnscore, dtype: float64\n"
          ],
          "name": "stdout"
        }
      ]
    },
    {
      "cell_type": "code",
      "metadata": {
        "id": "71jVtHT_53D5"
      },
      "source": [
        "tweets_preincontro_tyson_test1 = (tweets_preincontro_tyson.groupby([pd.Grouper(key='Date_time_italy', freq='10min')]).agg({'Afinnscore':'mean', 'afinn':'mean'}))\n",
        "tweets_preincontro_jones_test1 = (tweets_preincontro_jones.groupby([pd.Grouper(key='Date_time_italy', freq='10min')]).agg({'Afinnscore':'mean', 'afinn':'mean'}))\n",
        "tweets_preincontro_tyson_test2 = (tweets_preincontro_tyson.groupby([pd.Grouper(key='Date_time_italy', freq='10min')]).agg({'Afinnscore':'std', 'afinn':'std'}))\n",
        "tweets_preincontro_jones_test2 = (tweets_preincontro_jones.groupby([pd.Grouper(key='Date_time_italy', freq='10min')]).agg({'Afinnscore':'std', 'afinn':'std'}))"
      ],
      "execution_count": null,
      "outputs": []
    },
    {
      "cell_type": "code",
      "metadata": {
        "id": "_gKoUF9P53D5"
      },
      "source": [
        "tweets_preincontro_tyson_test1 = tweets_preincontro_tyson_test1.reset_index()\n",
        "tweets_preincontro_jones_test1 = tweets_preincontro_jones_test1.reset_index()\n",
        "tweets_preincontro_tyson_test2 = tweets_preincontro_tyson_test2.reset_index()\n",
        "tweets_preincontro_jones_test2 = tweets_preincontro_jones_test2.reset_index()"
      ],
      "execution_count": null,
      "outputs": []
    },
    {
      "cell_type": "code",
      "metadata": {
        "id": "SgyDcWMS53D5"
      },
      "source": [
        "tweets_preincontro_tyson_test1 = tweets_preincontro_tyson_test1.rename(columns={\"Afinnscore\": \"Afinnscore_mean_tyson\", \"afinn\": \"afinn_mean_tyson\"})\n",
        "tweets_preincontro_jones_test1 = tweets_preincontro_jones_test1.rename(columns={\"Afinnscore\": \"Afinnscore_mean_jones\", \"afinn\": \"afinn_mean_jones\"})\n",
        "tweets_preincontro_tyson_test2 = tweets_preincontro_tyson_test2.rename(columns={\"Afinnscore\": \"Afinnscore_std_tyson\", \"afinn\": \"afinn_std_tyson\"})\n",
        "tweets_preincontro_jones_test2 = tweets_preincontro_jones_test2.rename(columns={\"Afinnscore\": \"Afinnscore_std_jones\", \"afinn\": \"afinn_std_jones\"})"
      ],
      "execution_count": null,
      "outputs": []
    },
    {
      "cell_type": "code",
      "metadata": {
        "id": "xJbO3ERK53D6"
      },
      "source": [
        "tweets_preincontro_andamentisentiment = pd.merge(tweets_preincontro_tyson_test1, tweets_preincontro_jones_test1, how='left')\n",
        "tweets_preincontro_andamentisentiment = pd.merge(tweets_preincontro_andamentisentiment, tweets_preincontro_tyson_test2, how='left')\n",
        "tweets_preincontro_andamentisentiment = pd.merge(tweets_preincontro_andamentisentiment, tweets_preincontro_jones_test2, how='left')"
      ],
      "execution_count": null,
      "outputs": []
    },
    {
      "cell_type": "code",
      "metadata": {
        "id": "lSMfqyxn53D6"
      },
      "source": [
        "tweets_preincontro_andamentisentiment['Afinnscore_mean_tyson'] = tweets_preincontro_andamentisentiment['Afinnscore_mean_tyson'].astype(str)\n",
        "tweets_preincontro_andamentisentiment['Afinnscore_mean_jones'] = tweets_preincontro_andamentisentiment['Afinnscore_mean_jones'].astype(str)\n",
        "tweets_preincontro_andamentisentiment['afinn_mean_tyson'] = tweets_preincontro_andamentisentiment['afinn_mean_tyson'].astype(str)\n",
        "tweets_preincontro_andamentisentiment['afinn_mean_jones'] = tweets_preincontro_andamentisentiment['afinn_mean_jones'].astype(str)\n",
        "tweets_preincontro_andamentisentiment['Afinnscore_std_tyson'] = tweets_preincontro_andamentisentiment['Afinnscore_std_tyson'].astype(str)\n",
        "tweets_preincontro_andamentisentiment['Afinnscore_std_jones'] = tweets_preincontro_andamentisentiment['Afinnscore_std_jones'].astype(str)\n",
        "tweets_preincontro_andamentisentiment['afinn_std_tyson'] = tweets_preincontro_andamentisentiment['afinn_std_tyson'].astype(str)\n",
        "tweets_preincontro_andamentisentiment['afinn_std_jones'] = tweets_preincontro_andamentisentiment['afinn_std_jones'].astype(str)"
      ],
      "execution_count": null,
      "outputs": []
    },
    {
      "cell_type": "code",
      "metadata": {
        "id": "iw6egoQY53D8"
      },
      "source": [
        "tweets_preincontro_andamentisentiment['Afinnscore_mean_tyson'] = tweets_preincontro_andamentisentiment['Afinnscore_mean_tyson'].apply(lambda x: x.replace('.', ','))\n",
        "tweets_preincontro_andamentisentiment['Afinnscore_mean_jones'] = tweets_preincontro_andamentisentiment['Afinnscore_mean_jones'].apply(lambda x: x.replace('.', ','))\n",
        "tweets_preincontro_andamentisentiment['afinn_mean_tyson'] = tweets_preincontro_andamentisentiment['afinn_mean_tyson'].apply(lambda x: x.replace('.', ','))\n",
        "tweets_preincontro_andamentisentiment['afinn_mean_jones'] = tweets_preincontro_andamentisentiment['afinn_mean_jones'].apply(lambda x: x.replace('.', ','))\n",
        "tweets_preincontro_andamentisentiment['Afinnscore_std_tyson'] = tweets_preincontro_andamentisentiment['Afinnscore_std_tyson'].apply(lambda x: x.replace('.', ','))\n",
        "tweets_preincontro_andamentisentiment['Afinnscore_std_jones'] = tweets_preincontro_andamentisentiment['Afinnscore_std_jones'].apply(lambda x: x.replace('.', ','))\n",
        "tweets_preincontro_andamentisentiment['afinn_std_tyson'] = tweets_preincontro_andamentisentiment['afinn_std_tyson'].apply(lambda x: x.replace('.', ','))\n",
        "tweets_preincontro_andamentisentiment['afinn_std_jones'] = tweets_preincontro_andamentisentiment['afinn_std_jones'].apply(lambda x: x.replace('.', ','))"
      ],
      "execution_count": null,
      "outputs": []
    },
    {
      "cell_type": "code",
      "metadata": {
        "id": "lKHlMGJL53D8"
      },
      "source": [
        "tweets_preincontro_andamentisentiment.to_csv(r'/Users/matteo/Desktop/DATA SCIENCE/Data Management/Progettto/ESPERIMENTITABLEAU/tweets_preincontro_andamentisentiment.csv')"
      ],
      "execution_count": null,
      "outputs": []
    },
    {
      "cell_type": "markdown",
      "metadata": {
        "id": "VopRd99B53D9"
      },
      "source": [
        "# SEMTIMENT INCONTRO #"
      ]
    },
    {
      "cell_type": "markdown",
      "metadata": {
        "id": "3HjyLimh53D9"
      },
      "source": [
        "### SENTIMENT ROUND 1 ###"
      ]
    },
    {
      "cell_type": "code",
      "metadata": {
        "id": "uzVerkWx53D9",
        "outputId": "b61967f8-dd7d-4f16-9b4f-789453f36ce7"
      },
      "source": [
        "tweets_1round_tyson = datasetcompleto_incontro_tyson[datasetcompleto_incontro_tyson[\"ROUND\"] == 1]\n",
        "tweets_1round_tyson = tweets_1round_tyson.reset_index(drop = True)\n",
        "print(\"Tweets presenti per il round 1 riferiti a Tyson:\", len(tweets_1round_tyson))\n",
        "tweets_1round_jones = datasetcompleto_incontro_jones[datasetcompleto_incontro_jones[\"ROUND\"] == 1]\n",
        "tweets_1round_jones = tweets_1round_jones.reset_index(drop = True)\n",
        "print(\"Tweets presenti per il round 1 riferiti a Tyson:\", len(tweets_1round_jones))\n"
      ],
      "execution_count": null,
      "outputs": [
        {
          "output_type": "stream",
          "text": [
            "Tweets presenti per il round 1 riferiti a Tyson: 2383\n",
            "Tweets presenti per il round 1 riferiti a Tyson: 692\n"
          ],
          "name": "stdout"
        }
      ]
    },
    {
      "cell_type": "code",
      "metadata": {
        "id": "H3CdDkQ453D9"
      },
      "source": [
        "#[AFINN ROUND 1]\n",
        "tweets_1round_tyson['Text_clean_1']=tweets_1round_tyson['Text_clean_1'].apply(str)\n",
        "tweets_1round_jones['Text_clean_1']=tweets_1round_jones['Text_clean_1'].apply(str)\n",
        "tweets_1round_jones['afinn'] = tweets_1round_jones['Text_clean_1'].apply(afinn.score)\n",
        "tweets_1round_tyson['afinn'] = tweets_1round_tyson['Text_clean_1'].apply(afinn.score)\n"
      ],
      "execution_count": null,
      "outputs": []
    },
    {
      "cell_type": "code",
      "metadata": {
        "id": "6sQuqEV753D9",
        "outputId": "8a8896ad-ecbf-4f90-bcec-074e86ce7556"
      },
      "source": [
        "print(\"Describe di Afinn di Tyson del ROUND 1:\")\n",
        "print(tweets_1round_tyson['afinn'].describe())\n",
        "print(\"\\\\\\\\\\\\\\\\\\\\\\\\\\\\\")\n",
        "print(\"Describe di Afinn di Jones del ROUND 1:\")\n",
        "print(tweets_1round_jones['afinn'].describe())"
      ],
      "execution_count": null,
      "outputs": [
        {
          "output_type": "stream",
          "text": [
            "Describe di Afinn di Tyson del ROUND 1:\n",
            "count    2383.000000\n",
            "mean        0.010491\n",
            "std         2.264865\n",
            "min       -10.000000\n",
            "25%        -1.000000\n",
            "50%         0.000000\n",
            "75%         0.000000\n",
            "max        16.000000\n",
            "Name: afinn, dtype: float64\n",
            "\\\\\\\\\\\\\\\n",
            "Describe di Afinn di Jones del ROUND 1:\n",
            "count    692.000000\n",
            "mean       0.364162\n",
            "std        2.362953\n",
            "min      -10.000000\n",
            "25%        0.000000\n",
            "50%        0.000000\n",
            "75%        1.000000\n",
            "max        8.000000\n",
            "Name: afinn, dtype: float64\n"
          ],
          "name": "stdout"
        }
      ]
    },
    {
      "cell_type": "code",
      "metadata": {
        "id": "F3hXCj6G53D9",
        "outputId": "5ba7c180-b6da-42f9-af72-4eb3978b5a2d"
      },
      "source": [
        "#AFINN RESCALE 1\n",
        "tweets_1round_jones['Afinnscore'] = rescale1(tweets_1round_jones['afinn'])\n",
        "tweets_1round_tyson['Afinnscore'] = rescale1(tweets_1round_tyson['afinn'])\n",
        "print('votazione 1 round Tyson ')\n",
        "print(tweets_1round_tyson['Afinnscore'].describe())\n",
        "print('votazione 1 round Jones')\n",
        "print(tweets_1round_jones['Afinnscore'].describe())"
      ],
      "execution_count": null,
      "outputs": [
        {
          "output_type": "stream",
          "text": [
            "votazione 1 round Tyson \n",
            "count    2383.000000\n",
            "mean        9.044391\n",
            "std         0.196945\n",
            "min         8.173913\n",
            "25%         8.956522\n",
            "50%         9.043478\n",
            "75%         9.043478\n",
            "max        10.434783\n",
            "Name: Afinnscore, dtype: float64\n",
            "votazione 1 round Jones\n",
            "count    692.000000\n",
            "mean       9.075145\n",
            "std        0.205474\n",
            "min        8.173913\n",
            "25%        9.043478\n",
            "50%        9.043478\n",
            "75%        9.130435\n",
            "max        9.739130\n",
            "Name: Afinnscore, dtype: float64\n"
          ],
          "name": "stdout"
        }
      ]
    },
    {
      "cell_type": "code",
      "metadata": {
        "id": "h2nMe44_53D-"
      },
      "source": [
        "#[MEDIA e STD AFINN SIA NORMALE CHE AGGIUSTATA]\n",
        "mean_afinn_round1_tyson = tweets_1round_tyson['afinn'].mean()\n",
        "mean_afinn_round1_jones = tweets_1round_jones['afinn'].mean()\n",
        "mean_afinnscore_round1_tyson = tweets_1round_tyson['Afinnscore'].mean()\n",
        "mean_afinnscore_round1_jones = tweets_1round_jones['Afinnscore'].mean()\n",
        "std_afinn_round1_tyson = tweets_1round_tyson['afinn'].std()\n",
        "std_afinn_round1_jones = tweets_1round_jones['afinn'].std()\n",
        "std_afinnscore_round1_tyson = tweets_1round_tyson['Afinnscore'].std()\n",
        "std_afinnscore_round1_jones = tweets_1round_jones['Afinnscore'].std()\n"
      ],
      "execution_count": null,
      "outputs": []
    },
    {
      "cell_type": "markdown",
      "metadata": {
        "id": "OOFugxBb53D-"
      },
      "source": [
        "### SENTIMENT ROUND 2 ###"
      ]
    },
    {
      "cell_type": "code",
      "metadata": {
        "id": "3JhnyP5_53D-",
        "outputId": "65651b2c-0cd8-4ced-9c03-47e674279fb0"
      },
      "source": [
        "tweets_2round_tyson = datasetcompleto_incontro_tyson[datasetcompleto_incontro_tyson[\"ROUND\"] == 2]\n",
        "tweets_2round_tyson = tweets_2round_tyson.reset_index(drop = True)\n",
        "print(\"Tweets presenti per il round 2 riferiti a Tyson:\", len(tweets_2round_tyson))\n",
        "tweets_2round_jones = datasetcompleto_incontro_jones[datasetcompleto_incontro_jones[\"ROUND\"] == 2]\n",
        "tweets_2round_jones = tweets_2round_jones.reset_index(drop = True)\n",
        "print(\"Tweets presenti per il round 2 riferiti a Tyson:\", len(tweets_2round_jones))"
      ],
      "execution_count": null,
      "outputs": [
        {
          "output_type": "stream",
          "text": [
            "Tweets presenti per il round 2 riferiti a Tyson: 3295\n",
            "Tweets presenti per il round 2 riferiti a Tyson: 701\n"
          ],
          "name": "stdout"
        }
      ]
    },
    {
      "cell_type": "code",
      "metadata": {
        "id": "areI-ZZw53D-"
      },
      "source": [
        "#[AFINN SENTIMENT ROUND 2]\n",
        "tweets_2round_tyson['Text_clean_1']=tweets_2round_tyson['Text_clean_1'].apply(str)\n",
        "tweets_2round_jones['Text_clean_1']=tweets_2round_jones['Text_clean_1'].apply(str)\n",
        "tweets_2round_jones['afinn'] = tweets_2round_jones['Text_clean_1'].apply(afinn.score)\n",
        "tweets_2round_tyson['afinn'] = tweets_2round_tyson['Text_clean_1'].apply(afinn.score)\n"
      ],
      "execution_count": null,
      "outputs": []
    },
    {
      "cell_type": "code",
      "metadata": {
        "id": "jE-D9oQE53D_",
        "outputId": "198fa517-666e-4dfe-d55f-227624b01a66"
      },
      "source": [
        "print(\"Describe di Afinn di Tyson del ROUND 2:\")\n",
        "print(tweets_2round_tyson['afinn'].describe())\n",
        "print(\"\\\\\\\\\\\\\\\\\\\\\\\\\\\\\")\n",
        "print(\"Describe di Afinn di Jones del ROUND 2:\")\n",
        "print(tweets_2round_jones['afinn'].describe())"
      ],
      "execution_count": null,
      "outputs": [
        {
          "output_type": "stream",
          "text": [
            "Describe di Afinn di Tyson del ROUND 2:\n",
            "count    3295.000000\n",
            "mean        0.060091\n",
            "std         2.287748\n",
            "min       -12.000000\n",
            "25%        -1.000000\n",
            "50%         0.000000\n",
            "75%         1.000000\n",
            "max        10.000000\n",
            "Name: afinn, dtype: float64\n",
            "\\\\\\\\\\\\\\\n",
            "Describe di Afinn di Jones del ROUND 2:\n",
            "count    701.000000\n",
            "mean      -0.049929\n",
            "std        2.634185\n",
            "min      -10.000000\n",
            "25%       -1.000000\n",
            "50%        0.000000\n",
            "75%        1.000000\n",
            "max       10.000000\n",
            "Name: afinn, dtype: float64\n"
          ],
          "name": "stdout"
        }
      ]
    },
    {
      "cell_type": "code",
      "metadata": {
        "id": "n7GVkym753EA",
        "outputId": "212b5c9b-3363-4885-cccb-58587b929f88"
      },
      "source": [
        "#AFINN RESCALE ROUND 2\n",
        "tweets_2round_jones['Afinnscore'] = rescale2(tweets_2round_jones['afinn'])\n",
        "tweets_2round_tyson['Afinnscore'] = rescale2(tweets_2round_tyson['afinn'])\n",
        "print('votazione 2 round tyson')\n",
        "print(tweets_2round_tyson['Afinnscore'].describe())\n",
        "print('votazione 2 round jones ')\n",
        "print(tweets_2round_jones['Afinnscore'].describe())\n"
      ],
      "execution_count": null,
      "outputs": [
        {
          "output_type": "stream",
          "text": [
            "votazione 2 round tyson\n",
            "count    3295.000000\n",
            "mean        9.171674\n",
            "std         0.190646\n",
            "min         8.166667\n",
            "25%         9.083333\n",
            "50%         9.166667\n",
            "75%         9.250000\n",
            "max        10.000000\n",
            "Name: Afinnscore, dtype: float64\n",
            "votazione 2 round jones \n",
            "count    701.000000\n",
            "mean       9.162506\n",
            "std        0.219515\n",
            "min        8.333333\n",
            "25%        9.083333\n",
            "50%        9.166667\n",
            "75%        9.250000\n",
            "max       10.000000\n",
            "Name: Afinnscore, dtype: float64\n"
          ],
          "name": "stdout"
        }
      ]
    },
    {
      "cell_type": "code",
      "metadata": {
        "id": "WkWf1VZe53EA"
      },
      "source": [
        "#[MEDIA e STD AFINN SIA NORMALE CHE RESCALE]\n",
        "mean_afinn_round2_tyson = tweets_2round_tyson['afinn'].mean()\n",
        "mean_afinn_round2_jones = tweets_2round_jones['afinn'].mean()\n",
        "mean_afinnscore_round2_tyson = tweets_2round_tyson['Afinnscore'].mean()\n",
        "mean_afinnscore_round2_jones = tweets_2round_jones['Afinnscore'].mean()\n",
        "std_afinn_round2_tyson = tweets_2round_tyson['afinn'].std()\n",
        "std_afinn_round2_jones = tweets_2round_jones['afinn'].std()\n",
        "std_afinnscore_round2_tyson = tweets_2round_tyson['Afinnscore'].std()\n",
        "std_afinnscore_round2_jones = tweets_2round_jones['Afinnscore'].std()\n"
      ],
      "execution_count": null,
      "outputs": []
    },
    {
      "cell_type": "markdown",
      "metadata": {
        "id": "JPUOXH-P53EA"
      },
      "source": [
        "### SENTIMENT ROUND 3 ###"
      ]
    },
    {
      "cell_type": "code",
      "metadata": {
        "id": "Gcs-noEQ53EA",
        "outputId": "3f8e7ae7-df02-4443-cadc-e9d65a35b9eb"
      },
      "source": [
        "tweets_3round_tyson = datasetcompleto_incontro_tyson[datasetcompleto_incontro_tyson[\"ROUND\"] == 3]\n",
        "tweets_3round_tyson = tweets_3round_tyson.reset_index(drop = True)\n",
        "print(\"Tweets presenti per il round 3 riferiti a Tyson:\", len(tweets_3round_tyson))\n",
        "tweets_3round_jones = datasetcompleto_incontro_jones[datasetcompleto_incontro_jones[\"ROUND\"] == 3]\n",
        "tweets_3round_jones = tweets_3round_jones.reset_index(drop = True)\n",
        "print(\"Tweets presenti per il round 3 riferiti a Tyson:\", len(tweets_3round_jones))\n"
      ],
      "execution_count": null,
      "outputs": [
        {
          "output_type": "stream",
          "text": [
            "Tweets presenti per il round 3 riferiti a Tyson: 3129\n",
            "Tweets presenti per il round 3 riferiti a Tyson: 790\n"
          ],
          "name": "stdout"
        }
      ]
    },
    {
      "cell_type": "code",
      "metadata": {
        "id": "9lNIUTta53EA"
      },
      "source": [
        "#AFINN SENTIMENT ROUND 3\n",
        "tweets_3round_tyson['Text_clean_1']=tweets_3round_tyson['Text_clean_1'].apply(str)\n",
        "tweets_3round_jones['Text_clean_1']=tweets_3round_jones['Text_clean_1'].apply(str)\n",
        "tweets_3round_jones['afinn'] = tweets_3round_jones['Text_clean_1'].apply(afinn.score)\n",
        "tweets_3round_tyson['afinn'] = tweets_3round_tyson['Text_clean_1'].apply(afinn.score)"
      ],
      "execution_count": null,
      "outputs": []
    },
    {
      "cell_type": "code",
      "metadata": {
        "id": "1JLVABD053EA",
        "outputId": "7af34ab8-a68d-4eb3-fe00-62483574f647"
      },
      "source": [
        "print(\"Describe di Afinn di Tyson del ROUND 3:\")\n",
        "print(tweets_3round_tyson['afinn'].describe())\n",
        "print(\"\\\\\\\\\\\\\\\\\\\\\\\\\\\\\")\n",
        "print(\"Describe di Afinn di Jones del ROUND 3:\")\n",
        "print(tweets_3round_jones['afinn'].describe())"
      ],
      "execution_count": null,
      "outputs": [
        {
          "output_type": "stream",
          "text": [
            "Describe di Afinn di Tyson del ROUND 3:\n",
            "count    3129.000000\n",
            "mean        0.014062\n",
            "std         2.469208\n",
            "min       -10.000000\n",
            "25%        -1.000000\n",
            "50%         0.000000\n",
            "75%         1.000000\n",
            "max        11.000000\n",
            "Name: afinn, dtype: float64\n",
            "\\\\\\\\\\\\\\\n",
            "Describe di Afinn di Jones del ROUND 3:\n",
            "count    790.000000\n",
            "mean       0.059494\n",
            "std        2.289061\n",
            "min      -14.000000\n",
            "25%        0.000000\n",
            "50%        0.000000\n",
            "75%        2.000000\n",
            "max        9.000000\n",
            "Name: afinn, dtype: float64\n"
          ],
          "name": "stdout"
        }
      ]
    },
    {
      "cell_type": "code",
      "metadata": {
        "id": "vzzBtoGY53EB",
        "outputId": "edffb92c-9835-409d-de9c-652b7808d59a"
      },
      "source": [
        "#AFINN SENTIMENT RESCALE ROUND 3\n",
        "tweets_3round_jones['Afinnscore'] = rescale33(tweets_3round_jones['afinn'])\n",
        "tweets_3round_tyson['Afinnscore'] = rescale33(tweets_3round_tyson['afinn'])\n",
        "print('votazione 3 round Tyson ')\n",
        "print(tweets_3round_tyson['Afinnscore'].describe())\n",
        "print('votazione 3 round Jones')\n",
        "print(tweets_3round_jones['Afinnscore'].describe())\n"
      ],
      "execution_count": null,
      "outputs": [
        {
          "output_type": "stream",
          "text": [
            "votazione 3 round Tyson \n",
            "count    3129.000000\n",
            "mean        9.092187\n",
            "std         0.224473\n",
            "min         8.181818\n",
            "25%         9.000000\n",
            "50%         9.090909\n",
            "75%         9.181818\n",
            "max        10.090909\n",
            "Name: Afinnscore, dtype: float64\n",
            "votazione 3 round Jones\n",
            "count    790.000000\n",
            "mean       9.096318\n",
            "std        0.208096\n",
            "min        7.818182\n",
            "25%        9.090909\n",
            "50%        9.090909\n",
            "75%        9.272727\n",
            "max        9.909091\n",
            "Name: Afinnscore, dtype: float64\n"
          ],
          "name": "stdout"
        }
      ]
    },
    {
      "cell_type": "code",
      "metadata": {
        "id": "_hB1-lfn53EB"
      },
      "source": [
        "#[MEDIA e STD AFINN SIA NORMALE CHE AGGIUSTATA]\n",
        "mean_afinn_round3_tyson = tweets_3round_tyson['afinn'].mean()\n",
        "mean_afinn_round3_jones = tweets_3round_jones['afinn'].mean()\n",
        "mean_afinnscore_round3_tyson = tweets_3round_tyson['Afinnscore'].mean()\n",
        "mean_afinnscore_round3_jones = tweets_3round_jones['Afinnscore'].mean()\n",
        "std_afinn_round3_tyson = tweets_3round_tyson['afinn'].std()\n",
        "std_afinn_round3_jones = tweets_3round_jones['afinn'].std()\n",
        "std_afinnscore_round3_tyson = tweets_3round_tyson['Afinnscore'].std()\n",
        "std_afinnscore_round3_jones = tweets_3round_jones['Afinnscore'].std()\n"
      ],
      "execution_count": null,
      "outputs": []
    },
    {
      "cell_type": "markdown",
      "metadata": {
        "id": "Fi-qS-YG53EB"
      },
      "source": [
        "### SENTIMENT ROUND 4 ###"
      ]
    },
    {
      "cell_type": "code",
      "metadata": {
        "id": "OY-k-K6N53EB",
        "outputId": "fe723984-e61c-4c77-b184-230962a62d4c"
      },
      "source": [
        "tweets_4round_tyson = datasetcompleto_incontro_tyson[datasetcompleto_incontro_tyson[\"ROUND\"] == 4]\n",
        "tweets_4round_tyson = tweets_4round_tyson.reset_index(drop = True)\n",
        "print(\"Tweets presenti per il round 4 riferiti a Tyson:\", len(tweets_4round_tyson))\n",
        "tweets_4round_jones = datasetcompleto_incontro_jones[datasetcompleto_incontro_jones[\"ROUND\"] == 4]\n",
        "tweets_4round_jones = tweets_4round_jones.reset_index(drop = True)\n",
        "print(\"Tweets presenti per il round 4 riferiti a Tyson:\", len(tweets_4round_jones))\n"
      ],
      "execution_count": null,
      "outputs": [
        {
          "output_type": "stream",
          "text": [
            "Tweets presenti per il round 4 riferiti a Tyson: 2570\n",
            "Tweets presenti per il round 4 riferiti a Tyson: 797\n"
          ],
          "name": "stdout"
        }
      ]
    },
    {
      "cell_type": "code",
      "metadata": {
        "id": "n2frHwd-53EB"
      },
      "source": [
        "#AFINN SENTIMENT ROUND 4\n",
        "tweets_4round_tyson['Text_clean_1']=tweets_4round_tyson['Text_clean_1'].apply(str)\n",
        "tweets_4round_jones['Text_clean_1']=tweets_4round_jones['Text_clean_1'].apply(str)\n",
        "tweets_4round_jones['afinn'] = tweets_4round_jones['Text_clean_1'].apply(afinn.score)\n",
        "tweets_4round_tyson['afinn'] = tweets_4round_tyson['Text_clean_1'].apply(afinn.score)\n"
      ],
      "execution_count": null,
      "outputs": []
    },
    {
      "cell_type": "code",
      "metadata": {
        "id": "MeE0lZC053EC",
        "outputId": "c5cc2260-5f48-4778-ad30-bdf93eb77dd4"
      },
      "source": [
        "print(\"Describe di Afinn di Tyson del ROUND 4:\")\n",
        "print(tweets_4round_tyson['afinn'].describe())\n",
        "print(\"\\\\\\\\\\\\\\\\\\\\\\\\\\\\\")\n",
        "print(\"Describe di Afinn di Jones del ROUND 4:\")\n",
        "print(tweets_4round_jones['afinn'].describe())\n"
      ],
      "execution_count": null,
      "outputs": [
        {
          "output_type": "stream",
          "text": [
            "Describe di Afinn di Tyson del ROUND 4:\n",
            "count    2570.000000\n",
            "mean        0.209728\n",
            "std         2.565753\n",
            "min        -9.000000\n",
            "25%        -1.000000\n",
            "50%         0.000000\n",
            "75%         2.000000\n",
            "max        10.000000\n",
            "Name: afinn, dtype: float64\n",
            "\\\\\\\\\\\\\\\n",
            "Describe di Afinn di Jones del ROUND 4:\n",
            "count    797.000000\n",
            "mean       0.010038\n",
            "std        2.393437\n",
            "min      -12.000000\n",
            "25%       -1.000000\n",
            "50%        0.000000\n",
            "75%        2.000000\n",
            "max        8.000000\n",
            "Name: afinn, dtype: float64\n"
          ],
          "name": "stdout"
        }
      ]
    },
    {
      "cell_type": "code",
      "metadata": {
        "id": "RcCrhUyt53EC",
        "outputId": "6a66c61c-1784-476b-9ea2-a62025f7b3a1"
      },
      "source": [
        "#AFINN SENTIMENT ROUND 4 RESCALE\n",
        "tweets_4round_jones['Afinnscore'] = rescale2(tweets_4round_jones['afinn'])\n",
        "tweets_4round_tyson['Afinnscore'] = rescale2(tweets_4round_tyson['afinn'])\n",
        "print('votazione 4 round Tyson ')\n",
        "print(tweets_4round_tyson['Afinnscore'].describe())\n",
        "print('votazione 4 round Jones')\n",
        "print(tweets_4round_jones['Afinnscore'].describe())\n"
      ],
      "execution_count": null,
      "outputs": [
        {
          "output_type": "stream",
          "text": [
            "votazione 4 round Tyson \n",
            "count    2570.000000\n",
            "mean        9.184144\n",
            "std         0.213813\n",
            "min         8.416667\n",
            "25%         9.083333\n",
            "50%         9.166667\n",
            "75%         9.333333\n",
            "max        10.000000\n",
            "Name: Afinnscore, dtype: float64\n",
            "votazione 4 round Jones\n",
            "count    797.000000\n",
            "mean       9.167503\n",
            "std        0.199453\n",
            "min        8.166667\n",
            "25%        9.083333\n",
            "50%        9.166667\n",
            "75%        9.333333\n",
            "max        9.833333\n",
            "Name: Afinnscore, dtype: float64\n"
          ],
          "name": "stdout"
        }
      ]
    },
    {
      "cell_type": "code",
      "metadata": {
        "id": "RvX9hhRk53EC"
      },
      "source": [
        "#[MEDIA e STD AFINN SIA NORMALE CHE AGGIUSTATA]\n",
        "mean_afinn_round4_tyson = tweets_4round_tyson['afinn'].mean()\n",
        "mean_afinn_round4_jones = tweets_4round_jones['afinn'].mean()\n",
        "mean_afinnscore_round4_tyson = tweets_4round_tyson['Afinnscore'].mean()\n",
        "mean_afinnscore_round4_jones = tweets_4round_jones['Afinnscore'].mean()\n",
        "std_afinn_round4_tyson = tweets_4round_tyson['afinn'].std()\n",
        "std_afinn_round4_jones = tweets_4round_jones['afinn'].std()\n",
        "std_afinnscore_round4_tyson = tweets_4round_tyson['Afinnscore'].std()\n",
        "std_afinnscore_round4_jones = tweets_4round_jones['Afinnscore'].std()\n"
      ],
      "execution_count": null,
      "outputs": []
    },
    {
      "cell_type": "markdown",
      "metadata": {
        "id": "u9YBpVEX53EC"
      },
      "source": [
        "### SENTIMENT ROUND 5 ###"
      ]
    },
    {
      "cell_type": "code",
      "metadata": {
        "id": "E4QotG2C53EC",
        "outputId": "206eb56a-00b8-4dcd-d376-0da3d826e869"
      },
      "source": [
        "tweets_5round_tyson = datasetcompleto_incontro_tyson[datasetcompleto_incontro_tyson[\"ROUND\"] == 5]\n",
        "tweets_5round_tyson = tweets_5round_tyson.reset_index(drop = True)\n",
        "print(\"Tweets presenti per il round 5 riferiti a Tyson:\", len(tweets_5round_tyson))\n",
        "tweets_5round_jones = datasetcompleto_incontro_jones[datasetcompleto_incontro_jones[\"ROUND\"] == 5]\n",
        "tweets_5round_jones = tweets_5round_jones.reset_index(drop = True)\n",
        "print(\"Tweets presenti per il round 5 riferiti a Tyson:\", len(tweets_5round_jones))"
      ],
      "execution_count": null,
      "outputs": [
        {
          "output_type": "stream",
          "text": [
            "Tweets presenti per il round 5 riferiti a Tyson: 2113\n",
            "Tweets presenti per il round 5 riferiti a Tyson: 904\n"
          ],
          "name": "stdout"
        }
      ]
    },
    {
      "cell_type": "code",
      "metadata": {
        "id": "h339PaOk53ED"
      },
      "source": [
        "#AFINN SENTIMENT ROUND 5\n",
        "tweets_5round_tyson['Text_clean_1']=tweets_5round_tyson['Text_clean_1'].apply(str)\n",
        "tweets_5round_jones['Text_clean_1']=tweets_5round_jones['Text_clean_1'].apply(str)\n",
        "tweets_5round_jones['afinn'] = tweets_5round_jones['Text_clean_1'].apply(afinn.score)\n",
        "tweets_5round_tyson['afinn'] = tweets_5round_tyson['Text_clean_1'].apply(afinn.score)"
      ],
      "execution_count": null,
      "outputs": []
    },
    {
      "cell_type": "code",
      "metadata": {
        "id": "uaklwUPh53ED",
        "outputId": "a5e9f5fa-eb38-427e-b783-4ad8461e0c42"
      },
      "source": [
        "print(\"Describe di Afinn di Tyson del ROUND 5:\")\n",
        "print(tweets_5round_tyson['afinn'].describe())\n",
        "print(\"\\\\\\\\\\\\\\\\\\\\\\\\\\\\\")\n",
        "print(\"Describe di Afinn di Jones del ROUND 5:\")\n",
        "print(tweets_5round_jones['afinn'].describe())"
      ],
      "execution_count": null,
      "outputs": [
        {
          "output_type": "stream",
          "text": [
            "Describe di Afinn di Tyson del ROUND 5:\n",
            "count    2113.000000\n",
            "mean       -0.033602\n",
            "std         2.591746\n",
            "min       -14.000000\n",
            "25%        -1.000000\n",
            "50%         0.000000\n",
            "75%         1.000000\n",
            "max        10.000000\n",
            "Name: afinn, dtype: float64\n",
            "\\\\\\\\\\\\\\\n",
            "Describe di Afinn di Jones del ROUND 5:\n",
            "count    904.000000\n",
            "mean      -0.101770\n",
            "std        2.157846\n",
            "min      -13.000000\n",
            "25%       -1.000000\n",
            "50%        0.000000\n",
            "75%        0.000000\n",
            "max        9.000000\n",
            "Name: afinn, dtype: float64\n"
          ],
          "name": "stdout"
        }
      ]
    },
    {
      "cell_type": "code",
      "metadata": {
        "id": "3BXqPIGz53ED",
        "outputId": "1f5c8bbc-9e8b-408e-9061-d055880a8258"
      },
      "source": [
        "#AFINN SENTIMENT ROUND 5 RESCALE\n",
        "tweets_5round_jones['Afinnscore'] = rescale5(tweets_5round_jones['afinn'])\n",
        "tweets_5round_tyson['Afinnscore'] = rescale5(tweets_5round_tyson['afinn'])\n",
        "print('votazione 5 round Tyson ')\n",
        "print(tweets_5round_tyson['Afinnscore'].describe())\n",
        "print('votazione 5 round Jones')\n",
        "print(tweets_5round_jones['Afinnscore'].describe())\n"
      ],
      "execution_count": null,
      "outputs": [
        {
          "output_type": "stream",
          "text": [
            "votazione 5 round Tyson \n",
            "count    2113.000000\n",
            "mean        9.357312\n",
            "std         0.207340\n",
            "min         8.240000\n",
            "25%         9.280000\n",
            "50%         9.360000\n",
            "75%         9.440000\n",
            "max        10.160000\n",
            "Name: Afinnscore, dtype: float64\n",
            "votazione 5 round Jones\n",
            "count    904.000000\n",
            "mean       9.351858\n",
            "std        0.172628\n",
            "min        8.320000\n",
            "25%        9.280000\n",
            "50%        9.360000\n",
            "75%        9.360000\n",
            "max       10.080000\n",
            "Name: Afinnscore, dtype: float64\n"
          ],
          "name": "stdout"
        }
      ]
    },
    {
      "cell_type": "code",
      "metadata": {
        "id": "nD37cNX753ED"
      },
      "source": [
        "#[MEDIA e STD AFINN SIA NORMALE CHE AGGIUSTATA]\n",
        "mean_afinn_round5_tyson = tweets_5round_tyson['afinn'].mean()\n",
        "mean_afinn_round5_jones = tweets_5round_jones['afinn'].mean()\n",
        "mean_afinnscore_round5_tyson = tweets_5round_tyson['Afinnscore'].mean()\n",
        "mean_afinnscore_round5_jones = tweets_5round_jones['Afinnscore'].mean()\n",
        "std_afinn_round5_tyson = tweets_5round_tyson['afinn'].std()\n",
        "std_afinn_round5_jones = tweets_5round_jones['afinn'].std()\n",
        "std_afinnscore_round5_tyson = tweets_5round_tyson['Afinnscore'].std()\n",
        "std_afinnscore_round5_jones = tweets_5round_jones['Afinnscore'].std()\n"
      ],
      "execution_count": null,
      "outputs": []
    },
    {
      "cell_type": "markdown",
      "metadata": {
        "id": "HorspSpi53ED"
      },
      "source": [
        "### SENTIMENT ROUND 6 ##"
      ]
    },
    {
      "cell_type": "code",
      "metadata": {
        "id": "3fgwjcjL53EE",
        "outputId": "24550714-5c07-420e-af9d-9e4fc9af980a"
      },
      "source": [
        "tweets_6round_tyson = datasetcompleto_incontro_tyson[datasetcompleto_incontro_tyson[\"ROUND\"] == 6]\n",
        "tweets_6round_tyson = tweets_6round_tyson.reset_index(drop = True)\n",
        "print(\"Tweets presenti per il round 6 riferiti a Tyson:\", len(tweets_6round_tyson))\n",
        "tweets_6round_jones = datasetcompleto_incontro_jones[datasetcompleto_incontro_jones[\"ROUND\"] == 6]\n",
        "tweets_6round_jones = tweets_6round_jones.reset_index(drop = True)\n",
        "print(\"Tweets presenti per il round 6 riferiti a Tyson:\", len(tweets_6round_jones))"
      ],
      "execution_count": null,
      "outputs": [
        {
          "output_type": "stream",
          "text": [
            "Tweets presenti per il round 6 riferiti a Tyson: 2773\n",
            "Tweets presenti per il round 6 riferiti a Tyson: 802\n"
          ],
          "name": "stdout"
        }
      ]
    },
    {
      "cell_type": "code",
      "metadata": {
        "id": "EF_W9UgJ53EE"
      },
      "source": [
        "#AFINN SENTIMENT ROUND 6\n",
        "tweets_6round_tyson['Text_clean_1']=tweets_6round_tyson['Text_clean_1'].apply(str)\n",
        "tweets_6round_jones['Text_clean_1']=tweets_6round_jones['Text_clean_1'].apply(str)\n",
        "tweets_6round_jones['afinn'] = tweets_6round_jones['Text_clean_1'].apply(afinn.score)\n",
        "tweets_6round_tyson['afinn'] = tweets_6round_tyson['Text_clean_1'].apply(afinn.score)"
      ],
      "execution_count": null,
      "outputs": []
    },
    {
      "cell_type": "code",
      "metadata": {
        "id": "mI7ttiuX53EE",
        "outputId": "d7446201-8f58-4a67-a665-eea77c5a831e"
      },
      "source": [
        "print(\"Describe di Afinn di Tyson del ROUND 6:\")\n",
        "print(tweets_6round_tyson['afinn'].describe())\n",
        "print(\"\\\\\\\\\\\\\\\\\\\\\\\\\\\\\")\n",
        "print(\"Describe di Afinn di Jones del ROUND 6:\")\n",
        "print(tweets_6round_jones['afinn'].describe())"
      ],
      "execution_count": null,
      "outputs": [
        {
          "output_type": "stream",
          "text": [
            "Describe di Afinn di Tyson del ROUND 6:\n",
            "count    2773.000000\n",
            "mean        0.176704\n",
            "std         2.438228\n",
            "min       -17.000000\n",
            "25%        -1.000000\n",
            "50%         0.000000\n",
            "75%         1.000000\n",
            "max         9.000000\n",
            "Name: afinn, dtype: float64\n",
            "\\\\\\\\\\\\\\\n",
            "Describe di Afinn di Jones del ROUND 6:\n",
            "count    802.000000\n",
            "mean      -0.218204\n",
            "std        2.152377\n",
            "min      -11.000000\n",
            "25%       -1.000000\n",
            "50%        0.000000\n",
            "75%        0.000000\n",
            "max        8.000000\n",
            "Name: afinn, dtype: float64\n"
          ],
          "name": "stdout"
        }
      ]
    },
    {
      "cell_type": "code",
      "metadata": {
        "id": "Vlq2poEH53EZ",
        "outputId": "906f80b6-7ca5-4038-c660-76a8ce7893a0"
      },
      "source": [
        "tweets_6round_jones['Afinnscore'] = rescale6(tweets_6round_jones['afinn'])\n",
        "tweets_6round_tyson['Afinnscore'] = rescale6(tweets_6round_tyson['afinn'])\n",
        "print('votazione 6 round Tyson ')\n",
        "print(tweets_6round_tyson['Afinnscore'].describe())\n",
        "print('votazione 6 round Jones')\n",
        "print(tweets_6round_jones['Afinnscore'].describe())\n"
      ],
      "execution_count": null,
      "outputs": [
        {
          "output_type": "stream",
          "text": [
            "votazione 6 round Tyson \n",
            "count    2773.000000\n",
            "mean        9.017670\n",
            "std         0.243823\n",
            "min         7.300000\n",
            "25%         8.900000\n",
            "50%         9.000000\n",
            "75%         9.100000\n",
            "max         9.900000\n",
            "Name: Afinnscore, dtype: float64\n",
            "votazione 6 round Jones\n",
            "count    802.000000\n",
            "mean       8.978180\n",
            "std        0.215238\n",
            "min        7.900000\n",
            "25%        8.900000\n",
            "50%        9.000000\n",
            "75%        9.000000\n",
            "max        9.800000\n",
            "Name: Afinnscore, dtype: float64\n"
          ],
          "name": "stdout"
        }
      ]
    },
    {
      "cell_type": "code",
      "metadata": {
        "id": "HGCKHMaC53Ea"
      },
      "source": [
        "#[MEDIA e STD AFINN SIA NORMALE CHE AGGIUSTATA]\n",
        "mean_afinn_round6_tyson = tweets_6round_tyson['afinn'].mean()\n",
        "mean_afinn_round6_jones = tweets_6round_jones['afinn'].mean()\n",
        "mean_afinnscore_round6_tyson = tweets_6round_tyson['Afinnscore'].mean()\n",
        "mean_afinnscore_round6_jones = tweets_6round_jones['Afinnscore'].mean()\n",
        "std_afinn_round6_tyson = tweets_6round_tyson['afinn'].std()\n",
        "std_afinn_round6_jones = tweets_6round_jones['afinn'].std()\n",
        "std_afinnscore_round6_tyson = tweets_6round_tyson['Afinnscore'].std()\n",
        "std_afinnscore_round6_jones = tweets_6round_jones['Afinnscore'].std()"
      ],
      "execution_count": null,
      "outputs": []
    },
    {
      "cell_type": "markdown",
      "metadata": {
        "id": "rsPEKJro53Ea"
      },
      "source": [
        "### SENTIMENT ROUND 7 ###"
      ]
    },
    {
      "cell_type": "code",
      "metadata": {
        "id": "CiUPKGNj53Eb",
        "outputId": "5a8a82ad-bc8a-4950-926a-e5032c4eea58"
      },
      "source": [
        "tweets_7round_tyson = datasetcompleto_incontro_tyson[datasetcompleto_incontro_tyson[\"ROUND\"] == 7]\n",
        "tweets_7round_tyson = tweets_7round_tyson.reset_index(drop = True)\n",
        "print(\"Tweets presenti per il round 7 riferiti a Tyson:\", len(tweets_7round_tyson))\n",
        "tweets_7round_jones = datasetcompleto_incontro_jones[datasetcompleto_incontro_jones[\"ROUND\"] == 7]\n",
        "tweets_7round_jones = tweets_7round_jones.reset_index(drop = True)\n",
        "print(\"Tweets presenti per il round 7 riferiti a Tyson:\", len(tweets_7round_jones))"
      ],
      "execution_count": null,
      "outputs": [
        {
          "output_type": "stream",
          "text": [
            "Tweets presenti per il round 7 riferiti a Tyson: 3474\n",
            "Tweets presenti per il round 7 riferiti a Tyson: 1097\n"
          ],
          "name": "stdout"
        }
      ]
    },
    {
      "cell_type": "code",
      "metadata": {
        "id": "VbONX4qf53Ed"
      },
      "source": [
        "#AFINN SENTIMENT ROUND 7\n",
        "tweets_7round_tyson['Text_clean_1']=tweets_7round_tyson['Text_clean_1'].apply(str)\n",
        "tweets_7round_jones['Text_clean_1']=tweets_7round_jones['Text_clean_1'].apply(str)\n",
        "tweets_7round_jones['afinn'] = tweets_7round_jones['Text_clean_1'].apply(afinn.score)\n",
        "tweets_7round_tyson['afinn'] = tweets_7round_tyson['Text_clean_1'].apply(afinn.score)"
      ],
      "execution_count": null,
      "outputs": []
    },
    {
      "cell_type": "code",
      "metadata": {
        "id": "G7wpD7UB53Ed",
        "outputId": "0307580a-124b-4190-c3ae-5878f3a861a3"
      },
      "source": [
        "print(\"Describe di Afinn di Tyson del ROUND 7:\")\n",
        "print(tweets_7round_tyson['afinn'].describe())\n",
        "print(\"\\\\\\\\\\\\\\\\\\\\\\\\\\\\\")\n",
        "print(\"Describe di Afinn di Jones del ROUND 7:\")\n",
        "print(tweets_7round_jones['afinn'].describe())"
      ],
      "execution_count": null,
      "outputs": [
        {
          "output_type": "stream",
          "text": [
            "Describe di Afinn di Tyson del ROUND 7:\n",
            "count    3474.000000\n",
            "mean        0.161773\n",
            "std         2.377617\n",
            "min       -17.000000\n",
            "25%        -1.000000\n",
            "50%         0.000000\n",
            "75%         1.000000\n",
            "max        10.000000\n",
            "Name: afinn, dtype: float64\n",
            "\\\\\\\\\\\\\\\n",
            "Describe di Afinn di Jones del ROUND 7:\n",
            "count    1097.000000\n",
            "mean       -0.142206\n",
            "std         2.046409\n",
            "min       -10.000000\n",
            "25%        -1.000000\n",
            "50%         0.000000\n",
            "75%         0.000000\n",
            "max         9.000000\n",
            "Name: afinn, dtype: float64\n"
          ],
          "name": "stdout"
        }
      ]
    },
    {
      "cell_type": "code",
      "metadata": {
        "id": "cBJvbcor53Ed",
        "outputId": "9a67bbf3-2555-4add-8e5c-ed9657b96d5f"
      },
      "source": [
        "#AFINN SENTIMENT RESCALE ROUND 7\n",
        "tweets_7round_jones['Afinnscore'] = rescale7(tweets_7round_jones['afinn'])\n",
        "tweets_7round_tyson['Afinnscore'] = rescale7(tweets_7round_tyson['afinn'])\n",
        "print('votazione 7 round Tyson')\n",
        "print(tweets_7round_tyson['Afinnscore'].describe())\n",
        "print('votazione 7 round Jones')\n",
        "print(tweets_7round_jones['Afinnscore'].describe())\n"
      ],
      "execution_count": null,
      "outputs": [
        {
          "output_type": "stream",
          "text": [
            "votazione 7 round Tyson\n",
            "count    3474.000000\n",
            "mean        9.013481\n",
            "std         0.198135\n",
            "min         7.583333\n",
            "25%         8.916667\n",
            "50%         9.000000\n",
            "75%         9.083333\n",
            "max         9.833333\n",
            "Name: Afinnscore, dtype: float64\n",
            "votazione 7 round Jones\n",
            "count    1097.000000\n",
            "mean        8.988149\n",
            "std         0.170534\n",
            "min         8.166667\n",
            "25%         8.916667\n",
            "50%         9.000000\n",
            "75%         9.000000\n",
            "max         9.750000\n",
            "Name: Afinnscore, dtype: float64\n"
          ],
          "name": "stdout"
        }
      ]
    },
    {
      "cell_type": "code",
      "metadata": {
        "id": "5vgdN2Jw53Ee"
      },
      "source": [
        "#[MEDIA e STD AFINN SIA NORMALE CHE AGGIUSTATA]\n",
        "mean_afinn_round7_tyson = tweets_7round_tyson['afinn'].mean()\n",
        "mean_afinn_round7_jones = tweets_7round_jones['afinn'].mean()\n",
        "mean_afinnscore_round7_tyson = tweets_7round_tyson['Afinnscore'].mean()\n",
        "mean_afinnscore_round7_jones = tweets_7round_jones['Afinnscore'].mean()\n",
        "std_afinn_round7_tyson = tweets_7round_tyson['afinn'].std()\n",
        "std_afinn_round7_jones = tweets_7round_jones['afinn'].std()\n",
        "std_afinnscore_round7_tyson = tweets_7round_tyson['Afinnscore'].std()\n",
        "std_afinnscore_round7_jones = tweets_7round_jones['Afinnscore'].std()\n"
      ],
      "execution_count": null,
      "outputs": []
    },
    {
      "cell_type": "markdown",
      "metadata": {
        "id": "-v_MZvI653Ef"
      },
      "source": [
        "### SENTIMENT ROUND 8 ###"
      ]
    },
    {
      "cell_type": "code",
      "metadata": {
        "id": "GgXe3N--53Ef",
        "outputId": "9cd4dd7f-a14b-44cb-c54b-322f6c10e742"
      },
      "source": [
        "tweets_8round_tyson = datasetcompleto_incontro_tyson[datasetcompleto_incontro_tyson[\"ROUND\"] == 8]\n",
        "tweets_8round_tyson = tweets_8round_tyson.reset_index(drop = True)\n",
        "print(\"Tweets presenti per il round 8 riferiti a Tyson:\", len(tweets_8round_tyson))\n",
        "tweets_8round_jones = datasetcompleto_incontro_jones[datasetcompleto_incontro_jones[\"ROUND\"] == 8]\n",
        "tweets_8round_jones = tweets_8round_jones.reset_index(drop = True)\n",
        "print(\"Tweets presenti per il round 8 riferiti a Tyson:\", len(tweets_8round_jones))"
      ],
      "execution_count": null,
      "outputs": [
        {
          "output_type": "stream",
          "text": [
            "Tweets presenti per il round 8 riferiti a Tyson: 9205\n",
            "Tweets presenti per il round 8 riferiti a Tyson: 4067\n"
          ],
          "name": "stdout"
        }
      ]
    },
    {
      "cell_type": "code",
      "metadata": {
        "id": "vghV9cqt53Ef"
      },
      "source": [
        "#AFINN SENTIMENT ROUND 8\n",
        "tweets_8round_tyson['Text_clean_1']=tweets_8round_tyson['Text_clean_1'].apply(str)\n",
        "tweets_8round_jones['Text_clean_1']=tweets_8round_jones['Text_clean_1'].apply(str)\n",
        "tweets_8round_jones['afinn'] = tweets_8round_jones['Text_clean_1'].apply(afinn.score)\n",
        "tweets_8round_tyson['afinn'] = tweets_8round_tyson['Text_clean_1'].apply(afinn.score)"
      ],
      "execution_count": null,
      "outputs": []
    },
    {
      "cell_type": "code",
      "metadata": {
        "id": "5QNK89hy53Eh",
        "outputId": "655f6faa-382f-41e3-987c-160c723f714a"
      },
      "source": [
        "print(\"Describe di Afinn di Tyson del ROUND 8:\")\n",
        "print(tweets_8round_tyson['afinn'].describe())\n",
        "print(\"\\\\\\\\\\\\\\\\\\\\\\\\\\\\\")\n",
        "print(\"Describe di Afinn di Jones del ROUND 8:\")\n",
        "print(tweets_8round_jones['afinn'].describe())"
      ],
      "execution_count": null,
      "outputs": [
        {
          "output_type": "stream",
          "text": [
            "Describe di Afinn di Tyson del ROUND 8:\n",
            "count    9205.000000\n",
            "mean        0.167735\n",
            "std         2.502433\n",
            "min       -14.000000\n",
            "25%        -1.000000\n",
            "50%         0.000000\n",
            "75%         1.000000\n",
            "max        12.000000\n",
            "Name: afinn, dtype: float64\n",
            "\\\\\\\\\\\\\\\n",
            "Describe di Afinn di Jones del ROUND 8:\n",
            "count    4067.000000\n",
            "mean       -0.045242\n",
            "std         2.034725\n",
            "min       -12.000000\n",
            "25%        -1.000000\n",
            "50%         0.000000\n",
            "75%         0.000000\n",
            "max         9.000000\n",
            "Name: afinn, dtype: float64\n"
          ],
          "name": "stdout"
        }
      ]
    },
    {
      "cell_type": "code",
      "metadata": {
        "id": "98oz1MXl53Ei",
        "outputId": "c5ad808c-ce4b-48f8-c85f-460ed04f8526"
      },
      "source": [
        "#AFINN SENTIMENT ROUND 8 RESCALE\n",
        "tweets_8round_jones['Afinnscore'] = rescale8(tweets_8round_jones['afinn'])\n",
        "tweets_8round_tyson['Afinnscore'] = rescale8(tweets_8round_tyson['afinn'])\n",
        "print('votazione 8 round Tyson ')\n",
        "print(tweets_8round_tyson['Afinnscore'].describe())\n",
        "print('votazione 8 round Jones')\n",
        "print(tweets_8round_jones['Afinnscore'].describe())"
      ],
      "execution_count": null,
      "outputs": [
        {
          "output_type": "stream",
          "text": [
            "votazione 8 round Tyson \n",
            "count    9205.000000\n",
            "mean        9.089826\n",
            "std         0.192495\n",
            "min         8.000000\n",
            "25%         9.000000\n",
            "50%         9.076923\n",
            "75%         9.153846\n",
            "max        10.000000\n",
            "Name: Afinnscore, dtype: float64\n",
            "votazione 8 round Jones\n",
            "count    4067.000000\n",
            "mean        9.073443\n",
            "std         0.156517\n",
            "min         8.153846\n",
            "25%         9.000000\n",
            "50%         9.076923\n",
            "75%         9.076923\n",
            "max         9.769231\n",
            "Name: Afinnscore, dtype: float64\n"
          ],
          "name": "stdout"
        }
      ]
    },
    {
      "cell_type": "code",
      "metadata": {
        "id": "lkRIgC-353Ei"
      },
      "source": [
        "#[MEDIA e STD AFINN SIA NORMALE CHE AGGIUSTATA]\n",
        "mean_afinn_round8_tyson = tweets_8round_tyson['afinn'].mean()\n",
        "mean_afinn_round8_jones = tweets_8round_jones['afinn'].mean()\n",
        "mean_afinnscore_round8_tyson = tweets_8round_tyson['Afinnscore'].mean()\n",
        "mean_afinnscore_round8_jones = tweets_8round_jones['Afinnscore'].mean()\n",
        "std_afinn_round8_tyson = tweets_8round_tyson['afinn'].std()\n",
        "std_afinn_round8_jones = tweets_8round_jones['afinn'].std()\n",
        "std_afinnscore_round8_tyson = tweets_8round_tyson['Afinnscore'].std()\n",
        "std_afinnscore_round8_jones = tweets_8round_jones['Afinnscore'].std()"
      ],
      "execution_count": null,
      "outputs": []
    },
    {
      "cell_type": "markdown",
      "metadata": {
        "id": "-S4yPQtI53Ei"
      },
      "source": [
        "# SENTIMENT POST-INCONTRO #"
      ]
    },
    {
      "cell_type": "code",
      "metadata": {
        "id": "TiST42yh53Ej",
        "outputId": "758a5eab-97d9-4632-d88a-a6aaf3335293"
      },
      "source": [
        "tweets_afterincontro_tyson = (dataset_tyson_def['Date_time_italy'] > \"2020-11-29 06:23:00\")\n",
        "tweets_afterincontro_tyson = dataset_tyson_def.loc[tweets_afterincontro_tyson]\n",
        "tweets_afterincontro_tyson = tweets_afterincontro_tyson.reset_index(drop = True)\n",
        "print(len(tweets_afterincontro_tyson))\n",
        "tweets_afterincontro_jones = (dataset_jones_def['Date_time_italy'] > \"2020-11-29 06:23:00\")\n",
        "tweets_afterincontro_jones = dataset_jones_def.loc[tweets_afterincontro_jones]\n",
        "tweets_afterincontro_jones = tweets_afterincontro_jones.reset_index(drop = True)\n",
        "print(len(tweets_afterincontro_jones))"
      ],
      "execution_count": null,
      "outputs": [
        {
          "output_type": "stream",
          "text": [
            "74928\n",
            "50505\n"
          ],
          "name": "stdout"
        }
      ]
    },
    {
      "cell_type": "code",
      "metadata": {
        "id": "Hw_oCsNA53Ej"
      },
      "source": [
        "#AFINN\n",
        "tweets_afterincontro_tyson['Text_clean_1']=tweets_afterincontro_tyson['Text_clean_1'].apply(str)\n",
        "tweets_afterincontro_jones['Text_clean_1']=tweets_afterincontro_jones['Text_clean_1'].apply(str)\n",
        "tweets_afterincontro_jones['afinn'] = tweets_afterincontro_jones['Text_clean_1'].apply(afinn.score)\n",
        "tweets_afterincontro_tyson['afinn'] = tweets_afterincontro_tyson['Text_clean_1'].apply(afinn.score)"
      ],
      "execution_count": null,
      "outputs": []
    },
    {
      "cell_type": "code",
      "metadata": {
        "id": "C6mCuqmf53Ek",
        "outputId": "5a3c0eee-6a41-4c01-8430-6a20121425c3"
      },
      "source": [
        "print(\"Describe di Afinn di Tyson postmatch:\")\n",
        "print(tweets_afterincontro_tyson['afinn'].describe())\n",
        "print(\"\\\\\\\\\\\\\\\\\\\\\\\\\\\\\")\n",
        "print(\"Describe di Afinn di Jones postmatch:\")\n",
        "print(tweets_afterincontro_jones['afinn'].describe())"
      ],
      "execution_count": null,
      "outputs": [
        {
          "output_type": "stream",
          "text": [
            "Describe di Afinn di Tyson postmatch:\n",
            "count    74928.000000\n",
            "mean         0.491138\n",
            "std          2.478409\n",
            "min        -20.000000\n",
            "25%         -1.000000\n",
            "50%          0.000000\n",
            "75%          2.000000\n",
            "max         20.000000\n",
            "Name: afinn, dtype: float64\n",
            "\\\\\\\\\\\\\\\n",
            "Describe di Afinn di Jones postmatch:\n",
            "count    50505.000000\n",
            "mean         0.369548\n",
            "std          2.412482\n",
            "min        -24.000000\n",
            "25%          0.000000\n",
            "50%          0.000000\n",
            "75%          2.000000\n",
            "max         20.000000\n",
            "Name: afinn, dtype: float64\n"
          ],
          "name": "stdout"
        }
      ]
    },
    {
      "cell_type": "code",
      "metadata": {
        "id": "NPYvOOBf53El",
        "outputId": "51a8001b-0ff6-47a6-d2bc-9101748d5c7d"
      },
      "source": [
        "tweets_afterincontro_jones['Afinnscore'] = rescaleafter(tweets_afterincontro_jones['afinn'])\n",
        "tweets_afterincontro_tyson['Afinnscore'] = rescaleafter(tweets_afterincontro_tyson['afinn'])\n",
        "print('votazione postfight Tyson')\n",
        "print(tweets_afterincontro_tyson['Afinnscore'].describe())\n",
        "print('votazione postfight Jones')\n",
        "print(tweets_afterincontro_jones['Afinnscore'].describe())"
      ],
      "execution_count": null,
      "outputs": [
        {
          "output_type": "stream",
          "text": [
            "votazione postfight Tyson\n",
            "count    74928.000000\n",
            "mean         9.113234\n",
            "std          0.112655\n",
            "min          8.181818\n",
            "25%          9.045455\n",
            "50%          9.090909\n",
            "75%          9.181818\n",
            "max         10.000000\n",
            "Name: Afinnscore, dtype: float64\n",
            "votazione postfight Jones\n",
            "count    50505.000000\n",
            "mean         9.107707\n",
            "std          0.109658\n",
            "min          8.000000\n",
            "25%          9.090909\n",
            "50%          9.090909\n",
            "75%          9.181818\n",
            "max         10.000000\n",
            "Name: Afinnscore, dtype: float64\n"
          ],
          "name": "stdout"
        }
      ]
    },
    {
      "cell_type": "markdown",
      "metadata": {
        "id": "FWOEohvV53El"
      },
      "source": [
        "### INTEGRAZIONE DATASETS INCONTRI ###"
      ]
    },
    {
      "cell_type": "code",
      "metadata": {
        "id": "dniyOmWz53El",
        "outputId": "4ac68343-0f40-4faf-c503-07b585069d3a"
      },
      "source": [
        "pdList_round_totali_tyson = [tweets_1round_tyson, tweets_2round_tyson, tweets_3round_tyson, tweets_4round_tyson, tweets_5round_tyson, tweets_6round_tyson, tweets_7round_tyson, tweets_8round_tyson]  \n",
        "rounds_tyson_sentiment_completo = pd.concat(pdList_round_totali_tyson)\n",
        "len(rounds_tyson_sentiment_completo)"
      ],
      "execution_count": null,
      "outputs": [
        {
          "output_type": "execute_result",
          "data": {
            "text/plain": [
              "28942"
            ]
          },
          "metadata": {
            "tags": []
          },
          "execution_count": 168
        }
      ]
    },
    {
      "cell_type": "code",
      "metadata": {
        "id": "IRRVch4A53Em",
        "outputId": "e5f41c0f-dbac-4602-f548-539ea225ef45"
      },
      "source": [
        "pdList_round_totali_jones = [tweets_1round_jones, tweets_2round_jones, tweets_3round_jones, tweets_4round_jones, tweets_5round_jones, tweets_6round_jones, tweets_7round_jones, tweets_8round_jones]  \n",
        "rounds_jones_sentiment_completo = pd.concat(pdList_round_totali_jones)\n",
        "len(rounds_jones_sentiment_completo)"
      ],
      "execution_count": null,
      "outputs": [
        {
          "output_type": "execute_result",
          "data": {
            "text/plain": [
              "9850"
            ]
          },
          "metadata": {
            "tags": []
          },
          "execution_count": 169
        }
      ]
    },
    {
      "cell_type": "code",
      "metadata": {
        "id": "iRZqdEpn53En",
        "outputId": "a0188248-5e9d-44d2-8a1a-07f8d5d4260f"
      },
      "source": [
        "rounds_jones_sentiment_completo.columns"
      ],
      "execution_count": null,
      "outputs": [
        {
          "output_type": "execute_result",
          "data": {
            "text/plain": [
              "Index(['ROUND', '_id', 'Screen_name', 'Name', 'Text', 'Followers',\n",
              "       'Number_Retweet', 'Position', 'Date_time_italy', 'Hashtags', 'hashtags',\n",
              "       'Text_clean_1', 'Date_time_losangeles', 'Match_parola_Tyson',\n",
              "       'Match_parola_Jones', 'Match_parola', 'TYSON_jab_landed',\n",
              "       'Jab Landed / Thrown Tyson', 'JONES_jab_landed',\n",
              "       'Jab Landed / Thrown Jones', 'pugni_tot_tyson', 'pugni_tot_jones',\n",
              "       'jab_landed_tyson', 'jab_landed_jones', 'CUMSUM_pugni_tyson',\n",
              "       'CUMSUM_pugni_jones', 'CUMSUM_jab_landed_tyson',\n",
              "       'CUMSUM_jab_landed_jones', 'TYSON_punches_total',\n",
              "       'Total Punches Landed / Thrown Tyson', 'JONES_punches_total',\n",
              "       'Total Punches Landed / Thrown Jones', 'pugni_tirati_complex_tyson',\n",
              "       'pugni_tirati_complex_jones', 'tot_punch_landed_tyson',\n",
              "       'tot_punch_landed_jones', 'CUMSUM_pugni_tirati_tyson',\n",
              "       'CUMSUM_pugni_tirati_jones', 'CUMSUM_pugni_landed_tyson',\n",
              "       'CUMSUM_pugni_landed_jones', 'TYSON_power_total',\n",
              "       'Power Punches landed / Thrown Tyson', 'JONES_power_total',\n",
              "       'Power Punches landed / Thrown Jones', 'power_pugni_tirati_tyson',\n",
              "       'power_pugni_tirati_jones', 'tot_punch_tirati_tyson',\n",
              "       'tot_punch_tirati_jones', 'CUMSUM_power_tirati_tyson',\n",
              "       'CUMSUM_power_tirati_jones', 'CUMSUM_pugni_2_landed_tyson',\n",
              "       'CUMSUM_pugni_2_landed_jones', 'afinn', 'Afinnscore'],\n",
              "      dtype='object')"
            ]
          },
          "metadata": {
            "tags": []
          },
          "execution_count": 170
        }
      ]
    },
    {
      "cell_type": "code",
      "metadata": {
        "id": "evtnw_zb53En"
      },
      "source": [
        "tweets_incontro_tyson_test1 = (rounds_tyson_sentiment_completo.groupby([pd.Grouper(key='Date_time_italy', freq='1min')]).agg({'Afinnscore':'mean', 'afinn':'mean'}))\n",
        "tweets_incontro_jones_test1 = (rounds_jones_sentiment_completo.groupby([pd.Grouper(key='Date_time_italy', freq='1min')]).agg({'Afinnscore':'mean', 'afinn':'mean'}))\n",
        "tweets_incontro_tyson_test2 = (rounds_tyson_sentiment_completo.groupby([pd.Grouper(key='Date_time_italy', freq='1min')]).agg({'Afinnscore':'std', 'afinn':'std'}))\n",
        "tweets_incontro_jones_test2 = (rounds_jones_sentiment_completo.groupby([pd.Grouper(key='Date_time_italy', freq='1min')]).agg({'Afinnscore':'std', 'afinn':'std'}))"
      ],
      "execution_count": null,
      "outputs": []
    },
    {
      "cell_type": "code",
      "metadata": {
        "id": "YtsScVKS53Eo"
      },
      "source": [
        "tweets_incontro_tyson_test1 = tweets_incontro_tyson_test1.reset_index()\n",
        "tweets_incontro_jones_test1 = tweets_incontro_jones_test1.reset_index()\n",
        "tweets_incontro_tyson_test2 = tweets_incontro_tyson_test2.reset_index()\n",
        "tweets_incontro_jones_test2 = tweets_incontro_jones_test2.reset_index()"
      ],
      "execution_count": null,
      "outputs": []
    },
    {
      "cell_type": "code",
      "metadata": {
        "id": "Fcko1QWP53Eo"
      },
      "source": [
        "tweets_incontro_tyson_test1 = tweets_incontro_tyson_test1.rename(columns={\"Afinnscore\": \"Afinnscore_mean_tyson\", \"afinn\": \"afinn_mean_tyson\"})\n",
        "tweets_incontro_jones_test1 = tweets_incontro_jones_test1.rename(columns={\"Afinnscore\": \"Afinnscore_mean_jones\", \"afinn\": \"afinn_mean_jones\"})\n",
        "tweets_incontro_tyson_test2 = tweets_incontro_tyson_test2.rename(columns={\"Afinnscore\": \"Afinnscore_std_tyson\", \"afinn\": \"afinn_std_tyson\"})\n",
        "tweets_incontro_jones_test2 = tweets_incontro_jones_test2.rename(columns={\"Afinnscore\": \"Afinnscore_std_jones\", \"afinn\": \"afinn_std_jones\"})"
      ],
      "execution_count": null,
      "outputs": []
    },
    {
      "cell_type": "code",
      "metadata": {
        "id": "rLQvzeqP53Ep"
      },
      "source": [
        "tweets_incontro_andamentisentiment = pd.merge(tweets_incontro_tyson_test1, tweets_incontro_jones_test1, how='left')\n",
        "tweets_incontro_andamentisentiment = pd.merge(tweets_incontro_andamentisentiment, tweets_incontro_tyson_test2, how='left')\n",
        "tweets_incontro_andamentisentiment = pd.merge(tweets_incontro_andamentisentiment, tweets_incontro_jones_test2, how='left')"
      ],
      "execution_count": null,
      "outputs": []
    },
    {
      "cell_type": "code",
      "metadata": {
        "id": "W5eX6AMF53Ep"
      },
      "source": [
        "tweets_incontro_andamentisentiment['Afinnscore_mean_tyson'] = tweets_incontro_andamentisentiment['Afinnscore_mean_tyson'].astype(str)\n",
        "tweets_incontro_andamentisentiment['Afinnscore_mean_jones'] = tweets_incontro_andamentisentiment['Afinnscore_mean_jones'].astype(str)\n",
        "tweets_incontro_andamentisentiment['afinn_mean_tyson'] = tweets_incontro_andamentisentiment['afinn_mean_tyson'].astype(str)\n",
        "tweets_incontro_andamentisentiment['afinn_mean_jones'] = tweets_incontro_andamentisentiment['afinn_mean_jones'].astype(str)\n",
        "tweets_incontro_andamentisentiment['Afinnscore_std_tyson'] = tweets_incontro_andamentisentiment['Afinnscore_std_tyson'].astype(str)\n",
        "tweets_incontro_andamentisentiment['Afinnscore_std_jones'] = tweets_incontro_andamentisentiment['Afinnscore_std_jones'].astype(str)\n",
        "tweets_incontro_andamentisentiment['afinn_std_tyson'] = tweets_incontro_andamentisentiment['afinn_std_tyson'].astype(str)\n",
        "tweets_incontro_andamentisentiment['afinn_std_jones'] = tweets_incontro_andamentisentiment['afinn_std_jones'].astype(str)"
      ],
      "execution_count": null,
      "outputs": []
    },
    {
      "cell_type": "code",
      "metadata": {
        "id": "O5DByggr53Eq"
      },
      "source": [
        "tweets_incontro_andamentisentiment['Afinnscore_mean_tyson'] = tweets_incontro_andamentisentiment['Afinnscore_mean_tyson'].apply(lambda x: x.replace('.', ','))\n",
        "tweets_incontro_andamentisentiment['Afinnscore_mean_jones'] = tweets_incontro_andamentisentiment['Afinnscore_mean_jones'].apply(lambda x: x.replace('.', ','))\n",
        "tweets_incontro_andamentisentiment['afinn_mean_tyson'] = tweets_incontro_andamentisentiment['afinn_mean_tyson'].apply(lambda x: x.replace('.', ','))\n",
        "tweets_incontro_andamentisentiment['afinn_mean_jones'] = tweets_incontro_andamentisentiment['afinn_mean_jones'].apply(lambda x: x.replace('.', ','))\n",
        "tweets_incontro_andamentisentiment['Afinnscore_std_tyson'] = tweets_incontro_andamentisentiment['Afinnscore_std_tyson'].apply(lambda x: x.replace('.', ','))\n",
        "tweets_incontro_andamentisentiment['Afinnscore_std_jones'] = tweets_incontro_andamentisentiment['Afinnscore_std_jones'].apply(lambda x: x.replace('.', ','))\n",
        "tweets_incontro_andamentisentiment['afinn_std_tyson'] = tweets_incontro_andamentisentiment['afinn_std_tyson'].apply(lambda x: x.replace('.', ','))\n",
        "tweets_incontro_andamentisentiment['afinn_std_jones'] = tweets_incontro_andamentisentiment['afinn_std_jones'].apply(lambda x: x.replace('.', ','))"
      ],
      "execution_count": null,
      "outputs": []
    },
    {
      "cell_type": "code",
      "metadata": {
        "id": "bp_BInga53Eq"
      },
      "source": [
        "tweets_incontro_andamentisentiment.to_csv(r'/Users/matteo/Desktop/DATA SCIENCE/Data Management/Progettto/ESPERIMENTITABLEAU/tweets_incontro_andamentisentiment_def.csv')"
      ],
      "execution_count": null,
      "outputs": []
    },
    {
      "cell_type": "markdown",
      "metadata": {
        "id": "r4XALrfk53Er"
      },
      "source": [
        "# ANALISI AFTER MATCH #"
      ]
    },
    {
      "cell_type": "code",
      "metadata": {
        "id": "MHZMJgJq53Es"
      },
      "source": [
        "tweets_afterincontro_tyson_test1 = (tweets_afterincontro_tyson.groupby([pd.Grouper(key='Date_time_italy', freq='10min')]).agg({'Afinnscore':'mean', 'afinn':'mean'}))\n",
        "tweets_afterincontro_jones_test1 = (tweets_afterincontro_jones.groupby([pd.Grouper(key='Date_time_italy', freq='10min')]).agg({'Afinnscore':'mean', 'afinn':'mean'}))\n",
        "tweets_afterincontro_tyson_test2 = (tweets_afterincontro_tyson.groupby([pd.Grouper(key='Date_time_italy', freq='10min')]).agg({'Afinnscore':'std', 'afinn':'std'}))\n",
        "tweets_afterincontro_jones_test2 = (tweets_afterincontro_jones.groupby([pd.Grouper(key='Date_time_italy', freq='10min')]).agg({'Afinnscore':'std', 'afinn':'std'}))"
      ],
      "execution_count": null,
      "outputs": []
    },
    {
      "cell_type": "code",
      "metadata": {
        "id": "j2TRwMKy53Es"
      },
      "source": [
        "tweets_afterincontro_tyson_test1 = tweets_afterincontro_tyson_test1.reset_index()\n",
        "tweets_afterincontro_jones_test1 = tweets_afterincontro_jones_test1.reset_index()\n",
        "tweets_afterincontro_tyson_test2 = tweets_afterincontro_tyson_test2.reset_index()\n",
        "tweets_afterincontro_jones_test2 = tweets_afterincontro_jones_test2.reset_index()"
      ],
      "execution_count": null,
      "outputs": []
    },
    {
      "cell_type": "code",
      "metadata": {
        "id": "wQstpP4I53Es"
      },
      "source": [
        "tweets_afterincontro_tyson_test1 = tweets_afterincontro_tyson_test1.rename(columns={\"Afinnscore\": \"Afinnscore_mean_tyson\", \"afinn\": \"afinn_mean_tyson\"})\n",
        "tweets_afterincontro_jones_test1 = tweets_afterincontro_jones_test1.rename(columns={\"Afinnscore\": \"Afinnscore_mean_jones\", \"afinn\": \"afinn_mean_jones\"})\n",
        "tweets_afterincontro_tyson_test2 = tweets_afterincontro_tyson_test2.rename(columns={\"Afinnscore\": \"Afinnscore_std_tyson\", \"afinn\": \"afinn_std_tyson\"})\n",
        "tweets_afterincontro_jones_test2 = tweets_afterincontro_jones_test2.rename(columns={\"Afinnscore\": \"Afinnscore_std_jones\", \"afinn\": \"afinn_std_jones\"})"
      ],
      "execution_count": null,
      "outputs": []
    },
    {
      "cell_type": "code",
      "metadata": {
        "id": "ejX8p5a953Et"
      },
      "source": [
        "tweets_afterincontro_andamentisentiment = pd.merge(tweets_afterincontro_tyson_test1, tweets_afterincontro_jones_test1, how='left')\n",
        "tweets_afterincontro_andamentisentiment = pd.merge(tweets_afterincontro_andamentisentiment, tweets_afterincontro_tyson_test2, how='left')\n",
        "tweets_afterincontro_andamentisentiment = pd.merge(tweets_afterincontro_andamentisentiment, tweets_afterincontro_jones_test2, how='left')"
      ],
      "execution_count": null,
      "outputs": []
    },
    {
      "cell_type": "code",
      "metadata": {
        "id": "-70U2otb53Et",
        "outputId": "cfc4ed9c-56e9-48bf-c2ab-c6d67ae70169"
      },
      "source": [
        "tweets_afterincontro_andamentisentiment.head()"
      ],
      "execution_count": null,
      "outputs": [
        {
          "output_type": "execute_result",
          "data": {
            "text/html": [
              "<div>\n",
              "<style scoped>\n",
              "    .dataframe tbody tr th:only-of-type {\n",
              "        vertical-align: middle;\n",
              "    }\n",
              "\n",
              "    .dataframe tbody tr th {\n",
              "        vertical-align: top;\n",
              "    }\n",
              "\n",
              "    .dataframe thead th {\n",
              "        text-align: right;\n",
              "    }\n",
              "</style>\n",
              "<table border=\"1\" class=\"dataframe\">\n",
              "  <thead>\n",
              "    <tr style=\"text-align: right;\">\n",
              "      <th></th>\n",
              "      <th>Date_time_italy</th>\n",
              "      <th>Afinnscore_mean_tyson</th>\n",
              "      <th>afinn_mean_tyson</th>\n",
              "      <th>Afinnscore_mean_jones</th>\n",
              "      <th>afinn_mean_jones</th>\n",
              "      <th>Afinnscore_std_tyson</th>\n",
              "      <th>afinn_std_tyson</th>\n",
              "      <th>Afinnscore_std_jones</th>\n",
              "      <th>afinn_std_jones</th>\n",
              "    </tr>\n",
              "  </thead>\n",
              "  <tbody>\n",
              "    <tr>\n",
              "      <td>0</td>\n",
              "      <td>2020-11-29 06:20:00</td>\n",
              "      <td>9.103623</td>\n",
              "      <td>0.279711</td>\n",
              "      <td>9.098122</td>\n",
              "      <td>0.158686</td>\n",
              "      <td>0.118513</td>\n",
              "      <td>2.607283</td>\n",
              "      <td>0.087790</td>\n",
              "      <td>1.931382</td>\n",
              "    </tr>\n",
              "    <tr>\n",
              "      <td>1</td>\n",
              "      <td>2020-11-29 06:30:00</td>\n",
              "      <td>9.109310</td>\n",
              "      <td>0.404815</td>\n",
              "      <td>9.085540</td>\n",
              "      <td>-0.118118</td>\n",
              "      <td>0.125799</td>\n",
              "      <td>2.767571</td>\n",
              "      <td>0.099696</td>\n",
              "      <td>2.193301</td>\n",
              "    </tr>\n",
              "    <tr>\n",
              "      <td>2</td>\n",
              "      <td>2020-11-29 06:40:00</td>\n",
              "      <td>9.120674</td>\n",
              "      <td>0.654824</td>\n",
              "      <td>9.090852</td>\n",
              "      <td>-0.001254</td>\n",
              "      <td>0.119694</td>\n",
              "      <td>2.633275</td>\n",
              "      <td>0.094107</td>\n",
              "      <td>2.070355</td>\n",
              "    </tr>\n",
              "    <tr>\n",
              "      <td>3</td>\n",
              "      <td>2020-11-29 06:50:00</td>\n",
              "      <td>9.117392</td>\n",
              "      <td>0.582627</td>\n",
              "      <td>9.090535</td>\n",
              "      <td>-0.008236</td>\n",
              "      <td>0.111336</td>\n",
              "      <td>2.449394</td>\n",
              "      <td>0.087000</td>\n",
              "      <td>1.913999</td>\n",
              "    </tr>\n",
              "    <tr>\n",
              "      <td>4</td>\n",
              "      <td>2020-11-29 07:00:00</td>\n",
              "      <td>9.103815</td>\n",
              "      <td>0.283932</td>\n",
              "      <td>9.093563</td>\n",
              "      <td>0.058394</td>\n",
              "      <td>0.103787</td>\n",
              "      <td>2.283321</td>\n",
              "      <td>0.086965</td>\n",
              "      <td>1.913235</td>\n",
              "    </tr>\n",
              "  </tbody>\n",
              "</table>\n",
              "</div>"
            ],
            "text/plain": [
              "      Date_time_italy  Afinnscore_mean_tyson  afinn_mean_tyson  \\\n",
              "0 2020-11-29 06:20:00               9.103623          0.279711   \n",
              "1 2020-11-29 06:30:00               9.109310          0.404815   \n",
              "2 2020-11-29 06:40:00               9.120674          0.654824   \n",
              "3 2020-11-29 06:50:00               9.117392          0.582627   \n",
              "4 2020-11-29 07:00:00               9.103815          0.283932   \n",
              "\n",
              "   Afinnscore_mean_jones  afinn_mean_jones  Afinnscore_std_tyson  \\\n",
              "0               9.098122          0.158686              0.118513   \n",
              "1               9.085540         -0.118118              0.125799   \n",
              "2               9.090852         -0.001254              0.119694   \n",
              "3               9.090535         -0.008236              0.111336   \n",
              "4               9.093563          0.058394              0.103787   \n",
              "\n",
              "   afinn_std_tyson  Afinnscore_std_jones  afinn_std_jones  \n",
              "0         2.607283              0.087790         1.931382  \n",
              "1         2.767571              0.099696         2.193301  \n",
              "2         2.633275              0.094107         2.070355  \n",
              "3         2.449394              0.087000         1.913999  \n",
              "4         2.283321              0.086965         1.913235  "
            ]
          },
          "metadata": {
            "tags": []
          },
          "execution_count": 181
        }
      ]
    },
    {
      "cell_type": "code",
      "metadata": {
        "id": "t6mlJRlG53Eu"
      },
      "source": [
        "tweets_afterincontro_andamentisentiment['Afinnscore_mean_tyson'] = tweets_afterincontro_andamentisentiment['Afinnscore_mean_tyson'].astype(str)\n",
        "tweets_afterincontro_andamentisentiment['Afinnscore_mean_jones'] = tweets_afterincontro_andamentisentiment['Afinnscore_mean_jones'].astype(str)\n",
        "tweets_afterincontro_andamentisentiment['afinn_mean_tyson'] = tweets_afterincontro_andamentisentiment['afinn_mean_tyson'].astype(str)\n",
        "tweets_afterincontro_andamentisentiment['afinn_mean_jones'] = tweets_afterincontro_andamentisentiment['afinn_mean_jones'].astype(str)\n",
        "tweets_afterincontro_andamentisentiment['Afinnscore_std_tyson'] = tweets_afterincontro_andamentisentiment['Afinnscore_std_tyson'].astype(str)\n",
        "tweets_afterincontro_andamentisentiment['Afinnscore_std_jones'] = tweets_afterincontro_andamentisentiment['Afinnscore_std_jones'].astype(str)\n",
        "tweets_afterincontro_andamentisentiment['afinn_std_tyson'] = tweets_afterincontro_andamentisentiment['afinn_std_tyson'].astype(str)\n",
        "tweets_afterincontro_andamentisentiment['afinn_std_jones'] = tweets_afterincontro_andamentisentiment['afinn_std_jones'].astype(str)"
      ],
      "execution_count": null,
      "outputs": []
    },
    {
      "cell_type": "code",
      "metadata": {
        "id": "4FYU0Rsq53Eu"
      },
      "source": [
        "tweets_afterincontro_andamentisentiment['Afinnscore_mean_tyson'] = tweets_afterincontro_andamentisentiment['Afinnscore_mean_tyson'].apply(lambda x: x.replace('.', ','))\n",
        "tweets_afterincontro_andamentisentiment['Afinnscore_mean_jones'] = tweets_afterincontro_andamentisentiment['Afinnscore_mean_jones'].apply(lambda x: x.replace('.', ','))\n",
        "tweets_afterincontro_andamentisentiment['afinn_mean_tyson'] = tweets_afterincontro_andamentisentiment['afinn_mean_tyson'].apply(lambda x: x.replace('.', ','))\n",
        "tweets_afterincontro_andamentisentiment['afinn_mean_jones'] = tweets_afterincontro_andamentisentiment['afinn_mean_jones'].apply(lambda x: x.replace('.', ','))\n",
        "tweets_afterincontro_andamentisentiment['Afinnscore_std_tyson'] = tweets_afterincontro_andamentisentiment['Afinnscore_std_tyson'].apply(lambda x: x.replace('.', ','))\n",
        "tweets_afterincontro_andamentisentiment['Afinnscore_std_jones'] = tweets_afterincontro_andamentisentiment['Afinnscore_std_jones'].apply(lambda x: x.replace('.', ','))\n",
        "tweets_afterincontro_andamentisentiment['afinn_std_tyson'] = tweets_afterincontro_andamentisentiment['afinn_std_tyson'].apply(lambda x: x.replace('.', ','))\n",
        "tweets_afterincontro_andamentisentiment['afinn_std_jones'] = tweets_afterincontro_andamentisentiment['afinn_std_jones'].apply(lambda x: x.replace('.', ','))"
      ],
      "execution_count": null,
      "outputs": []
    },
    {
      "cell_type": "code",
      "metadata": {
        "id": "yw6hObl953Eu"
      },
      "source": [
        "tweets_afterincontro_andamentisentiment.to_csv(r'/Users/matteo/Desktop/DATA SCIENCE/Data Management/Progettto/ESPERIMENTITABLEAU/tweets_afterincontro_andamentisentiment.csv')"
      ],
      "execution_count": null,
      "outputs": []
    },
    {
      "cell_type": "markdown",
      "metadata": {
        "id": "A2sSU9H653Ev"
      },
      "source": [
        "### INTEGRAZIONE COMPLESSIVO ###"
      ]
    },
    {
      "cell_type": "markdown",
      "metadata": {
        "id": "YE8gTqBa53Ew"
      },
      "source": [
        "#### Statistiche match: ###"
      ]
    },
    {
      "cell_type": "code",
      "metadata": {
        "id": "P0Sv9fls53Ew",
        "outputId": "324dfd24-da31-4748-9736-2a10abdab492"
      },
      "source": [
        "statistichematch_completo = pd.merge(incontro_jab_landed, incontro_punches_total, how='left')\n",
        "statistichematch_completo = pd.merge(statistichematch_completo, incontro_powerpunches_landed, how='left')\n",
        "statistichematch_completo = pd.merge(statistichematch_completo, tabellino_incontro_t, how='left')\n",
        "statistichematch_completo\n"
      ],
      "execution_count": null,
      "outputs": [
        {
          "output_type": "execute_result",
          "data": {
            "text/html": [
              "<div>\n",
              "<style scoped>\n",
              "    .dataframe tbody tr th:only-of-type {\n",
              "        vertical-align: middle;\n",
              "    }\n",
              "\n",
              "    .dataframe tbody tr th {\n",
              "        vertical-align: top;\n",
              "    }\n",
              "\n",
              "    .dataframe thead th {\n",
              "        text-align: right;\n",
              "    }\n",
              "</style>\n",
              "<table border=\"1\" class=\"dataframe\">\n",
              "  <thead>\n",
              "    <tr style=\"text-align: right;\">\n",
              "      <th></th>\n",
              "      <th>TYSON_jab_landed</th>\n",
              "      <th>Jab Landed / Thrown Tyson</th>\n",
              "      <th>JONES_jab_landed</th>\n",
              "      <th>Jab Landed / Thrown Jones</th>\n",
              "      <th>ROUND</th>\n",
              "      <th>pugni_tot_tyson</th>\n",
              "      <th>pugni_tot_jones</th>\n",
              "      <th>jab_landed_tyson</th>\n",
              "      <th>jab_landed_jones</th>\n",
              "      <th>CUMSUM_pugni_tyson</th>\n",
              "      <th>...</th>\n",
              "      <th>tot_punch_tirati_tyson</th>\n",
              "      <th>tot_punch_tirati_jones</th>\n",
              "      <th>CUMSUM_power_tirati_tyson</th>\n",
              "      <th>CUMSUM_power_tirati_jones</th>\n",
              "      <th>CUMSUM_pugni_2_landed_tyson</th>\n",
              "      <th>CUMSUM_pugni_2_landed_jones</th>\n",
              "      <th>TYSON_punteggio_sing</th>\n",
              "      <th>JONES_punteggio_sing</th>\n",
              "      <th>CUMSUM_punteggio_tyson</th>\n",
              "      <th>CUMSUM_punteggio_jones</th>\n",
              "    </tr>\n",
              "  </thead>\n",
              "  <tbody>\n",
              "    <tr>\n",
              "      <td>0</td>\n",
              "      <td>1/11</td>\n",
              "      <td>0.091</td>\n",
              "      <td>2/16</td>\n",
              "      <td>0.125</td>\n",
              "      <td>1</td>\n",
              "      <td>11.0</td>\n",
              "      <td>16.0</td>\n",
              "      <td>1.0</td>\n",
              "      <td>2.0</td>\n",
              "      <td>11.0</td>\n",
              "      <td>...</td>\n",
              "      <td>6.0</td>\n",
              "      <td>0.0</td>\n",
              "      <td>11.0</td>\n",
              "      <td>2.0</td>\n",
              "      <td>6.0</td>\n",
              "      <td>0.0</td>\n",
              "      <td>10.0</td>\n",
              "      <td>9.0</td>\n",
              "      <td>10.0</td>\n",
              "      <td>9.0</td>\n",
              "    </tr>\n",
              "    <tr>\n",
              "      <td>1</td>\n",
              "      <td>0/5</td>\n",
              "      <td>0.000</td>\n",
              "      <td>2/13</td>\n",
              "      <td>0.154</td>\n",
              "      <td>2</td>\n",
              "      <td>5.0</td>\n",
              "      <td>13.0</td>\n",
              "      <td>0.0</td>\n",
              "      <td>2.0</td>\n",
              "      <td>16.0</td>\n",
              "      <td>...</td>\n",
              "      <td>8.0</td>\n",
              "      <td>2.0</td>\n",
              "      <td>27.0</td>\n",
              "      <td>21.0</td>\n",
              "      <td>14.0</td>\n",
              "      <td>2.0</td>\n",
              "      <td>10.0</td>\n",
              "      <td>9.0</td>\n",
              "      <td>20.0</td>\n",
              "      <td>18.0</td>\n",
              "    </tr>\n",
              "    <tr>\n",
              "      <td>2</td>\n",
              "      <td>1/7</td>\n",
              "      <td>0.143</td>\n",
              "      <td>0/6</td>\n",
              "      <td>0.000</td>\n",
              "      <td>3</td>\n",
              "      <td>7.0</td>\n",
              "      <td>6.0</td>\n",
              "      <td>1.0</td>\n",
              "      <td>0.0</td>\n",
              "      <td>23.0</td>\n",
              "      <td>...</td>\n",
              "      <td>8.0</td>\n",
              "      <td>6.0</td>\n",
              "      <td>48.0</td>\n",
              "      <td>45.0</td>\n",
              "      <td>22.0</td>\n",
              "      <td>8.0</td>\n",
              "      <td>9.0</td>\n",
              "      <td>10.0</td>\n",
              "      <td>29.0</td>\n",
              "      <td>28.0</td>\n",
              "    </tr>\n",
              "    <tr>\n",
              "      <td>3</td>\n",
              "      <td>2/6</td>\n",
              "      <td>0.333</td>\n",
              "      <td>0/12</td>\n",
              "      <td>0.000</td>\n",
              "      <td>4</td>\n",
              "      <td>6.0</td>\n",
              "      <td>12.0</td>\n",
              "      <td>2.0</td>\n",
              "      <td>0.0</td>\n",
              "      <td>29.0</td>\n",
              "      <td>...</td>\n",
              "      <td>4.0</td>\n",
              "      <td>3.0</td>\n",
              "      <td>63.0</td>\n",
              "      <td>61.0</td>\n",
              "      <td>26.0</td>\n",
              "      <td>11.0</td>\n",
              "      <td>10.0</td>\n",
              "      <td>9.0</td>\n",
              "      <td>39.0</td>\n",
              "      <td>37.0</td>\n",
              "    </tr>\n",
              "    <tr>\n",
              "      <td>4</td>\n",
              "      <td>3/10</td>\n",
              "      <td>0.300</td>\n",
              "      <td>3/13</td>\n",
              "      <td>0.231</td>\n",
              "      <td>5</td>\n",
              "      <td>10.0</td>\n",
              "      <td>13.0</td>\n",
              "      <td>3.0</td>\n",
              "      <td>3.0</td>\n",
              "      <td>39.0</td>\n",
              "      <td>...</td>\n",
              "      <td>9.0</td>\n",
              "      <td>6.0</td>\n",
              "      <td>83.0</td>\n",
              "      <td>90.0</td>\n",
              "      <td>35.0</td>\n",
              "      <td>17.0</td>\n",
              "      <td>10.0</td>\n",
              "      <td>9.0</td>\n",
              "      <td>49.0</td>\n",
              "      <td>46.0</td>\n",
              "    </tr>\n",
              "    <tr>\n",
              "      <td>5</td>\n",
              "      <td>1/7</td>\n",
              "      <td>0.143</td>\n",
              "      <td>1/10</td>\n",
              "      <td>0.100</td>\n",
              "      <td>6</td>\n",
              "      <td>7.0</td>\n",
              "      <td>10.0</td>\n",
              "      <td>1.0</td>\n",
              "      <td>1.0</td>\n",
              "      <td>46.0</td>\n",
              "      <td>...</td>\n",
              "      <td>5.0</td>\n",
              "      <td>5.0</td>\n",
              "      <td>95.0</td>\n",
              "      <td>108.0</td>\n",
              "      <td>40.0</td>\n",
              "      <td>22.0</td>\n",
              "      <td>9.0</td>\n",
              "      <td>10.0</td>\n",
              "      <td>58.0</td>\n",
              "      <td>56.0</td>\n",
              "    </tr>\n",
              "    <tr>\n",
              "      <td>6</td>\n",
              "      <td>2/6</td>\n",
              "      <td>0.333</td>\n",
              "      <td>0/6</td>\n",
              "      <td>0.000</td>\n",
              "      <td>7</td>\n",
              "      <td>6.0</td>\n",
              "      <td>6.0</td>\n",
              "      <td>2.0</td>\n",
              "      <td>0.0</td>\n",
              "      <td>52.0</td>\n",
              "      <td>...</td>\n",
              "      <td>6.0</td>\n",
              "      <td>2.0</td>\n",
              "      <td>112.0</td>\n",
              "      <td>127.0</td>\n",
              "      <td>46.0</td>\n",
              "      <td>24.0</td>\n",
              "      <td>9.0</td>\n",
              "      <td>10.0</td>\n",
              "      <td>67.0</td>\n",
              "      <td>66.0</td>\n",
              "    </tr>\n",
              "    <tr>\n",
              "      <td>7</td>\n",
              "      <td>0/4</td>\n",
              "      <td>0.000</td>\n",
              "      <td>1/9</td>\n",
              "      <td>0.111</td>\n",
              "      <td>8</td>\n",
              "      <td>4.0</td>\n",
              "      <td>9.0</td>\n",
              "      <td>0.0</td>\n",
              "      <td>1.0</td>\n",
              "      <td>56.0</td>\n",
              "      <td>...</td>\n",
              "      <td>11.0</td>\n",
              "      <td>4.0</td>\n",
              "      <td>137.0</td>\n",
              "      <td>151.0</td>\n",
              "      <td>57.0</td>\n",
              "      <td>28.0</td>\n",
              "      <td>9.0</td>\n",
              "      <td>10.0</td>\n",
              "      <td>76.0</td>\n",
              "      <td>76.0</td>\n",
              "    </tr>\n",
              "  </tbody>\n",
              "</table>\n",
              "<p>8 rows × 41 columns</p>\n",
              "</div>"
            ],
            "text/plain": [
              "  TYSON_jab_landed  Jab Landed / Thrown Tyson JONES_jab_landed  \\\n",
              "0             1/11                      0.091             2/16   \n",
              "1              0/5                      0.000             2/13   \n",
              "2              1/7                      0.143              0/6   \n",
              "3              2/6                      0.333             0/12   \n",
              "4             3/10                      0.300             3/13   \n",
              "5              1/7                      0.143             1/10   \n",
              "6              2/6                      0.333              0/6   \n",
              "7              0/4                      0.000              1/9   \n",
              "\n",
              "   Jab Landed / Thrown Jones ROUND  pugni_tot_tyson  pugni_tot_jones  \\\n",
              "0                      0.125     1             11.0             16.0   \n",
              "1                      0.154     2              5.0             13.0   \n",
              "2                      0.000     3              7.0              6.0   \n",
              "3                      0.000     4              6.0             12.0   \n",
              "4                      0.231     5             10.0             13.0   \n",
              "5                      0.100     6              7.0             10.0   \n",
              "6                      0.000     7              6.0              6.0   \n",
              "7                      0.111     8              4.0              9.0   \n",
              "\n",
              "   jab_landed_tyson  jab_landed_jones  CUMSUM_pugni_tyson  ...  \\\n",
              "0               1.0               2.0                11.0  ...   \n",
              "1               0.0               2.0                16.0  ...   \n",
              "2               1.0               0.0                23.0  ...   \n",
              "3               2.0               0.0                29.0  ...   \n",
              "4               3.0               3.0                39.0  ...   \n",
              "5               1.0               1.0                46.0  ...   \n",
              "6               2.0               0.0                52.0  ...   \n",
              "7               0.0               1.0                56.0  ...   \n",
              "\n",
              "   tot_punch_tirati_tyson  tot_punch_tirati_jones  CUMSUM_power_tirati_tyson  \\\n",
              "0                     6.0                     0.0                       11.0   \n",
              "1                     8.0                     2.0                       27.0   \n",
              "2                     8.0                     6.0                       48.0   \n",
              "3                     4.0                     3.0                       63.0   \n",
              "4                     9.0                     6.0                       83.0   \n",
              "5                     5.0                     5.0                       95.0   \n",
              "6                     6.0                     2.0                      112.0   \n",
              "7                    11.0                     4.0                      137.0   \n",
              "\n",
              "  CUMSUM_power_tirati_jones  CUMSUM_pugni_2_landed_tyson  \\\n",
              "0                       2.0                          6.0   \n",
              "1                      21.0                         14.0   \n",
              "2                      45.0                         22.0   \n",
              "3                      61.0                         26.0   \n",
              "4                      90.0                         35.0   \n",
              "5                     108.0                         40.0   \n",
              "6                     127.0                         46.0   \n",
              "7                     151.0                         57.0   \n",
              "\n",
              "  CUMSUM_pugni_2_landed_jones  TYSON_punteggio_sing  JONES_punteggio_sing  \\\n",
              "0                         0.0                  10.0                   9.0   \n",
              "1                         2.0                  10.0                   9.0   \n",
              "2                         8.0                   9.0                  10.0   \n",
              "3                        11.0                  10.0                   9.0   \n",
              "4                        17.0                  10.0                   9.0   \n",
              "5                        22.0                   9.0                  10.0   \n",
              "6                        24.0                   9.0                  10.0   \n",
              "7                        28.0                   9.0                  10.0   \n",
              "\n",
              "   CUMSUM_punteggio_tyson  CUMSUM_punteggio_jones  \n",
              "0                    10.0                     9.0  \n",
              "1                    20.0                    18.0  \n",
              "2                    29.0                    28.0  \n",
              "3                    39.0                    37.0  \n",
              "4                    49.0                    46.0  \n",
              "5                    58.0                    56.0  \n",
              "6                    67.0                    66.0  \n",
              "7                    76.0                    76.0  \n",
              "\n",
              "[8 rows x 41 columns]"
            ]
          },
          "metadata": {
            "tags": []
          },
          "execution_count": 194
        }
      ]
    },
    {
      "cell_type": "code",
      "metadata": {
        "id": "dRviHp_o53Ex"
      },
      "source": [
        "#Creazione delle nuove liste:\n",
        "#[MEAN:]\n",
        "mean_afinnscore_tyson = [mean_afinnscore_round1_tyson, mean_afinnscore_round2_tyson, mean_afinnscore_round3_tyson, mean_afinnscore_round4_tyson, mean_afinnscore_round5_tyson, mean_afinnscore_round6_tyson, mean_afinnscore_round7_tyson, mean_afinnscore_round8_tyson] \n",
        "mean_afinnscore_jones = [mean_afinnscore_round1_jones, mean_afinnscore_round2_jones, mean_afinnscore_round3_jones, mean_afinnscore_round4_jones, mean_afinnscore_round5_jones, mean_afinnscore_round6_jones, mean_afinnscore_round7_jones, mean_afinnscore_round8_jones] \n",
        "mean_afinn_tyson = [mean_afinn_round1_tyson, mean_afinn_round2_tyson, mean_afinn_round3_tyson, mean_afinn_round4_tyson, mean_afinn_round5_tyson, mean_afinn_round6_tyson, mean_afinn_round7_tyson, mean_afinn_round8_tyson]\n",
        "mean_afinn_jones = [mean_afinn_round1_jones, mean_afinn_round2_jones, mean_afinn_round3_jones, mean_afinn_round4_jones, mean_afinn_round5_jones, mean_afinn_round6_jones, mean_afinn_round7_jones, mean_afinn_round8_jones] \n",
        "#mean_afinnnorm_tyson = [mean_afinnnorm_round1_tyson, mean_afinnnorm_round2_tyson, mean_afinnnorm_round3_tyson, mean_afinnnorm_round4_tyson, mean_afinnnorm_round5_tyson, mean_afinnnorm_round6_tyson, mean_afinnnorm_round7_tyson, mean_afinnnorm_round8_tyson]\n",
        "#mean_afinnnorm_jones = [mean_afinnnorm_round1_jones, mean_afinnnorm_round2_jones, mean_afinnnorm_round3_jones, mean_afinnnorm_round4_jones, mean_afinnnorm_round5_jones, mean_afinnnorm_round6_jones, mean_afinnnorm_round7_jones, mean_afinnnorm_round8_jones] \n",
        "#[STD:]\n",
        "std_afinnscore_tyson = [std_afinnscore_round1_tyson, std_afinnscore_round2_tyson, std_afinnscore_round3_tyson, std_afinnscore_round4_tyson, std_afinnscore_round5_tyson, std_afinnscore_round6_tyson, std_afinnscore_round7_tyson, std_afinnscore_round8_tyson] \n",
        "std_afinnscore_jones = [std_afinnscore_round1_jones, std_afinnscore_round2_jones, std_afinnscore_round3_jones, std_afinnscore_round4_jones, std_afinnscore_round5_jones, std_afinnscore_round6_jones, std_afinnscore_round7_jones, std_afinnscore_round8_jones] \n",
        "std_afinn_tyson = [std_afinn_round1_tyson, std_afinn_round2_tyson, std_afinn_round3_tyson, std_afinn_round4_tyson, std_afinn_round5_tyson, std_afinn_round6_tyson, std_afinn_round7_tyson, std_afinn_round8_tyson]\n",
        "std_afinn_jones = [std_afinn_round1_jones, std_afinn_round2_jones, std_afinn_round3_jones, std_afinn_round4_jones, std_afinn_round5_jones, std_afinn_round6_jones, std_afinn_round7_jones, std_afinn_round8_jones] \n",
        "#Vado a creare le nuove colonne:\n",
        "statistichematch_completo['mean_afinnscore_tyson'] = mean_afinnscore_tyson\n",
        "statistichematch_completo['mean_afinnscore_jones'] = mean_afinnscore_jones\n",
        "statistichematch_completo['mean_afinn_tyson'] = mean_afinn_tyson\n",
        "statistichematch_completo['mean_afinn_jones'] = mean_afinn_jones\n",
        "statistichematch_completo['std_afinnscore_tyson'] = std_afinnscore_tyson\n",
        "statistichematch_completo['std_afinnscore_jones'] = std_afinnscore_jones\n",
        "statistichematch_completo['std_afinn_tyson'] = std_afinn_tyson\n",
        "statistichematch_completo['std_afinn_jones'] = std_afinn_jones\n",
        "#statistichematch_completo['mean_afinnnorm_tyson'] = mean_afinnnorm_tyson\n",
        "#statistichematch_completo['mean_afinnnorm_jones'] = mean_afinnnorm_jones"
      ],
      "execution_count": null,
      "outputs": []
    },
    {
      "cell_type": "code",
      "metadata": {
        "id": "dpRTzKNI53Ey",
        "outputId": "92d28369-c2e4-4072-d88b-8af3180554c9"
      },
      "source": [
        "statistichematch_completo.dtypes"
      ],
      "execution_count": null,
      "outputs": [
        {
          "output_type": "execute_result",
          "data": {
            "text/plain": [
              "TYSON_jab_landed                        object\n",
              "Jab Landed / Thrown Tyson              float64\n",
              "JONES_jab_landed                        object\n",
              "Jab Landed / Thrown Jones              float64\n",
              "ROUND                                   object\n",
              "pugni_tot_tyson                        float64\n",
              "pugni_tot_jones                        float64\n",
              "jab_landed_tyson                       float64\n",
              "jab_landed_jones                       float64\n",
              "CUMSUM_pugni_tyson                     float64\n",
              "CUMSUM_pugni_jones                     float64\n",
              "CUMSUM_jab_landed_tyson                float64\n",
              "CUMSUM_jab_landed_jones                float64\n",
              "TYSON_punches_total                     object\n",
              "Total Punches Landed / Thrown Tyson    float64\n",
              "JONES_punches_total                     object\n",
              "Total Punches Landed / Thrown Jones    float64\n",
              "pugni_tirati_complex_tyson             float64\n",
              "pugni_tirati_complex_jones             float64\n",
              "tot_punch_landed_tyson                 float64\n",
              "tot_punch_landed_jones                 float64\n",
              "CUMSUM_pugni_tirati_tyson              float64\n",
              "CUMSUM_pugni_tirati_jones              float64\n",
              "CUMSUM_pugni_landed_tyson              float64\n",
              "CUMSUM_pugni_landed_jones              float64\n",
              "TYSON_power_total                       object\n",
              "Power Punches landed / Thrown Tyson    float64\n",
              "JONES_power_total                       object\n",
              "Power Punches landed / Thrown Jones    float64\n",
              "power_pugni_tirati_tyson               float64\n",
              "power_pugni_tirati_jones               float64\n",
              "tot_punch_tirati_tyson                 float64\n",
              "tot_punch_tirati_jones                 float64\n",
              "CUMSUM_power_tirati_tyson              float64\n",
              "CUMSUM_power_tirati_jones              float64\n",
              "CUMSUM_pugni_2_landed_tyson            float64\n",
              "CUMSUM_pugni_2_landed_jones            float64\n",
              "TYSON_punteggio_sing                   float64\n",
              "JONES_punteggio_sing                   float64\n",
              "CUMSUM_punteggio_tyson                 float64\n",
              "CUMSUM_punteggio_jones                 float64\n",
              "mean_afinnscore_tyson                  float64\n",
              "mean_afinnscore_jones                  float64\n",
              "mean_afinn_tyson                       float64\n",
              "mean_afinn_jones                       float64\n",
              "std_afinnscore_tyson                   float64\n",
              "std_afinnscore_jones                   float64\n",
              "std_afinn_tyson                        float64\n",
              "std_afinn_jones                        float64\n",
              "dtype: object"
            ]
          },
          "metadata": {
            "tags": []
          },
          "execution_count": 196
        }
      ]
    },
    {
      "cell_type": "code",
      "metadata": {
        "id": "Wl3egfDq53Ez"
      },
      "source": [
        "statistichematch_completo['pugni_tot_tyson'] = statistichematch_completo['pugni_tot_tyson'].astype(str)\n",
        "statistichematch_completo['Jab Landed / Thrown Tyson'] = statistichematch_completo['Jab Landed / Thrown Tyson'].astype(str)\n",
        "statistichematch_completo['Jab Landed / Thrown Jones'] = statistichematch_completo['Jab Landed / Thrown Jones'].astype(str)\n",
        "statistichematch_completo['pugni_tot_jones'] = statistichematch_completo['pugni_tot_jones'].astype(str)\n",
        "statistichematch_completo['jab_landed_tyson'] = statistichematch_completo['jab_landed_tyson'].astype(str)\n",
        "statistichematch_completo['Total Punches Landed / Thrown Tyson'] = statistichematch_completo['Total Punches Landed / Thrown Tyson'].astype(str)\n",
        "statistichematch_completo['Total Punches Landed / Thrown Jones'] = statistichematch_completo['Total Punches Landed / Thrown Jones'].astype(str)\n",
        "statistichematch_completo['jab_landed_jones'] = statistichematch_completo['jab_landed_jones'].astype(str)\n",
        "statistichematch_completo['CUMSUM_pugni_tyson'] = statistichematch_completo['CUMSUM_pugni_tyson'].astype(str)\n",
        "statistichematch_completo['CUMSUM_pugni_jones'] = statistichematch_completo['CUMSUM_pugni_jones'].astype(str)\n",
        "statistichematch_completo['CUMSUM_jab_landed_tyson'] = statistichematch_completo['CUMSUM_jab_landed_tyson'].astype(str)\n",
        "statistichematch_completo['CUMSUM_jab_landed_jones'] = statistichematch_completo['CUMSUM_jab_landed_jones'].astype(str)\n",
        "statistichematch_completo['TYSON_punches_total'] = statistichematch_completo['TYSON_punches_total'].astype(str)\n",
        "statistichematch_completo['JONES_punches_total'] = statistichematch_completo['JONES_punches_total'].astype(str)\n",
        "statistichematch_completo['pugni_tirati_complex_tyson'] = statistichematch_completo['pugni_tirati_complex_tyson'].astype(str)\n",
        "statistichematch_completo['pugni_tirati_complex_jones'] = statistichematch_completo['pugni_tirati_complex_jones'].astype(str)\n",
        "statistichematch_completo['tot_punch_landed_tyson'] = statistichematch_completo['tot_punch_landed_tyson'].astype(str)\n",
        "statistichematch_completo['tot_punch_landed_jones'] = statistichematch_completo['tot_punch_landed_jones'].astype(str)\n",
        "statistichematch_completo['CUMSUM_pugni_tirati_tyson'] = statistichematch_completo['CUMSUM_pugni_tirati_tyson'].astype(str)\n",
        "statistichematch_completo['CUMSUM_pugni_tirati_jones'] = statistichematch_completo['CUMSUM_pugni_tirati_jones'].astype(str)\n",
        "statistichematch_completo['CUMSUM_pugni_landed_tyson'] = statistichematch_completo['CUMSUM_pugni_landed_tyson'].astype(str)\n",
        "statistichematch_completo['CUMSUM_pugni_landed_jones'] = statistichematch_completo['CUMSUM_pugni_landed_jones'].astype(str)\n",
        "statistichematch_completo['TYSON_power_total'] = statistichematch_completo['TYSON_power_total'].astype(str)\n",
        "statistichematch_completo['JONES_power_total'] = statistichematch_completo['JONES_power_total'].astype(str)\n",
        "statistichematch_completo['power_pugni_tirati_tyson'] = statistichematch_completo['power_pugni_tirati_tyson'].astype(str)\n",
        "statistichematch_completo['power_pugni_tirati_jones'] = statistichematch_completo['power_pugni_tirati_jones'].astype(str)\n",
        "statistichematch_completo['CUMSUM_power_tirati_tyson'] = statistichematch_completo['CUMSUM_power_tirati_tyson'].astype(str)\n",
        "statistichematch_completo['CUMSUM_power_tirati_jones'] = statistichematch_completo['CUMSUM_power_tirati_jones'].astype(str)\n",
        "statistichematch_completo['TYSON_punteggio_sing'] = statistichematch_completo['TYSON_punteggio_sing'].astype(str)\n",
        "statistichematch_completo['JONES_punteggio_sing'] = statistichematch_completo['JONES_punteggio_sing'].astype(str)\n",
        "statistichematch_completo['CUMSUM_punteggio_tyson'] = statistichematch_completo['CUMSUM_punteggio_tyson'].astype(str)\n",
        "statistichematch_completo['CUMSUM_punteggio_jones'] = statistichematch_completo['CUMSUM_punteggio_jones'].astype(str)\n",
        "statistichematch_completo['mean_afinnscore_tyson'] = statistichematch_completo['mean_afinnscore_tyson'].astype(str)\n",
        "statistichematch_completo['mean_afinnscore_jones'] = statistichematch_completo['mean_afinnscore_jones'].astype(str)\n",
        "statistichematch_completo['mean_afinn_tyson'] = statistichematch_completo['mean_afinn_tyson'].astype(str)\n",
        "statistichematch_completo['mean_afinn_jones'] = statistichematch_completo['mean_afinn_jones'].astype(str)\n",
        "statistichematch_completo['std_afinnscore_tyson'] = statistichematch_completo['std_afinn_tyson'].astype(str)\n",
        "statistichematch_completo['std_afinnscore_jones'] = statistichematch_completo['std_afinn_jones'].astype(str)\n",
        "statistichematch_completo['std_afinn_tyson'] = statistichematch_completo['std_afinn_tyson'].astype(str)\n",
        "statistichematch_completo['std_afinn_jones'] = statistichematch_completo['std_afinn_jones'].astype(str)\n",
        "statistichematch_completo['Power Punches landed / Thrown Tyson'] = statistichematch_completo['Power Punches landed / Thrown Tyson'].astype(str)\n",
        "statistichematch_completo['Power Punches landed / Thrown Jones'] = statistichematch_completo['Power Punches landed / Thrown Jones'].astype(str)\n",
        "\n",
        "#statistichematch_completo['mean_afinnnorm_jones'] = statistichematch_completo['mean_afinnnorm_jones'].apply(lambda x: x.replace('.', ','))"
      ],
      "execution_count": null,
      "outputs": []
    },
    {
      "cell_type": "code",
      "metadata": {
        "id": "XT6azh0K53Ez"
      },
      "source": [
        "statistichematch_completo['pugni_tot_tyson'] = statistichematch_completo['pugni_tot_tyson'].apply(lambda x: x.replace('.', ','))\n",
        "statistichematch_completo['Jab Landed / Thrown Tyson'] = statistichematch_completo['Jab Landed / Thrown Tyson'].apply(lambda x: x.replace('.', ','))\n",
        "statistichematch_completo['Jab Landed / Thrown Jones'] = statistichematch_completo['Jab Landed / Thrown Jones'].apply(lambda x: x.replace('.', ','))\n",
        "statistichematch_completo['pugni_tot_jones'] = statistichematch_completo['pugni_tot_jones'].apply(lambda x: x.replace('.', ','))\n",
        "statistichematch_completo['jab_landed_tyson'] = statistichematch_completo['jab_landed_tyson'].apply(lambda x: x.replace('.', ','))\n",
        "statistichematch_completo['jab_landed_jones'] = statistichematch_completo['jab_landed_jones'].apply(lambda x: x.replace('.', ','))\n",
        "statistichematch_completo['CUMSUM_pugni_tyson'] = statistichematch_completo['CUMSUM_pugni_tyson'].apply(lambda x: x.replace('.', ','))\n",
        "statistichematch_completo['CUMSUM_pugni_jones'] = statistichematch_completo['CUMSUM_pugni_jones'].apply(lambda x: x.replace('.', ','))\n",
        "statistichematch_completo['CUMSUM_jab_landed_tyson'] = statistichematch_completo['CUMSUM_jab_landed_tyson'].apply(lambda x: x.replace('.', ','))\n",
        "statistichematch_completo['CUMSUM_jab_landed_jones'] = statistichematch_completo['CUMSUM_jab_landed_jones'].apply(lambda x: x.replace('.', ','))\n",
        "statistichematch_completo['TYSON_punches_total'] = statistichematch_completo['TYSON_punches_total'].apply(lambda x: x.replace('.', ','))\n",
        "statistichematch_completo['JONES_punches_total'] = statistichematch_completo['JONES_punches_total'].apply(lambda x: x.replace('.', ','))\n",
        "statistichematch_completo['pugni_tirati_complex_tyson'] = statistichematch_completo['pugni_tirati_complex_tyson'].apply(lambda x: x.replace('.', ','))\n",
        "statistichematch_completo['pugni_tirati_complex_jones'] = statistichematch_completo['pugni_tirati_complex_jones'].apply(lambda x: x.replace('.', ','))\n",
        "statistichematch_completo['tot_punch_landed_tyson'] = statistichematch_completo['tot_punch_landed_tyson'].apply(lambda x: x.replace('.', ','))\n",
        "statistichematch_completo['tot_punch_landed_jones'] = statistichematch_completo['tot_punch_landed_jones'].apply(lambda x: x.replace('.', ','))\n",
        "statistichematch_completo['CUMSUM_pugni_tirati_tyson'] = statistichematch_completo['CUMSUM_pugni_tirati_tyson'].apply(lambda x: x.replace('.', ','))\n",
        "statistichematch_completo['CUMSUM_pugni_tirati_jones'] = statistichematch_completo['CUMSUM_pugni_tirati_jones'].apply(lambda x: x.replace('.', ','))\n",
        "statistichematch_completo['CUMSUM_pugni_landed_tyson'] = statistichematch_completo['CUMSUM_pugni_landed_tyson'].apply(lambda x: x.replace('.', ','))\n",
        "statistichematch_completo['CUMSUM_pugni_landed_jones'] = statistichematch_completo['CUMSUM_pugni_landed_jones'].apply(lambda x: x.replace('.', ','))\n",
        "statistichematch_completo['TYSON_power_total'] = statistichematch_completo['TYSON_power_total'].apply(lambda x: x.replace('.', ','))\n",
        "statistichematch_completo['JONES_power_total'] = statistichematch_completo['JONES_power_total'].apply(lambda x: x.replace('.', ','))\n",
        "statistichematch_completo['power_pugni_tirati_tyson'] = statistichematch_completo['power_pugni_tirati_tyson'].apply(lambda x: x.replace('.', ','))\n",
        "statistichematch_completo['power_pugni_tirati_jones'] = statistichematch_completo['power_pugni_tirati_jones'].apply(lambda x: x.replace('.', ','))\n",
        "statistichematch_completo['CUMSUM_power_tirati_tyson'] = statistichematch_completo['CUMSUM_power_tirati_tyson'].apply(lambda x: x.replace('.', ','))\n",
        "statistichematch_completo['CUMSUM_power_tirati_jones'] = statistichematch_completo['CUMSUM_power_tirati_jones'].apply(lambda x: x.replace('.', ','))\n",
        "statistichematch_completo['TYSON_punteggio_sing'] = statistichematch_completo['TYSON_punteggio_sing'].apply(lambda x: x.replace('.', ','))\n",
        "statistichematch_completo['JONES_punteggio_sing'] = statistichematch_completo['JONES_punteggio_sing'].apply(lambda x: x.replace('.', ','))\n",
        "statistichematch_completo['CUMSUM_punteggio_tyson'] = statistichematch_completo['CUMSUM_punteggio_tyson'].apply(lambda x: x.replace('.', ','))\n",
        "statistichematch_completo['CUMSUM_punteggio_jones'] = statistichematch_completo['CUMSUM_punteggio_jones'].apply(lambda x: x.replace('.', ','))\n",
        "statistichematch_completo['mean_afinnscore_tyson'] = statistichematch_completo['mean_afinnscore_tyson'].apply(lambda x: x.replace('.', ','))\n",
        "statistichematch_completo['mean_afinnscore_jones'] = statistichematch_completo['mean_afinnscore_jones'].apply(lambda x: x.replace('.', ','))\n",
        "statistichematch_completo['mean_afinn_tyson'] = statistichematch_completo['mean_afinn_tyson'].apply(lambda x: x.replace('.', ','))\n",
        "statistichematch_completo['mean_afinn_jones'] = statistichematch_completo['mean_afinn_jones'].apply(lambda x: x.replace('.', ','))\n",
        "statistichematch_completo['std_afinnscore_tyson'] = statistichematch_completo['std_afinn_tyson'].apply(lambda x: x.replace('.', ','))\n",
        "statistichematch_completo['std_afinnscore_jones'] = statistichematch_completo['std_afinn_jones'].apply(lambda x: x.replace('.', ','))\n",
        "statistichematch_completo['std_afinn_tyson'] = statistichematch_completo['std_afinn_tyson'].apply(lambda x: x.replace('.', ','))\n",
        "statistichematch_completo['std_afinn_jones'] = statistichematch_completo['std_afinn_jones'].apply(lambda x: x.replace('.', ','))\n",
        "statistichematch_completo['Total Punches Landed / Thrown Tyson'] = statistichematch_completo['Total Punches Landed / Thrown Tyson'].apply(lambda x: x.replace('.', ','))\n",
        "statistichematch_completo['Total Punches Landed / Thrown Jones'] = statistichematch_completo['Total Punches Landed / Thrown Jones'].apply(lambda x: x.replace('.', ','))\n",
        "statistichematch_completo['Power Punches landed / Thrown Tyson'] = statistichematch_completo['Power Punches landed / Thrown Tyson'].apply(lambda x: x.replace('.', ','))\n",
        "statistichematch_completo['Power Punches landed / Thrown Jones'] = statistichematch_completo['Power Punches landed / Thrown Jones'].apply(lambda x: x.replace('.', ','))\n",
        "#statistichematch_completo['pugni_tot_tyson'] = statistichematch_completo['pugni_tot_tyson'].apply(lambda x: x.replace('.', ','))\n",
        "#statistichematch_completo['mean_afinnscore_tyson'] = statistichematch_completo['mean_afinnscore_tyson'].apply(lambda x: x.replace('.', ','))"
      ],
      "execution_count": null,
      "outputs": []
    },
    {
      "cell_type": "code",
      "metadata": {
        "id": "e_vX4hP353E0",
        "outputId": "85a72f5a-a921-4650-d9db-a1b4d2de65ef"
      },
      "source": [
        "statistichematch_completo"
      ],
      "execution_count": null,
      "outputs": [
        {
          "output_type": "execute_result",
          "data": {
            "text/html": [
              "<div>\n",
              "<style scoped>\n",
              "    .dataframe tbody tr th:only-of-type {\n",
              "        vertical-align: middle;\n",
              "    }\n",
              "\n",
              "    .dataframe tbody tr th {\n",
              "        vertical-align: top;\n",
              "    }\n",
              "\n",
              "    .dataframe thead th {\n",
              "        text-align: right;\n",
              "    }\n",
              "</style>\n",
              "<table border=\"1\" class=\"dataframe\">\n",
              "  <thead>\n",
              "    <tr style=\"text-align: right;\">\n",
              "      <th></th>\n",
              "      <th>TYSON_jab_landed</th>\n",
              "      <th>Jab Landed / Thrown Tyson</th>\n",
              "      <th>JONES_jab_landed</th>\n",
              "      <th>Jab Landed / Thrown Jones</th>\n",
              "      <th>ROUND</th>\n",
              "      <th>pugni_tot_tyson</th>\n",
              "      <th>pugni_tot_jones</th>\n",
              "      <th>jab_landed_tyson</th>\n",
              "      <th>jab_landed_jones</th>\n",
              "      <th>CUMSUM_pugni_tyson</th>\n",
              "      <th>...</th>\n",
              "      <th>CUMSUM_punteggio_tyson</th>\n",
              "      <th>CUMSUM_punteggio_jones</th>\n",
              "      <th>mean_afinnscore_tyson</th>\n",
              "      <th>mean_afinnscore_jones</th>\n",
              "      <th>mean_afinn_tyson</th>\n",
              "      <th>mean_afinn_jones</th>\n",
              "      <th>std_afinnscore_tyson</th>\n",
              "      <th>std_afinnscore_jones</th>\n",
              "      <th>std_afinn_tyson</th>\n",
              "      <th>std_afinn_jones</th>\n",
              "    </tr>\n",
              "  </thead>\n",
              "  <tbody>\n",
              "    <tr>\n",
              "      <td>0</td>\n",
              "      <td>1/11</td>\n",
              "      <td>0,091</td>\n",
              "      <td>2/16</td>\n",
              "      <td>0,125</td>\n",
              "      <td>1</td>\n",
              "      <td>11,0</td>\n",
              "      <td>16,0</td>\n",
              "      <td>1,0</td>\n",
              "      <td>2,0</td>\n",
              "      <td>11,0</td>\n",
              "      <td>...</td>\n",
              "      <td>10,0</td>\n",
              "      <td>9,0</td>\n",
              "      <td>9,04862664761846</td>\n",
              "      <td>9,036463842342657</td>\n",
              "      <td>0,05920644761314321</td>\n",
              "      <td>-0,08066581306017925</td>\n",
              "      <td>2,2793778267448976</td>\n",
              "      <td>2,530814719782594</td>\n",
              "      <td>2,2793778267448976</td>\n",
              "      <td>2,530814719782594</td>\n",
              "    </tr>\n",
              "    <tr>\n",
              "      <td>1</td>\n",
              "      <td>0/5</td>\n",
              "      <td>0,0</td>\n",
              "      <td>2/13</td>\n",
              "      <td>0,154</td>\n",
              "      <td>2</td>\n",
              "      <td>5,0</td>\n",
              "      <td>13,0</td>\n",
              "      <td>0,0</td>\n",
              "      <td>2,0</td>\n",
              "      <td>16,0</td>\n",
              "      <td>...</td>\n",
              "      <td>20,0</td>\n",
              "      <td>18,0</td>\n",
              "      <td>9,176517660044235</td>\n",
              "      <td>9,185547785547802</td>\n",
              "      <td>0,11821192052980133</td>\n",
              "      <td>0,22657342657342658</td>\n",
              "      <td>2,5899388961991954</td>\n",
              "      <td>2,228946035018326</td>\n",
              "      <td>2,5899388961991954</td>\n",
              "      <td>2,228946035018326</td>\n",
              "    </tr>\n",
              "    <tr>\n",
              "      <td>2</td>\n",
              "      <td>1/7</td>\n",
              "      <td>0,143</td>\n",
              "      <td>0/6</td>\n",
              "      <td>0,0</td>\n",
              "      <td>3</td>\n",
              "      <td>7,0</td>\n",
              "      <td>6,0</td>\n",
              "      <td>1,0</td>\n",
              "      <td>0,0</td>\n",
              "      <td>23,0</td>\n",
              "      <td>...</td>\n",
              "      <td>29,0</td>\n",
              "      <td>28,0</td>\n",
              "      <td>9,09552962920181</td>\n",
              "      <td>9,083838383838353</td>\n",
              "      <td>0,05082592121982211</td>\n",
              "      <td>-0,07777777777777778</td>\n",
              "      <td>2,5544826742061426</td>\n",
              "      <td>2,369485661305987</td>\n",
              "      <td>2,5544826742061426</td>\n",
              "      <td>2,369485661305987</td>\n",
              "    </tr>\n",
              "    <tr>\n",
              "      <td>3</td>\n",
              "      <td>2/6</td>\n",
              "      <td>0,333</td>\n",
              "      <td>0/12</td>\n",
              "      <td>0,0</td>\n",
              "      <td>4</td>\n",
              "      <td>6,0</td>\n",
              "      <td>12,0</td>\n",
              "      <td>2,0</td>\n",
              "      <td>0,0</td>\n",
              "      <td>29,0</td>\n",
              "      <td>...</td>\n",
              "      <td>39,0</td>\n",
              "      <td>37,0</td>\n",
              "      <td>9,176597382602017</td>\n",
              "      <td>9,151457883369343</td>\n",
              "      <td>0,11916859122401847</td>\n",
              "      <td>-0,18250539956803455</td>\n",
              "      <td>2,583830577740358</td>\n",
              "      <td>2,1840098473872085</td>\n",
              "      <td>2,583830577740358</td>\n",
              "      <td>2,1840098473872085</td>\n",
              "    </tr>\n",
              "    <tr>\n",
              "      <td>4</td>\n",
              "      <td>3/10</td>\n",
              "      <td>0,3</td>\n",
              "      <td>3/13</td>\n",
              "      <td>0,231</td>\n",
              "      <td>5</td>\n",
              "      <td>10,0</td>\n",
              "      <td>13,0</td>\n",
              "      <td>3,0</td>\n",
              "      <td>3,0</td>\n",
              "      <td>39,0</td>\n",
              "      <td>...</td>\n",
              "      <td>49,0</td>\n",
              "      <td>46,0</td>\n",
              "      <td>9,371162152896972</td>\n",
              "      <td>9,34168553459113</td>\n",
              "      <td>0,1395269112101474</td>\n",
              "      <td>-0,2289308176100629</td>\n",
              "      <td>2,4176571368277635</td>\n",
              "      <td>2,094232992697202</td>\n",
              "      <td>2,4176571368277635</td>\n",
              "      <td>2,094232992697202</td>\n",
              "    </tr>\n",
              "    <tr>\n",
              "      <td>5</td>\n",
              "      <td>1/7</td>\n",
              "      <td>0,143</td>\n",
              "      <td>1/10</td>\n",
              "      <td>0,1</td>\n",
              "      <td>6</td>\n",
              "      <td>7,0</td>\n",
              "      <td>10,0</td>\n",
              "      <td>1,0</td>\n",
              "      <td>1,0</td>\n",
              "      <td>46,0</td>\n",
              "      <td>...</td>\n",
              "      <td>58,0</td>\n",
              "      <td>56,0</td>\n",
              "      <td>9,011081492764657</td>\n",
              "      <td>8,992926829268283</td>\n",
              "      <td>0,11081492764661081</td>\n",
              "      <td>-0,07073170731707316</td>\n",
              "      <td>2,3543882316142644</td>\n",
              "      <td>2,0766442243201904</td>\n",
              "      <td>2,3543882316142644</td>\n",
              "      <td>2,0766442243201904</td>\n",
              "    </tr>\n",
              "    <tr>\n",
              "      <td>6</td>\n",
              "      <td>2/6</td>\n",
              "      <td>0,333</td>\n",
              "      <td>0/6</td>\n",
              "      <td>0,0</td>\n",
              "      <td>7</td>\n",
              "      <td>6,0</td>\n",
              "      <td>6,0</td>\n",
              "      <td>2,0</td>\n",
              "      <td>0,0</td>\n",
              "      <td>52,0</td>\n",
              "      <td>...</td>\n",
              "      <td>67,0</td>\n",
              "      <td>66,0</td>\n",
              "      <td>9,01420295924064</td>\n",
              "      <td>8,96809972516687</td>\n",
              "      <td>0,1704355108877722</td>\n",
              "      <td>-0,3828032979976443</td>\n",
              "      <td>2,3800624828596995</td>\n",
              "      <td>2,0742664446007586</td>\n",
              "      <td>2,3800624828596995</td>\n",
              "      <td>2,0742664446007586</td>\n",
              "    </tr>\n",
              "    <tr>\n",
              "      <td>7</td>\n",
              "      <td>0/4</td>\n",
              "      <td>0,0</td>\n",
              "      <td>1/9</td>\n",
              "      <td>0,111</td>\n",
              "      <td>8</td>\n",
              "      <td>4,0</td>\n",
              "      <td>9,0</td>\n",
              "      <td>0,0</td>\n",
              "      <td>1,0</td>\n",
              "      <td>56,0</td>\n",
              "      <td>...</td>\n",
              "      <td>76,0</td>\n",
              "      <td>76,0</td>\n",
              "      <td>9,091371197636848</td>\n",
              "      <td>9,079866928342202</td>\n",
              "      <td>0,18782556928114302</td>\n",
              "      <td>0,03827006845052894</td>\n",
              "      <td>2,538801717483598</td>\n",
              "      <td>2,007943514095569</td>\n",
              "      <td>2,538801717483598</td>\n",
              "      <td>2,007943514095569</td>\n",
              "    </tr>\n",
              "  </tbody>\n",
              "</table>\n",
              "<p>8 rows × 49 columns</p>\n",
              "</div>"
            ],
            "text/plain": [
              "  TYSON_jab_landed Jab Landed / Thrown Tyson JONES_jab_landed  \\\n",
              "0             1/11                     0,091             2/16   \n",
              "1              0/5                       0,0             2/13   \n",
              "2              1/7                     0,143              0/6   \n",
              "3              2/6                     0,333             0/12   \n",
              "4             3/10                       0,3             3/13   \n",
              "5              1/7                     0,143             1/10   \n",
              "6              2/6                     0,333              0/6   \n",
              "7              0/4                       0,0              1/9   \n",
              "\n",
              "  Jab Landed / Thrown Jones ROUND pugni_tot_tyson pugni_tot_jones  \\\n",
              "0                     0,125     1            11,0            16,0   \n",
              "1                     0,154     2             5,0            13,0   \n",
              "2                       0,0     3             7,0             6,0   \n",
              "3                       0,0     4             6,0            12,0   \n",
              "4                     0,231     5            10,0            13,0   \n",
              "5                       0,1     6             7,0            10,0   \n",
              "6                       0,0     7             6,0             6,0   \n",
              "7                     0,111     8             4,0             9,0   \n",
              "\n",
              "  jab_landed_tyson jab_landed_jones CUMSUM_pugni_tyson  ...  \\\n",
              "0              1,0              2,0               11,0  ...   \n",
              "1              0,0              2,0               16,0  ...   \n",
              "2              1,0              0,0               23,0  ...   \n",
              "3              2,0              0,0               29,0  ...   \n",
              "4              3,0              3,0               39,0  ...   \n",
              "5              1,0              1,0               46,0  ...   \n",
              "6              2,0              0,0               52,0  ...   \n",
              "7              0,0              1,0               56,0  ...   \n",
              "\n",
              "  CUMSUM_punteggio_tyson CUMSUM_punteggio_jones mean_afinnscore_tyson  \\\n",
              "0                   10,0                    9,0      9,04862664761846   \n",
              "1                   20,0                   18,0     9,176517660044235   \n",
              "2                   29,0                   28,0      9,09552962920181   \n",
              "3                   39,0                   37,0     9,176597382602017   \n",
              "4                   49,0                   46,0     9,371162152896972   \n",
              "5                   58,0                   56,0     9,011081492764657   \n",
              "6                   67,0                   66,0      9,01420295924064   \n",
              "7                   76,0                   76,0     9,091371197636848   \n",
              "\n",
              "  mean_afinnscore_jones     mean_afinn_tyson      mean_afinn_jones  \\\n",
              "0     9,036463842342657  0,05920644761314321  -0,08066581306017925   \n",
              "1     9,185547785547802  0,11821192052980133   0,22657342657342658   \n",
              "2     9,083838383838353  0,05082592121982211  -0,07777777777777778   \n",
              "3     9,151457883369343  0,11916859122401847  -0,18250539956803455   \n",
              "4      9,34168553459113   0,1395269112101474   -0,2289308176100629   \n",
              "5     8,992926829268283  0,11081492764661081  -0,07073170731707316   \n",
              "6      8,96809972516687   0,1704355108877722   -0,3828032979976443   \n",
              "7     9,079866928342202  0,18782556928114302   0,03827006845052894   \n",
              "\n",
              "  std_afinnscore_tyson std_afinnscore_jones     std_afinn_tyson  \\\n",
              "0   2,2793778267448976    2,530814719782594  2,2793778267448976   \n",
              "1   2,5899388961991954    2,228946035018326  2,5899388961991954   \n",
              "2   2,5544826742061426    2,369485661305987  2,5544826742061426   \n",
              "3    2,583830577740358   2,1840098473872085   2,583830577740358   \n",
              "4   2,4176571368277635    2,094232992697202  2,4176571368277635   \n",
              "5   2,3543882316142644   2,0766442243201904  2,3543882316142644   \n",
              "6   2,3800624828596995   2,0742664446007586  2,3800624828596995   \n",
              "7    2,538801717483598    2,007943514095569   2,538801717483598   \n",
              "\n",
              "      std_afinn_jones  \n",
              "0   2,530814719782594  \n",
              "1   2,228946035018326  \n",
              "2   2,369485661305987  \n",
              "3  2,1840098473872085  \n",
              "4   2,094232992697202  \n",
              "5  2,0766442243201904  \n",
              "6  2,0742664446007586  \n",
              "7   2,007943514095569  \n",
              "\n",
              "[8 rows x 49 columns]"
            ]
          },
          "metadata": {
            "tags": []
          },
          "execution_count": 199
        }
      ]
    },
    {
      "cell_type": "code",
      "metadata": {
        "id": "mVVzPkTN53E0"
      },
      "source": [
        "statistichematch_completo.to_csv(r'/Users/matteo/Desktop/DATA SCIENCE/Data Management/Progettto/ESPERIMENTITABLEAU/statistichematch_completo.csv')"
      ],
      "execution_count": null,
      "outputs": []
    },
    {
      "cell_type": "markdown",
      "metadata": {
        "id": "FWI_I3D_53E1"
      },
      "source": [
        "# UNIONE ANDAMENTI SENTIMENT # "
      ]
    },
    {
      "cell_type": "code",
      "metadata": {
        "id": "j8Tk8qdm53E3",
        "outputId": "bb0edcf3-5edd-4ec9-a9f7-d7886013d013"
      },
      "source": [
        "sentimentminuti_completo = pd.merge(tweets_preincontro_andamentisentiment, tweets_incontro_andamentisentiment, how='left')\n",
        "sentimentminuti_completo = pd.merge(sentimentminuti_completo, tweets_afterincontro_andamentisentiment, how='left')\n",
        "sentimentminuti_completo"
      ],
      "execution_count": null,
      "outputs": [
        {
          "output_type": "execute_result",
          "data": {
            "text/html": [
              "<div>\n",
              "<style scoped>\n",
              "    .dataframe tbody tr th:only-of-type {\n",
              "        vertical-align: middle;\n",
              "    }\n",
              "\n",
              "    .dataframe tbody tr th {\n",
              "        vertical-align: top;\n",
              "    }\n",
              "\n",
              "    .dataframe thead th {\n",
              "        text-align: right;\n",
              "    }\n",
              "</style>\n",
              "<table border=\"1\" class=\"dataframe\">\n",
              "  <thead>\n",
              "    <tr style=\"text-align: right;\">\n",
              "      <th></th>\n",
              "      <th>Date_time_italy</th>\n",
              "      <th>Afinnscore_mean_tyson</th>\n",
              "      <th>afinn_mean_tyson</th>\n",
              "      <th>Afinnscore_mean_jones</th>\n",
              "      <th>afinn_mean_jones</th>\n",
              "      <th>Afinnscore_std_tyson</th>\n",
              "      <th>afinn_std_tyson</th>\n",
              "      <th>Afinnscore_std_jones</th>\n",
              "      <th>afinn_std_jones</th>\n",
              "    </tr>\n",
              "  </thead>\n",
              "  <tbody>\n",
              "    <tr>\n",
              "      <td>0</td>\n",
              "      <td>2020-11-27 14:30:00</td>\n",
              "      <td>9,072346179851252</td>\n",
              "      <td>-2,6551724137931036</td>\n",
              "      <td>9,217927170868345</td>\n",
              "      <td>1,0571428571428572</td>\n",
              "      <td>0,11916659301202395</td>\n",
              "      <td>3,0387481218066186</td>\n",
              "      <td>0,09053661804130518</td>\n",
              "      <td>2,3086837600532792</td>\n",
              "    </tr>\n",
              "    <tr>\n",
              "      <td>1</td>\n",
              "      <td>2020-11-27 14:40:00</td>\n",
              "      <td>9,148459383753496</td>\n",
              "      <td>-0,7142857142857143</td>\n",
              "      <td>9,22598313068244</td>\n",
              "      <td>1,2625698324022345</td>\n",
              "      <td>0,12045955902175376</td>\n",
              "      <td>3,0717187550547176</td>\n",
              "      <td>0,09751608471209045</td>\n",
              "      <td>2,486660160158302</td>\n",
              "    </tr>\n",
              "    <tr>\n",
              "      <td>2</td>\n",
              "      <td>2020-11-27 14:50:00</td>\n",
              "      <td>9,126860382707298</td>\n",
              "      <td>-1,2650602409638554</td>\n",
              "      <td>9,196899224806195</td>\n",
              "      <td>0,5209302325581395</td>\n",
              "      <td>0,11892882773532926</td>\n",
              "      <td>3,032685107250901</td>\n",
              "      <td>0,11554085006966647</td>\n",
              "      <td>2,946291676776499</td>\n",
              "    </tr>\n",
              "    <tr>\n",
              "      <td>3</td>\n",
              "      <td>2020-11-27 15:00:00</td>\n",
              "      <td>9,140133117467162</td>\n",
              "      <td>-0,926605504587156</td>\n",
              "      <td>9,208287088420274</td>\n",
              "      <td>0,8113207547169812</td>\n",
              "      <td>0,11241151395868734</td>\n",
              "      <td>2,8664936059465376</td>\n",
              "      <td>0,10675915102079064</td>\n",
              "      <td>2,722358351030163</td>\n",
              "    </tr>\n",
              "    <tr>\n",
              "      <td>4</td>\n",
              "      <td>2020-11-27 15:10:00</td>\n",
              "      <td>9,152129817444216</td>\n",
              "      <td>-0,6206896551724138</td>\n",
              "      <td>9,19401916017549</td>\n",
              "      <td>0,4474885844748858</td>\n",
              "      <td>0,11366436700595046</td>\n",
              "      <td>2,898441358651733</td>\n",
              "      <td>0,10023256586783598</td>\n",
              "      <td>2,555930429629808</td>\n",
              "    </tr>\n",
              "    <tr>\n",
              "      <td>...</td>\n",
              "      <td>...</td>\n",
              "      <td>...</td>\n",
              "      <td>...</td>\n",
              "      <td>...</td>\n",
              "      <td>...</td>\n",
              "      <td>...</td>\n",
              "      <td>...</td>\n",
              "      <td>...</td>\n",
              "      <td>...</td>\n",
              "    </tr>\n",
              "    <tr>\n",
              "      <td>232</td>\n",
              "      <td>2020-11-29 05:10:00</td>\n",
              "      <td>9,182630341001289</td>\n",
              "      <td>0,157073695535234</td>\n",
              "      <td>9,187545711001928</td>\n",
              "      <td>0,2824156305506217</td>\n",
              "      <td>0,10804715408407296</td>\n",
              "      <td>2,7552024291438637</td>\n",
              "      <td>0,08314125580929509</td>\n",
              "      <td>2,1201020231370222</td>\n",
              "    </tr>\n",
              "    <tr>\n",
              "      <td>233</td>\n",
              "      <td>2020-11-29 05:20:00</td>\n",
              "      <td>9,193818990456114</td>\n",
              "      <td>0,4423842566260949</td>\n",
              "      <td>9,189506768098921</td>\n",
              "      <td>0,3324225865209472</td>\n",
              "      <td>0,1188091406255537</td>\n",
              "      <td>3,0296330859516187</td>\n",
              "      <td>0,09501412406599946</td>\n",
              "      <td>2,422860163682986</td>\n",
              "    </tr>\n",
              "    <tr>\n",
              "      <td>234</td>\n",
              "      <td>2020-11-29 05:30:00</td>\n",
              "      <td>9,184869749998967</td>\n",
              "      <td>0,21417862497322768</td>\n",
              "      <td>9,181875102982305</td>\n",
              "      <td>0,13781512605042018</td>\n",
              "      <td>0,11252848686182694</td>\n",
              "      <td>2,869476414976581</td>\n",
              "      <td>0,08933716551734407</td>\n",
              "      <td>2,278097720692275</td>\n",
              "    </tr>\n",
              "    <tr>\n",
              "      <td>235</td>\n",
              "      <td>2020-11-29 05:40:00</td>\n",
              "      <td>9,185058886678714</td>\n",
              "      <td>0,21900161030595813</td>\n",
              "      <td>9,188780143275242</td>\n",
              "      <td>0,313893653516295</td>\n",
              "      <td>0,10869075404331639</td>\n",
              "      <td>2,7716142281045677</td>\n",
              "      <td>0,08489028182194257</td>\n",
              "      <td>2,164702186459535</td>\n",
              "    </tr>\n",
              "    <tr>\n",
              "      <td>236</td>\n",
              "      <td>2020-11-29 05:50:00</td>\n",
              "      <td>9,17549275436495</td>\n",
              "      <td>-0,02493476369962308</td>\n",
              "      <td>9,190077719564057</td>\n",
              "      <td>0,34698184888138456</td>\n",
              "      <td>0,09432470750793026</td>\n",
              "      <td>2,4052800414522024</td>\n",
              "      <td>0,08544877568909712</td>\n",
              "      <td>2,1789437800719695</td>\n",
              "    </tr>\n",
              "  </tbody>\n",
              "</table>\n",
              "<p>237 rows × 9 columns</p>\n",
              "</div>"
            ],
            "text/plain": [
              "        Date_time_italy Afinnscore_mean_tyson      afinn_mean_tyson  \\\n",
              "0   2020-11-27 14:30:00     9,072346179851252   -2,6551724137931036   \n",
              "1   2020-11-27 14:40:00     9,148459383753496   -0,7142857142857143   \n",
              "2   2020-11-27 14:50:00     9,126860382707298   -1,2650602409638554   \n",
              "3   2020-11-27 15:00:00     9,140133117467162    -0,926605504587156   \n",
              "4   2020-11-27 15:10:00     9,152129817444216   -0,6206896551724138   \n",
              "..                  ...                   ...                   ...   \n",
              "232 2020-11-29 05:10:00     9,182630341001289     0,157073695535234   \n",
              "233 2020-11-29 05:20:00     9,193818990456114    0,4423842566260949   \n",
              "234 2020-11-29 05:30:00     9,184869749998967   0,21417862497322768   \n",
              "235 2020-11-29 05:40:00     9,185058886678714   0,21900161030595813   \n",
              "236 2020-11-29 05:50:00      9,17549275436495  -0,02493476369962308   \n",
              "\n",
              "    Afinnscore_mean_jones     afinn_mean_jones Afinnscore_std_tyson  \\\n",
              "0       9,217927170868345   1,0571428571428572  0,11916659301202395   \n",
              "1        9,22598313068244   1,2625698324022345  0,12045955902175376   \n",
              "2       9,196899224806195   0,5209302325581395  0,11892882773532926   \n",
              "3       9,208287088420274   0,8113207547169812  0,11241151395868734   \n",
              "4        9,19401916017549   0,4474885844748858  0,11366436700595046   \n",
              "..                    ...                  ...                  ...   \n",
              "232     9,187545711001928   0,2824156305506217  0,10804715408407296   \n",
              "233     9,189506768098921   0,3324225865209472   0,1188091406255537   \n",
              "234     9,181875102982305  0,13781512605042018  0,11252848686182694   \n",
              "235     9,188780143275242    0,313893653516295  0,10869075404331639   \n",
              "236     9,190077719564057  0,34698184888138456  0,09432470750793026   \n",
              "\n",
              "        afinn_std_tyson Afinnscore_std_jones     afinn_std_jones  \n",
              "0    3,0387481218066186  0,09053661804130518  2,3086837600532792  \n",
              "1    3,0717187550547176  0,09751608471209045   2,486660160158302  \n",
              "2     3,032685107250901  0,11554085006966647   2,946291676776499  \n",
              "3    2,8664936059465376  0,10675915102079064   2,722358351030163  \n",
              "4     2,898441358651733  0,10023256586783598   2,555930429629808  \n",
              "..                  ...                  ...                 ...  \n",
              "232  2,7552024291438637  0,08314125580929509  2,1201020231370222  \n",
              "233  3,0296330859516187  0,09501412406599946   2,422860163682986  \n",
              "234   2,869476414976581  0,08933716551734407   2,278097720692275  \n",
              "235  2,7716142281045677  0,08489028182194257   2,164702186459535  \n",
              "236  2,4052800414522024  0,08544877568909712  2,1789437800719695  \n",
              "\n",
              "[237 rows x 9 columns]"
            ]
          },
          "metadata": {
            "tags": []
          },
          "execution_count": 192
        }
      ]
    },
    {
      "cell_type": "code",
      "metadata": {
        "id": "xp69kZQY53E3"
      },
      "source": [
        "sentimentminuti_completo.to_csv(r'/Users/matteo/Desktop/DATA SCIENCE/Data Management/Progettto/ESPERIMENTITABLEAU/sentimentminuti_completo.csv')"
      ],
      "execution_count": null,
      "outputs": []
    }
  ]
}
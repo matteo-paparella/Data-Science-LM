{
  "nbformat": 4,
  "nbformat_minor": 0,
  "metadata": {
    "colab": {
      "name": "Kafka consumer.ipynb",
      "provenance": []
    },
    "kernelspec": {
      "name": "python3",
      "display_name": "Python 3"
    }
  },
  "cells": [
    {
      "cell_type": "code",
      "metadata": {
        "id": "tZSixcAjzNl1"
      },
      "source": [
        "from kafka import KafkaConsumer\r\n",
        "from pymongo import MongoClient\r\n",
        "import time\r\n",
        "import json\r\n",
        "\r\n",
        "\r\n",
        "consumer = KafkaConsumer(bootstrap_servers='Kafka:9092')\r\n",
        "consumer.subscribe('Tysonjones') #TOPIC NAME \r\n",
        "\r\n",
        "client = MongoClient('mongo', 27017, username='admin', password='DataMan2019!')\r\n",
        "db = client.Progetto\r\n",
        "\r\n",
        "\r\n",
        "while(True):\r\n",
        "    for msgJ in consumer:\r\n",
        "        tweet = json.loads(msgJ.value)\r\n",
        "        row = { \"Screen_name\" : tweet[0] , \r\n",
        "               \"Name\" : tweet[1] , \r\n",
        "                        \"Text\" : tweet[2] , \r\n",
        "                            \"Followers\" : tweet[3] ,\r\n",
        "                                \"Number_Retweet\" : tweet[4] ,\r\n",
        "                                    \"Position\" : tweet[5],\r\n",
        "                                    \"Date_time\" : tweet[6],\r\n",
        "              \"Hashtags\": tweet[7]}\r\n",
        "        result = db.tysonjones.insert_one(row) #MONGO DB "
      ],
      "execution_count": null,
      "outputs": []
    }
  ]
}